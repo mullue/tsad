{
 "cells": [
  {
   "cell_type": "markdown",
   "metadata": {},
   "source": [
    "## 1. Kinesis Analytics를 이용한 실시간 이상감지"
   ]
  },
  {
   "cell_type": "markdown",
   "metadata": {},
   "source": [
    "The algorithm starts developing the machine learning model using current records in the stream when you start the application. The algorithm does not use older records in the stream for machine learning, nor does it use statistics from previous executions of the application."
   ]
  },
  {
   "cell_type": "code",
   "execution_count": 1,
   "metadata": {},
   "outputs": [],
   "source": [
    "import sys"
   ]
  },
  {
   "cell_type": "code",
   "execution_count": 2,
   "metadata": {},
   "outputs": [
    {
     "name": "stdout",
     "output_type": "stream",
     "text": [
      "Requirement already up-to-date: pip in /home/ec2-user/anaconda3/envs/pytorch_p36/lib/python3.6/site-packages (20.2.1)\n",
      "Requirement already satisfied: sklearn-pandas in /home/ec2-user/anaconda3/envs/pytorch_p36/lib/python3.6/site-packages (2.0.0)\n",
      "Requirement already satisfied: numpy>=1.18.1 in /home/ec2-user/anaconda3/envs/pytorch_p36/lib/python3.6/site-packages (from sklearn-pandas) (1.18.1)\n",
      "Requirement already satisfied: scikit-learn>=0.23.0 in /home/ec2-user/anaconda3/envs/pytorch_p36/lib/python3.6/site-packages (from sklearn-pandas) (0.23.2)\n",
      "Requirement already satisfied: pandas>=1.0.5 in /home/ec2-user/anaconda3/envs/pytorch_p36/lib/python3.6/site-packages (from sklearn-pandas) (1.1.0)\n",
      "Requirement already satisfied: scipy>=1.4.1 in /home/ec2-user/anaconda3/envs/pytorch_p36/lib/python3.6/site-packages (from sklearn-pandas) (1.4.1)\n",
      "Requirement already satisfied: threadpoolctl>=2.0.0 in /home/ec2-user/anaconda3/envs/pytorch_p36/lib/python3.6/site-packages (from scikit-learn>=0.23.0->sklearn-pandas) (2.1.0)\n",
      "Requirement already satisfied: joblib>=0.11 in /home/ec2-user/anaconda3/envs/pytorch_p36/lib/python3.6/site-packages (from scikit-learn>=0.23.0->sklearn-pandas) (0.14.1)\n",
      "Requirement already satisfied: pytz>=2017.2 in /home/ec2-user/anaconda3/envs/pytorch_p36/lib/python3.6/site-packages (from pandas>=1.0.5->sklearn-pandas) (2019.3)\n",
      "Requirement already satisfied: python-dateutil>=2.7.3 in /home/ec2-user/anaconda3/envs/pytorch_p36/lib/python3.6/site-packages (from pandas>=1.0.5->sklearn-pandas) (2.8.1)\n",
      "Requirement already satisfied: six>=1.5 in /home/ec2-user/anaconda3/envs/pytorch_p36/lib/python3.6/site-packages (from python-dateutil>=2.7.3->pandas>=1.0.5->sklearn-pandas) (1.14.0)\n",
      "Requirement already satisfied: awswrangler in /home/ec2-user/anaconda3/envs/pytorch_p36/lib/python3.6/site-packages (1.7.0)\n",
      "Requirement already satisfied: s3fs==0.4.2 in /home/ec2-user/anaconda3/envs/pytorch_p36/lib/python3.6/site-packages (from awswrangler) (0.4.2)\n",
      "Requirement already satisfied: pymysql<0.11.0,>=0.9.0 in /home/ec2-user/anaconda3/envs/pytorch_p36/lib/python3.6/site-packages (from awswrangler) (0.10.0)\n",
      "Requirement already satisfied: SQLAlchemy~=1.3.10 in /home/ec2-user/anaconda3/envs/pytorch_p36/lib/python3.6/site-packages (from awswrangler) (1.3.15)\n",
      "Requirement already satisfied: pandas<1.2.0,>=1.0.0 in /home/ec2-user/anaconda3/envs/pytorch_p36/lib/python3.6/site-packages (from awswrangler) (1.1.0)\n",
      "Requirement already satisfied: sqlalchemy-redshift<0.9.0,>=0.7.0 in /home/ec2-user/anaconda3/envs/pytorch_p36/lib/python3.6/site-packages (from awswrangler) (0.8.1)\n",
      "Requirement already satisfied: boto3<2.0.0,>=1.12.49 in /home/ec2-user/anaconda3/envs/pytorch_p36/lib/python3.6/site-packages (from awswrangler) (1.14.16)\n",
      "Requirement already satisfied: pyarrow~=1.0.0 in /home/ec2-user/anaconda3/envs/pytorch_p36/lib/python3.6/site-packages (from awswrangler) (1.0.0)\n",
      "Requirement already satisfied: numpy<1.20.0,>=1.18.0 in /home/ec2-user/anaconda3/envs/pytorch_p36/lib/python3.6/site-packages (from awswrangler) (1.18.1)\n",
      "Requirement already satisfied: psycopg2-binary~=2.8.0 in /home/ec2-user/anaconda3/envs/pytorch_p36/lib/python3.6/site-packages (from awswrangler) (2.8.5)\n",
      "Requirement already satisfied: botocore<2.0.0,>=1.15.49 in /home/ec2-user/anaconda3/envs/pytorch_p36/lib/python3.6/site-packages (from awswrangler) (1.17.16)\n",
      "Requirement already satisfied: fsspec>=0.6.0 in /home/ec2-user/anaconda3/envs/pytorch_p36/lib/python3.6/site-packages (from s3fs==0.4.2->awswrangler) (0.7.1)\n",
      "Requirement already satisfied: pytz>=2017.2 in /home/ec2-user/anaconda3/envs/pytorch_p36/lib/python3.6/site-packages (from pandas<1.2.0,>=1.0.0->awswrangler) (2019.3)\n",
      "Requirement already satisfied: python-dateutil>=2.7.3 in /home/ec2-user/anaconda3/envs/pytorch_p36/lib/python3.6/site-packages (from pandas<1.2.0,>=1.0.0->awswrangler) (2.8.1)\n",
      "Requirement already satisfied: packaging in /home/ec2-user/anaconda3/envs/pytorch_p36/lib/python3.6/site-packages (from sqlalchemy-redshift<0.9.0,>=0.7.0->awswrangler) (20.3)\n",
      "Requirement already satisfied: jmespath<1.0.0,>=0.7.1 in /home/ec2-user/anaconda3/envs/pytorch_p36/lib/python3.6/site-packages (from boto3<2.0.0,>=1.12.49->awswrangler) (0.9.4)\n",
      "Requirement already satisfied: s3transfer<0.4.0,>=0.3.0 in /home/ec2-user/anaconda3/envs/pytorch_p36/lib/python3.6/site-packages (from boto3<2.0.0,>=1.12.49->awswrangler) (0.3.3)\n",
      "Requirement already satisfied: docutils<0.16,>=0.10 in /home/ec2-user/anaconda3/envs/pytorch_p36/lib/python3.6/site-packages (from botocore<2.0.0,>=1.15.49->awswrangler) (0.15.2)\n",
      "Requirement already satisfied: urllib3<1.26,>=1.20; python_version != \"3.4\" in /home/ec2-user/anaconda3/envs/pytorch_p36/lib/python3.6/site-packages (from botocore<2.0.0,>=1.15.49->awswrangler) (1.25.8)\n",
      "Requirement already satisfied: six>=1.5 in /home/ec2-user/anaconda3/envs/pytorch_p36/lib/python3.6/site-packages (from python-dateutil>=2.7.3->pandas<1.2.0,>=1.0.0->awswrangler) (1.14.0)\n",
      "Requirement already satisfied: pyparsing>=2.0.2 in /home/ec2-user/anaconda3/envs/pytorch_p36/lib/python3.6/site-packages (from packaging->sqlalchemy-redshift<0.9.0,>=0.7.0->awswrangler) (2.4.6)\n"
     ]
    }
   ],
   "source": [
    "!{sys.executable} -m pip install --upgrade pip\n",
    "!{sys.executable} -m pip install sklearn-pandas\n",
    "!{sys.executable} -m pip install awswrangler"
   ]
  },
  {
   "cell_type": "code",
   "execution_count": 3,
   "metadata": {},
   "outputs": [],
   "source": [
    "import json\n",
    "import random\n",
    "import boto3\n",
    "import os\n",
    "import time\n",
    "import numpy as np\n",
    "import pandas as pd\n",
    "import awswrangler as wr"
   ]
  },
  {
   "cell_type": "code",
   "execution_count": 4,
   "metadata": {},
   "outputs": [],
   "source": [
    "from sklearn.impute import SimpleImputer\n",
    "from sklearn.feature_extraction.text import TfidfVectorizer\n",
    "from sklearn_pandas import DataFrameMapper\n",
    "from sklearn.preprocessing import StandardScaler\n",
    "from sklearn.preprocessing import OneHotEncoder\n",
    "from sklearn.preprocessing import LabelEncoder"
   ]
  },
  {
   "cell_type": "code",
   "execution_count": 5,
   "metadata": {},
   "outputs": [],
   "source": [
    "kinesis_client = boto3.client('kinesis')\n",
    "kinesis_analytics = boto3.client('kinesisanalytics')"
   ]
  },
  {
   "cell_type": "code",
   "execution_count": 6,
   "metadata": {},
   "outputs": [
    {
     "data": {
      "text/plain": [
       "'s3://sagemaker-experiments-us-east-2-322537213286'"
      ]
     },
     "execution_count": 6,
     "metadata": {},
     "output_type": "execute_result"
    }
   ],
   "source": [
    "sess = boto3.Session()\n",
    "\n",
    "# create a s3 bucket to hold data, note that your account might already created a bucket with the same name\n",
    "account_id = sess.client('sts').get_caller_identity()[\"Account\"]\n",
    "job_bucket = 's3://sagemaker-experiments-{}-{}'.format(sess.region_name, account_id)\n",
    "job_bucket"
   ]
  },
  {
   "cell_type": "markdown",
   "metadata": {},
   "source": [
    "### 1.1 Input/Output Create_stream 생성"
   ]
  },
  {
   "cell_type": "code",
   "execution_count": 7,
   "metadata": {},
   "outputs": [
    {
     "name": "stdout",
     "output_type": "stream",
     "text": [
      "Stream clickstream_input under account 322537213286 already exists.\n"
     ]
    }
   ],
   "source": [
    "data_stream = ['clickstream_input', 'clickstream_output']\n",
    "\n",
    "try:\n",
    "    for stream in data_stream:\n",
    "        kinesis_client.create_stream(\n",
    "            StreamName=stream,\n",
    "            ShardCount=1\n",
    "        )\n",
    "except Exception as e:\n",
    "    if e.response['Error']['Code'] == 'ResourceInUseException':\n",
    "        print(e.response['message'])\n",
    "    else:\n",
    "        print(e.response['Error']['Code'])\n",
    "    "
   ]
  },
  {
   "cell_type": "code",
   "execution_count": 8,
   "metadata": {},
   "outputs": [],
   "source": [
    "# Wait until all streams are created\n",
    "result = {}\n",
    "waiter = kinesis_client.get_waiter('stream_exists')\n",
    "for stream in data_stream:\n",
    "    waiter.wait(StreamName=stream)\n",
    "    response = kinesis_client.describe_stream(StreamName=stream)\n",
    "    result[stream] = response[\"StreamDescription\"][\"StreamARN\"]"
   ]
  },
  {
   "cell_type": "markdown",
   "metadata": {},
   "source": [
    "### 1.2 IAM 생성"
   ]
  },
  {
   "cell_type": "code",
   "execution_count": 9,
   "metadata": {},
   "outputs": [],
   "source": [
    "region = boto3.Session().region_name\n",
    "\n",
    "iam = boto3.client('iam')\n",
    "sts = boto3.client('sts')"
   ]
  },
  {
   "cell_type": "code",
   "execution_count": 10,
   "metadata": {
    "scrolled": false
   },
   "outputs": [
    {
     "data": {
      "text/plain": [
       "'kinesis-analytics-us-east-2'"
      ]
     },
     "execution_count": 10,
     "metadata": {},
     "output_type": "execute_result"
    }
   ],
   "source": [
    "kinesis_role_name = 'kinesis-analytics-{}'.format(region)\n",
    "kinesis_analytics_policy_name=kinesis_role_name + '_policy'\n",
    "kinesis_role_name"
   ]
  },
  {
   "cell_type": "code",
   "execution_count": 11,
   "metadata": {
    "scrolled": true
   },
   "outputs": [],
   "source": [
    "kinesis_assume_role={\n",
    "  \"Version\": \"2012-10-17\",\n",
    "  \"Statement\": [\n",
    "    {\n",
    "      \"Effect\": \"Allow\",\n",
    "      \"Principal\": {\n",
    "        \"Service\": \"kinesisanalytics.amazonaws.com\"\n",
    "      },\n",
    "      \"Action\": \"sts:AssumeRole\"\n",
    "    }\n",
    "  ]\n",
    "}"
   ]
  },
  {
   "cell_type": "code",
   "execution_count": 12,
   "metadata": {},
   "outputs": [],
   "source": [
    "kinesis_analytics_policy = {\n",
    "  \"Version\": \"2012-10-17\",\n",
    "  \"Statement\": [\n",
    "    {\n",
    "      \"Sid\": \"ReadInputKinesis\",\n",
    "      \"Effect\": \"Allow\",\n",
    "      \"Action\": [\n",
    "        \"kinesis:DescribeStream\",\n",
    "        \"kinesis:GetShardIterator\",\n",
    "        \"kinesis:GetRecords\"\n",
    "      ],\n",
    "      \"Resource\": [\n",
    "        result['clickstream_input']\n",
    "      ]\n",
    "    },\n",
    "    {\n",
    "      \"Sid\": \"WriteOutputKinesis\",\n",
    "      \"Effect\": \"Allow\",\n",
    "      \"Action\": [\n",
    "        \"kinesis:DescribeStream\",\n",
    "        \"kinesis:PutRecord\",\n",
    "        \"kinesis:PutRecords\"\n",
    "      ],\n",
    "      \"Resource\": [\n",
    "        result['clickstream_output']\n",
    "      ]\n",
    "    }\n",
    "  ]\n",
    "}"
   ]
  },
  {
   "cell_type": "code",
   "execution_count": 13,
   "metadata": {},
   "outputs": [
    {
     "name": "stdout",
     "output_type": "stream",
     "text": [
      "User already exists\n"
     ]
    }
   ],
   "source": [
    "try:\n",
    "    role_res = iam.create_role(\n",
    "        Path='/service-role/',\n",
    "        RoleName=kinesis_role_name,\n",
    "        AssumeRolePolicyDocument=json.dumps(kinesis_assume_role),\n",
    "    )\n",
    "except Exception as e:\n",
    "    if e.response['Error']['Code'] == 'EntityAlreadyExists':\n",
    "        role_res = iam.get_role(\n",
    "            RoleName=kinesis_role_name\n",
    "        )\n",
    "        print(\"User already exists\")\n",
    "    else:\n",
    "        print(\"Unexpected error: %s\" % e)"
   ]
  },
  {
   "cell_type": "code",
   "execution_count": 14,
   "metadata": {},
   "outputs": [
    {
     "name": "stdout",
     "output_type": "stream",
     "text": [
      "User already exists\n"
     ]
    }
   ],
   "source": [
    "try:\n",
    "    policy_res = iam.create_policy(\n",
    "        PolicyName=kinesis_analytics_policy_name,\n",
    "        Path='/',\n",
    "        PolicyDocument=json.dumps(kinesis_analytics_policy)\n",
    "    )\n",
    "except Exception as e:\n",
    "    if e.response['Error']['Code'] == 'EntityAlreadyExists':\n",
    "        PolicyArn ='arn:aws:iam::{}:policy/{}'.format(account_id, kinesis_analytics_policy_name)\n",
    "        policy_res = iam.get_policy(\n",
    "            PolicyArn=PolicyArn\n",
    "        )\n",
    "        print(\"User already exists\")\n",
    "    else:\n",
    "        print(\"Unexpected error: %s\" % e)"
   ]
  },
  {
   "cell_type": "code",
   "execution_count": 15,
   "metadata": {},
   "outputs": [
    {
     "name": "stdout",
     "output_type": "stream",
     "text": [
      "Policy has been succesfully attached to role: kinesis-analytics-us-east-2\n"
     ]
    }
   ],
   "source": [
    "from botocore.exceptions import ClientError\n",
    "\n",
    "try:\n",
    "    attach_res = iam.attach_role_policy(\n",
    "        PolicyArn=policy_res['Policy']['Arn'],\n",
    "        RoleName=kinesis_role_name\n",
    "    )\n",
    "    print(\"Policy has been succesfully attached to role: %s\" % kinesis_role_name)\n",
    "except Exception as e:\n",
    "    print(\"Unexpected error: %s\" % e)"
   ]
  },
  {
   "cell_type": "markdown",
   "metadata": {},
   "source": [
    "### 1.3 Create Application"
   ]
  },
  {
   "cell_type": "code",
   "execution_count": 16,
   "metadata": {},
   "outputs": [],
   "source": [
    "sql_query = open('random_cut_forest_with_explanation.sql', \"r\").read()"
   ]
  },
  {
   "cell_type": "code",
   "execution_count": 17,
   "metadata": {},
   "outputs": [],
   "source": [
    "kinesis_ApplicationName='clickstream-analytics-rcf-explanation-{}'.format(int(time.time()))"
   ]
  },
  {
   "cell_type": "code",
   "execution_count": 18,
   "metadata": {},
   "outputs": [],
   "source": [
    "try:\n",
    "    response = kinesis_analytics.create_application(\n",
    "        ApplicationName=kinesis_ApplicationName,\n",
    "        ApplicationCode=sql_query,\n",
    "        Inputs=[\n",
    "            {\n",
    "                'NamePrefix': 'SOURCE_SQL_STREAM',\n",
    "                'KinesisStreamsInput': {\n",
    "                    'ResourceARN': result[data_stream[0]],\n",
    "                    'RoleARN': role_res['Role']['Arn']\n",
    "                },\n",
    "                'InputSchema': {\n",
    "                    'RecordFormat': {\n",
    "                        'RecordFormatType': 'JSON',\n",
    "                        'MappingParameters': {\n",
    "                            'JSONMappingParameters': {\n",
    "                                'RecordRowPath': '$'\n",
    "                            },\n",
    "                        }\n",
    "                    },\n",
    "                    'RecordEncoding': 'UTF-8',\n",
    "                    'RecordColumns': [\n",
    "                                {\n",
    "                                    \"SqlType\": \"TIMESTAMP\",\n",
    "                                    \"Name\": \"TIMESTAMPS\",\n",
    "                                    \"Mapping\": \"$.timestamp\"\n",
    "                                },\n",
    "                                {\n",
    "                                    \"SqlType\": \"INTEGER\",\n",
    "                                    \"Name\": \"CLICKSTREAM_ID\",\n",
    "                                    \"Mapping\": \"$.clickstream_id\"\n",
    "                                },\n",
    "                                {\n",
    "                                    \"SqlType\": \"INTEGER\",\n",
    "                                    \"Name\": \"URL\",\n",
    "                                    \"Mapping\": \"$.url\"\n",
    "                                },\n",
    "                                {\n",
    "                                    \"SqlType\": \"INTEGER\",\n",
    "                                    \"Name\": \"IS_PURCHASED\",\n",
    "                                    \"Mapping\": \"$.is_purchased\"\n",
    "                                },\n",
    "                                {\n",
    "                                    \"SqlType\": \"DOUBLE\",\n",
    "                                    \"Name\": \"IS_PAGE_ERRORED\",\n",
    "                                    \"Mapping\": \"$.is_page_errored\"\n",
    "                                },\n",
    "                                {\n",
    "                                    \"SqlType\": \"INTEGER\",\n",
    "                                    \"Name\": \"USER_SESSION_ID\",\n",
    "                                    \"Mapping\": \"$.user_session_id\"\n",
    "                                },\n",
    "                                {\n",
    "                                    \"SqlType\": \"INTEGER\",\n",
    "                                    \"Name\": \"CITY\",\n",
    "                                    \"Mapping\": \"$.city\"\n",
    "                                },\n",
    "                                {\n",
    "                                    \"SqlType\": \"INTEGER\",\n",
    "                                    \"Name\": \"STATE\",\n",
    "                                    \"Mapping\": \"$.state\"\n",
    "                                },\n",
    "                                {\n",
    "                                    \"SqlType\": \"INTEGER\",\n",
    "                                    \"Name\": \"COUNTRY\",\n",
    "                                    \"Mapping\": \"$.country\"\n",
    "                                },\n",
    "                                {\n",
    "                                    \"SqlType\": \"INTEGER\",\n",
    "                                    \"Name\": \"BIRTH_DT\",\n",
    "                                    \"Mapping\": \"$.BIRTH_DT\"\n",
    "                                },\n",
    "                                {\n",
    "                                    \"SqlType\": \"INTEGER\",\n",
    "                                    \"Name\": \"GENDER_CD\",\n",
    "                                    \"Mapping\": \"$.GENDER_CD\"\n",
    "                                }\n",
    "                    ],\n",
    "                    \"RecordFormat\": {\n",
    "                        \"MappingParameters\": {\n",
    "                            'JSONMappingParameters': {\n",
    "                                'RecordRowPath': '$'\n",
    "                            },\n",
    "                        },\n",
    "                        \"RecordFormatType\": \"JSON\"\n",
    "                      }\n",
    "                }\n",
    "            },\n",
    "        ],\n",
    "        Outputs=[\n",
    "            {\n",
    "                'Name': 'DESTINATION_SQL_STREAM',\n",
    "                'DestinationSchema': {\n",
    "                    'RecordFormatType': 'JSON'\n",
    "                },\n",
    "                \"KinesisStreamsOutput\": {\n",
    "                    \"ResourceARN\": result[data_stream[1]],\n",
    "                    \"RoleARN\": role_res['Role']['Arn']\n",
    "                }\n",
    "            },\n",
    "        ],\n",
    "    )\n",
    "except Exception as e:\n",
    "    if e.response['Error']['Code'] == 'ResourceInUseException':\n",
    "        print(e.response['message'])\n",
    "    else:\n",
    "        print(e)"
   ]
  },
  {
   "cell_type": "markdown",
   "metadata": {},
   "source": [
    "### 1.5 Start Application"
   ]
  },
  {
   "cell_type": "code",
   "execution_count": 19,
   "metadata": {},
   "outputs": [],
   "source": [
    "response = kinesis_analytics.describe_application(\n",
    "    ApplicationName=kinesis_ApplicationName\n",
    ")\n",
    "\n",
    "application = response[\"ApplicationDetail\"]\n",
    "inputId = application['InputDescriptions'][0]['InputId']\n",
    "\n",
    "try:\n",
    "    kinesis_analytics.start_application(ApplicationName=kinesis_ApplicationName,\n",
    "                                     InputConfigurations=[{\n",
    "                                       \"Id\": inputId,\n",
    "                                       \"InputStartingPositionConfiguration\": {\n",
    "                                         \"InputStartingPosition\": \"NOW\"\n",
    "                                       }\n",
    "                                     }])\n",
    "except Exception as e:\n",
    "    if e.response['Error']['Code'] == 'ResourceInUseException':\n",
    "        print(e.response['message'])\n",
    "    else:\n",
    "        print(e.response['Error']['Code'])"
   ]
  },
  {
   "cell_type": "code",
   "execution_count": 20,
   "metadata": {},
   "outputs": [
    {
     "name": "stdout",
     "output_type": "stream",
     "text": [
      "Starting ...............................RUNNING\n"
     ]
    }
   ],
   "source": [
    "# Wait until application starts running\n",
    "response = kinesis_analytics.describe_application(\n",
    "    ApplicationName=kinesis_ApplicationName\n",
    ")\n",
    "status = response[\"ApplicationDetail\"][\"ApplicationStatus\"]\n",
    "\n",
    "sys.stdout.write('Starting ')\n",
    "while status != \"RUNNING\":\n",
    "    sys.stdout.write('.')\n",
    "    sys.stdout.flush()\n",
    "    time.sleep(1)\n",
    "    response = kinesis_analytics.describe_application(\n",
    "      ApplicationName=kinesis_ApplicationName\n",
    "    )\n",
    "    status = response[\"ApplicationDetail\"][\"ApplicationStatus\"]\n",
    "sys.stdout.write('RUNNING')\n",
    "sys.stdout.write(os.linesep)"
   ]
  },
  {
   "cell_type": "markdown",
   "metadata": {},
   "source": [
    "###  1.7 Sending Input Stream"
   ]
  },
  {
   "cell_type": "code",
   "execution_count": 21,
   "metadata": {},
   "outputs": [
    {
     "data": {
      "text/html": [
       "<div>\n",
       "<style scoped>\n",
       "    .dataframe tbody tr th:only-of-type {\n",
       "        vertical-align: middle;\n",
       "    }\n",
       "\n",
       "    .dataframe tbody tr th {\n",
       "        vertical-align: top;\n",
       "    }\n",
       "\n",
       "    .dataframe thead th {\n",
       "        text-align: right;\n",
       "    }\n",
       "</style>\n",
       "<table border=\"1\" class=\"dataframe\">\n",
       "  <thead>\n",
       "    <tr style=\"text-align: right;\">\n",
       "      <th></th>\n",
       "      <th>SWID</th>\n",
       "      <th>BIRTH_DT</th>\n",
       "      <th>GENDER_CD</th>\n",
       "    </tr>\n",
       "  </thead>\n",
       "  <tbody>\n",
       "    <tr>\n",
       "      <th>0</th>\n",
       "      <td>0001BDD9-EABF-4D0D-81BD-D9EABFCD0D7D</td>\n",
       "      <td>8-Apr-84</td>\n",
       "      <td>F</td>\n",
       "    </tr>\n",
       "    <tr>\n",
       "      <th>1</th>\n",
       "      <td>00071AA7-86D2-4EB9-871A-A786D27EB9BA</td>\n",
       "      <td>7-Feb-88</td>\n",
       "      <td>F</td>\n",
       "    </tr>\n",
       "    <tr>\n",
       "      <th>2</th>\n",
       "      <td>00071B7D-31AF-4D85-871B-7D31AFFD852E</td>\n",
       "      <td>22-Oct-64</td>\n",
       "      <td>F</td>\n",
       "    </tr>\n",
       "    <tr>\n",
       "      <th>3</th>\n",
       "      <td>0007967E-F188-4598-9C7C-E64390482CFB</td>\n",
       "      <td>1-Jun-66</td>\n",
       "      <td>M</td>\n",
       "    </tr>\n",
       "    <tr>\n",
       "      <th>4</th>\n",
       "      <td>000B90B2-92DC-4A7A-8B90-B292DC9A7A71</td>\n",
       "      <td>13-Jun-84</td>\n",
       "      <td>M</td>\n",
       "    </tr>\n",
       "  </tbody>\n",
       "</table>\n",
       "</div>"
      ],
      "text/plain": [
       "                                   SWID   BIRTH_DT GENDER_CD\n",
       "0  0001BDD9-EABF-4D0D-81BD-D9EABFCD0D7D   8-Apr-84         F\n",
       "1  00071AA7-86D2-4EB9-871A-A786D27EB9BA   7-Feb-88         F\n",
       "2  00071B7D-31AF-4D85-871B-7D31AFFD852E  22-Oct-64         F\n",
       "3  0007967E-F188-4598-9C7C-E64390482CFB   1-Jun-66         M\n",
       "4  000B90B2-92DC-4A7A-8B90-B292DC9A7A71  13-Jun-84         M"
      ]
     },
     "execution_count": 21,
     "metadata": {},
     "output_type": "execute_result"
    }
   ],
   "source": [
    "users = pd.read_csv('users.tsv', delimiter='\\t')\n",
    "users.head(5)"
   ]
  },
  {
   "cell_type": "code",
   "execution_count": 22,
   "metadata": {},
   "outputs": [
    {
     "data": {
      "text/html": [
       "<div>\n",
       "<style scoped>\n",
       "    .dataframe tbody tr th:only-of-type {\n",
       "        vertical-align: middle;\n",
       "    }\n",
       "\n",
       "    .dataframe tbody tr th {\n",
       "        vertical-align: top;\n",
       "    }\n",
       "\n",
       "    .dataframe thead th {\n",
       "        text-align: right;\n",
       "    }\n",
       "</style>\n",
       "<table border=\"1\" class=\"dataframe\">\n",
       "  <thead>\n",
       "    <tr style=\"text-align: right;\">\n",
       "      <th></th>\n",
       "      <th>clickstream_id</th>\n",
       "      <th>IP address</th>\n",
       "      <th>url</th>\n",
       "      <th>is_purchased?</th>\n",
       "      <th>is_page_errored?</th>\n",
       "      <th>user_session_id</th>\n",
       "      <th>city</th>\n",
       "      <th>state</th>\n",
       "      <th>country</th>\n",
       "    </tr>\n",
       "    <tr>\n",
       "      <th>timestamp</th>\n",
       "      <th></th>\n",
       "      <th></th>\n",
       "      <th></th>\n",
       "      <th></th>\n",
       "      <th></th>\n",
       "      <th></th>\n",
       "      <th></th>\n",
       "      <th></th>\n",
       "      <th></th>\n",
       "    </tr>\n",
       "  </thead>\n",
       "  <tbody>\n",
       "    <tr>\n",
       "      <th>2012-03-01 00:00:19</th>\n",
       "      <td>1330588819</td>\n",
       "      <td>147.222.227.200</td>\n",
       "      <td>http://www.RL.com/</td>\n",
       "      <td>0</td>\n",
       "      <td>0.00000</td>\n",
       "      <td>AF8A0FDF-B1F8-474C-8CD7-8CA06A8E435B</td>\n",
       "      <td>spokane</td>\n",
       "      <td>wa</td>\n",
       "      <td>usa</td>\n",
       "    </tr>\n",
       "    <tr>\n",
       "      <th>2012-03-01 00:00:25</th>\n",
       "      <td>1330588825</td>\n",
       "      <td>99.49.96.163</td>\n",
       "      <td>http://www.RL.com/product/4004</td>\n",
       "      <td>0</td>\n",
       "      <td>1.00000</td>\n",
       "      <td>C9183A22-6E1D-4147-BDC9-D634FC957098</td>\n",
       "      <td>detroit</td>\n",
       "      <td>mi</td>\n",
       "      <td>usa</td>\n",
       "    </tr>\n",
       "    <tr>\n",
       "      <th>2012-03-01 00:00:27</th>\n",
       "      <td>1330588827</td>\n",
       "      <td>147.222.227.200</td>\n",
       "      <td>http://www.RL.com/</td>\n",
       "      <td>0</td>\n",
       "      <td>0.00000</td>\n",
       "      <td>AF8A0FDF-B1F8-474C-8CD7-8CA06A8E435B</td>\n",
       "      <td>spokane</td>\n",
       "      <td>wa</td>\n",
       "      <td>usa</td>\n",
       "    </tr>\n",
       "    <tr>\n",
       "      <th>2012-03-01 00:00:57</th>\n",
       "      <td>1330588857</td>\n",
       "      <td>69.114.3.205</td>\n",
       "      <td>http://www.RL.com/product/4004</td>\n",
       "      <td>0</td>\n",
       "      <td>0.00000</td>\n",
       "      <td>F761B842-9DDA-42CC-9F28-A6359B6C7219</td>\n",
       "      <td>east northport</td>\n",
       "      <td>ny</td>\n",
       "      <td>usa</td>\n",
       "    </tr>\n",
       "    <tr>\n",
       "      <th>2012-03-01 00:00:59</th>\n",
       "      <td>1330588859</td>\n",
       "      <td>71.217.29.209</td>\n",
       "      <td>http://www.RL.com/review/3004</td>\n",
       "      <td>0</td>\n",
       "      <td>0.59596</td>\n",
       "      <td>6FE1CB72-95C9-47F9-A1CB-7295C927F916</td>\n",
       "      <td>tacoma</td>\n",
       "      <td>wa</td>\n",
       "      <td>usa</td>\n",
       "    </tr>\n",
       "  </tbody>\n",
       "</table>\n",
       "</div>"
      ],
      "text/plain": [
       "                     clickstream_id       IP address  \\\n",
       "timestamp                                              \n",
       "2012-03-01 00:00:19      1330588819  147.222.227.200   \n",
       "2012-03-01 00:00:25      1330588825     99.49.96.163   \n",
       "2012-03-01 00:00:27      1330588827  147.222.227.200   \n",
       "2012-03-01 00:00:57      1330588857     69.114.3.205   \n",
       "2012-03-01 00:00:59      1330588859    71.217.29.209   \n",
       "\n",
       "                                                url  is_purchased?  \\\n",
       "timestamp                                                            \n",
       "2012-03-01 00:00:19              http://www.RL.com/              0   \n",
       "2012-03-01 00:00:25  http://www.RL.com/product/4004              0   \n",
       "2012-03-01 00:00:27              http://www.RL.com/              0   \n",
       "2012-03-01 00:00:57  http://www.RL.com/product/4004              0   \n",
       "2012-03-01 00:00:59   http://www.RL.com/review/3004              0   \n",
       "\n",
       "                     is_page_errored?                       user_session_id  \\\n",
       "timestamp                                                                     \n",
       "2012-03-01 00:00:19           0.00000  AF8A0FDF-B1F8-474C-8CD7-8CA06A8E435B   \n",
       "2012-03-01 00:00:25           1.00000  C9183A22-6E1D-4147-BDC9-D634FC957098   \n",
       "2012-03-01 00:00:27           0.00000  AF8A0FDF-B1F8-474C-8CD7-8CA06A8E435B   \n",
       "2012-03-01 00:00:57           0.00000  F761B842-9DDA-42CC-9F28-A6359B6C7219   \n",
       "2012-03-01 00:00:59           0.59596  6FE1CB72-95C9-47F9-A1CB-7295C927F916   \n",
       "\n",
       "                               city state country  \n",
       "timestamp                                          \n",
       "2012-03-01 00:00:19         spokane    wa     usa  \n",
       "2012-03-01 00:00:25         detroit    mi     usa  \n",
       "2012-03-01 00:00:27         spokane    wa     usa  \n",
       "2012-03-01 00:00:57  east northport    ny     usa  \n",
       "2012-03-01 00:00:59          tacoma    wa     usa  "
      ]
     },
     "execution_count": 22,
     "metadata": {},
     "output_type": "execute_result"
    }
   ],
   "source": [
    "cs = pd.read_csv('clickstream-feed-generated.tsv', header=None, delimiter='|')\n",
    "cs.columns = pd.read_csv('clickstream-data-schema.txt', delimiter='|').columns\n",
    "cs['timestamp'] = cs['timestamp'].astype('datetime64')\n",
    "cs.set_index('timestamp', inplace=True)\n",
    "cs.head(5)"
   ]
  },
  {
   "cell_type": "code",
   "execution_count": 23,
   "metadata": {},
   "outputs": [],
   "source": [
    "r_users = users.rename({'SWID':'user_session_id'}, axis='columns')\n",
    "r_cs = cs.rename({'IP address':'ip_address','is_purchased?':'is_purchased'\n",
    "                ,'is_page_errored?':'is_page_errored', }, axis='columns')\n",
    "r_cs = r_cs.reset_index()"
   ]
  },
  {
   "cell_type": "code",
   "execution_count": 24,
   "metadata": {},
   "outputs": [],
   "source": [
    "## Data merge\n",
    "r_css = pd.merge(r_cs, r_users, how='left')\n",
    "\n",
    "## Delete NaN and dup-data for timestamp\n",
    "r_css = r_css.dropna(axis=0)\n",
    "# r_css = r_css.drop_duplicates(['timestamp'])\n",
    "r_css_sorted = r_css.sort_values(by=['timestamp'])\n",
    "# r_css_sorted = r_css_sorted.set_index('timestamp')"
   ]
  },
  {
   "cell_type": "code",
   "execution_count": 25,
   "metadata": {},
   "outputs": [],
   "source": [
    "# These features can be parsed as numeric.\n",
    "timestamp = ['timestamp']\n",
    "# These features contain a relatively small number of unique items.\n",
    "clickstream_id = ['clickstream_id']\n",
    "url = ['url']\n",
    "is_purchased = ['is_purchased']\n",
    "is_page_errored = ['is_page_errored']\n",
    "user_session_id = ['user_session_id']\n",
    "city = ['city']\n",
    "state = ['state']\n",
    "country = ['country']\n",
    "birth_dt = ['BIRTH_DT']\n",
    "gender_cd = ['GENDER_CD']"
   ]
  },
  {
   "cell_type": "code",
   "execution_count": 26,
   "metadata": {},
   "outputs": [],
   "source": [
    "mapper = DataFrameMapper([\n",
    "        ( clickstream_id, LabelEncoder()), \n",
    "        ( url, LabelEncoder()),\n",
    "        (is_purchased, LabelEncoder()),\n",
    "        ( is_page_errored, [SimpleImputer(strategy='constant', missing_values=np.nan)]), \n",
    "        ( user_session_id, LabelEncoder()),\n",
    "        ( city, LabelEncoder()), \n",
    "        ( state, LabelEncoder()), \n",
    "        ( country, LabelEncoder()), \n",
    "        ( birth_dt, LabelEncoder()), \n",
    "        ( gender_cd, LabelEncoder()),\n",
    "\n",
    "    ], \n",
    "    df_out=True\n",
    ")"
   ]
  },
  {
   "cell_type": "code",
   "execution_count": 27,
   "metadata": {},
   "outputs": [],
   "source": [
    "import time, datetime, sched"
   ]
  },
  {
   "cell_type": "code",
   "execution_count": 28,
   "metadata": {},
   "outputs": [],
   "source": [
    "def data_list(index=0, duration=0, check_data=[]):\n",
    "    check_data.append(list(r_css_sorted.iloc[index]))\n",
    "    print(\"{}    {}      {}\".format(index, duration, str(list(r_css_sorted.iloc[index]))))\n",
    "#     print(str(list(r_css_sorted.iloc[index]))+'\\n')"
   ]
  },
  {
   "cell_type": "code",
   "execution_count": 29,
   "metadata": {},
   "outputs": [],
   "source": [
    "def make_kinesis_data(df, i, col_names):\n",
    "    kinesis_data = {}\n",
    "    kinesis_data['timestamp']=str(df['timestamp'][i])\n",
    "    for col_name in col_names:\n",
    "        if col_name not in ['timestamp']:\n",
    "            if col_name in ['is_page_errored']:\n",
    "                kinesis_data[col_name]=float(df.iloc[i][col_name])\n",
    "            else:\n",
    "                kinesis_data[col_name]=int(df.iloc[i][col_name])\n",
    "\n",
    "    return kinesis_data"
   ]
  },
  {
   "cell_type": "code",
   "execution_count": 33,
   "metadata": {},
   "outputs": [],
   "source": [
    "def s3_sink(shardIterator):\n",
    "    rows = []\n",
    "    response = kinesis_client.get_records(ShardIterator=shardIterator)\n",
    "    records = response[\"Records\"]\n",
    "\n",
    "    try:\n",
    "        while len(records) > 0:\n",
    "            parsed_records = []\n",
    "            for rec in records:\n",
    "                parsed_record = json.loads(rec[\"Data\"])\n",
    "                parsed_records.append(parsed_record)\n",
    "            rows.extend(parsed_records)\n",
    "            time.sleep(1)\n",
    "            shardIterator = response[\"NextShardIterator\"]\n",
    "            response = kinesis_client.get_records(ShardIterator=shardIterator)\n",
    "            records = response[\"Records\"]\n",
    "        flag = rows[0]['TIMESTAMPS'].replace(\":\",\"-\").replace(\" \",\"-\").replace(\".\",\"-\")\n",
    "        s3_save_path = '{}/{}/{}'.format(job_bucket, 'kinesis-analytics', flag)\n",
    "        wr.s3.to_csv(\n",
    "            df=pd.DataFrame(rows),\n",
    "            path=s3_save_path\n",
    "        )\n",
    "    except:\n",
    "        sys.stdout.write(\"[ExpiredIteratorException] Iterator expired.\")\n",
    "        pass\n",
    "    return "
   ]
  },
  {
   "cell_type": "code",
   "execution_count": 34,
   "metadata": {},
   "outputs": [],
   "source": [
    "total_cnt = 500"
   ]
  },
  {
   "cell_type": "code",
   "execution_count": null,
   "metadata": {
    "scrolled": false
   },
   "outputs": [
    {
     "name": "stdout",
     "output_type": "stream",
     "text": [
      "0    0      [Timestamp('2012-03-01 00:01:30'), 1330588890, '68.5.184.133', 'http://www.RL.com/', 0, 0.0, '60C8049D-C1A2-41C2-B503-6C1200424C49', 'mission viejo', 'ca', 'usa', '13-Jul-85', 'M']\n",
      "1    0      [Timestamp('2012-03-01 00:01:31'), 1330588891, '68.5.184.133', 'http://www.RL.com/reco/2001', 0, 0.919192, '60C8049D-C1A2-41C2-B503-6C1200424C49', 'mission viejo', 'ca', 'usa', '13-Jul-85', 'M']\n",
      "2    0      [Timestamp('2012-03-01 00:02:19'), 1330588939, '68.5.184.133', 'http://www.RL.com/', 0, 0.0, '60C8049D-C1A2-41C2-B503-6C1200424C49', 'mission viejo', 'ca', 'usa', '13-Jul-85', 'M']\n",
      "3    1      [Timestamp('2012-03-01 00:02:28'), 1330588948, '50.8.107.4', 'http://www.RL.com/', 0, 0.0, 'A24EA63A-843F-4290-8B17-B7D16A204C96', 'denver', 'co', 'usa', '23-Feb-80', 'U']\n",
      "4    1      [Timestamp('2012-03-01 00:03:33'), 1330589013, '67.2.109.46', 'http://www.RL.com/', 0, 0.0, '6AF05C56-1AB3-4CB7-9584-7CDCB27BACFE', 'south jordan', 'ut', 'usa', '23-Jul-68', 'M']\n",
      "5    2      [Timestamp('2012-03-01 00:04:05'), 1330589045, '67.2.109.46', 'http://www.RL.com/', 0, 0.0, '6AF05C56-1AB3-4CB7-9584-7CDCB27BACFE', 'south jordan', 'ut', 'usa', '23-Jul-68', 'M']\n",
      "6    2      [Timestamp('2012-03-01 00:04:11'), 1330589051, '99.102.31.167', 'http://www.RL.com/', 0, 0.0, '7A7EC1B7-BAFE-431A-A4B5-0378A4CDE8CB', 'sacramento', 'ca', 'usa', '28-Feb-89', 'M']\n",
      "7    2      [Timestamp('2012-03-01 00:04:12'), 1330589052, '67.167.89.150', 'http://www.RL.com/product/4003', 0, 0.0, 'ABC5600A-6C6E-405F-9591-A8CDB824CD04', 'carol stream', 'il', 'usa', '1-May-89', 'F']\n",
      "8    2      [Timestamp('2012-03-01 00:04:13'), 1330589053, '99.102.31.167', 'http://www.RL.com/product/4005', 0, 0.0, '7A7EC1B7-BAFE-431A-A4B5-0378A4CDE8CB', 'sacramento', 'ca', 'usa', '28-Feb-89', 'M']\n"
     ]
    },
    {
     "name": "stderr",
     "output_type": "stream",
     "text": [
      "/home/ec2-user/anaconda3/envs/pytorch_p36/lib/python3.6/site-packages/sklearn/utils/validation.py:72: DataConversionWarning: A column-vector y was passed when a 1d array was expected. Please change the shape of y to (n_samples, ), for example using ravel().\n",
      "  return f(**kwargs)\n"
     ]
    },
    {
     "name": "stdout",
     "output_type": "stream",
     "text": [
      "9    2      [Timestamp('2012-03-01 00:04:45'), 1330589085, '24.9.63.79', 'http://www.RL.com/product/4001', 0, 0.0, 'DEADBDB9-274E-4119-8184-DA17A059D6CE', 'boulder', 'co', 'usa', '1-Nov-95', 'M']\n",
      "10    2      [Timestamp('2012-03-01 00:04:55'), 1330589095, '24.9.63.79', 'http://www.RL.com/', 0, 0.0, 'DEADBDB9-274E-4119-8184-DA17A059D6CE', 'boulder', 'co', 'usa', '1-Nov-95', 'M']\n",
      "11    2      [Timestamp('2012-03-01 00:04:57'), 1330589097, '24.9.63.79', 'http://www.RL.com/product/4004', 1, 0.0, 'DEADBDB9-274E-4119-8184-DA17A059D6CE', 'boulder', 'co', 'usa', '1-Nov-95', 'M']\n",
      "12    2      [Timestamp('2012-03-01 00:05:12'), 1330589112, '24.9.63.79', 'http://www.RL.com/', 0, 0.0, 'DEADBDB9-274E-4119-8184-DA17A059D6CE', 'boulder', 'co', 'usa', '1-Nov-95', 'M']\n",
      "13    2      [Timestamp('2012-03-01 00:05:22'), 1330589122, '99.102.31.167', 'http://www.RL.com/', 0, 0.0, '7A7EC1B7-BAFE-431A-A4B5-0378A4CDE8CB', 'sacramento', 'ca', 'usa', '28-Feb-89', 'M']\n",
      "14    2      [Timestamp('2012-03-01 00:05:32'), 1330589132, '24.9.63.79', 'http://www.RL.com/', 0, 0.0, 'DEADBDB9-274E-4119-8184-DA17A059D6CE', 'boulder', 'co', 'usa', '1-Nov-95', 'M']\n",
      "15    2      [Timestamp('2012-03-01 00:05:34'), 1330589134, '68.52.198.113', 'http://www.RL.com/product/4005', 0, 0.0, 'DA55421E-31B5-45E5-9542-1E31B575E5CC', 'nashville', 'tn', 'usa', '1-Jan-79', 'U']\n",
      "16    2      [Timestamp('2012-03-01 00:05:37'), 1330589137, '68.52.198.113', 'http://www.RL.com/', 0, 0.0, 'DA55421E-31B5-45E5-9542-1E31B575E5CC', 'nashville', 'tn', 'usa', '1-Jan-79', 'U']\n",
      "17    3      [Timestamp('2012-03-01 00:06:36'), 1330589196, '68.52.198.113', 'http://www.RL.com/', 0, 0.0, 'DA55421E-31B5-45E5-9542-1E31B575E5CC', 'nashville', 'tn', 'usa', '1-Jan-79', 'U']\n",
      "18    4      [Timestamp('2012-03-01 00:08:42'), 1330589322, '68.5.184.133', 'http://www.RL.com/product/4003', 0, 0.0, '60C8049D-C1A2-41C2-B503-6C1200424C49', 'mission viejo', 'ca', 'usa', '13-Jul-85', 'M']\n"
     ]
    },
    {
     "name": "stderr",
     "output_type": "stream",
     "text": [
      "/home/ec2-user/anaconda3/envs/pytorch_p36/lib/python3.6/site-packages/sklearn/utils/validation.py:72: DataConversionWarning: A column-vector y was passed when a 1d array was expected. Please change the shape of y to (n_samples, ), for example using ravel().\n",
      "  return f(**kwargs)\n"
     ]
    },
    {
     "name": "stdout",
     "output_type": "stream",
     "text": [
      "19    4      [Timestamp('2012-03-01 00:08:44'), 1330589324, '68.5.184.133', 'http://www.RL.com/review/3004', 0, 0.24242399999999997, '60C8049D-C1A2-41C2-B503-6C1200424C49', 'mission viejo', 'ca', 'usa', '13-Jul-85', 'M']\n",
      "20    4      [Timestamp('2012-03-01 00:08:52'), 1330589332, '50.8.107.4', 'http://www.RL.com/review/3004', 0, 0.323232, 'A24EA63A-843F-4290-8B17-B7D16A204C96', 'denver', 'co', 'usa', '23-Feb-80', 'U']\n",
      "21    5      [Timestamp('2012-03-01 00:09:26'), 1330589366, '98.228.34.12', 'http://www.RL.com/review/3004', 0, 0.666667, 'D956528D-3CAC-4035-BB1C-79A8D4F4996A', 'bloomington', 'in', 'usa', '3-Feb-86', 'F']\n",
      "22    5      [Timestamp('2012-03-01 00:09:26'), 1330589366, '98.228.34.12', 'http://www.RL.com/video/1001', 0, 0.666667, 'D956528D-3CAC-4035-BB1C-79A8D4F4996A', 'bloomington', 'in', 'usa', '3-Feb-86', 'F']\n",
      "23    5      [Timestamp('2012-03-01 00:09:34'), 1330589374, '98.228.34.12', 'http://www.RL.com/video/1001', 0, 0.747475, 'D956528D-3CAC-4035-BB1C-79A8D4F4996A', 'bloomington', 'in', 'usa', '3-Feb-86', 'F']\n",
      "24    5      [Timestamp('2012-03-01 00:09:58'), 1330589398, '207.62.158.62', 'http://www.RL.com/review/3002', 0, 0.989899, 'E1D2DE32-6F67-4A50-ABC1-102555658531', 'san luis obispo', 'ca', 'usa', '15-Nov-92', 'M']\n",
      "25    5      [Timestamp('2012-03-01 00:10:12'), 1330589412, '207.62.158.62', 'http://www.RL.com/reco/2001', 0, 0.12121199999999999, 'E1D2DE32-6F67-4A50-ABC1-102555658531', 'san luis obispo', 'ca', 'usa', '15-Nov-92', 'M']\n",
      "26    5      [Timestamp('2012-03-01 00:10:27'), 1330589427, '50.8.107.4', 'http://www.RL.com/video/1003', 0, 0.272727, 'A24EA63A-843F-4290-8B17-B7D16A204C96', 'denver', 'co', 'usa', '23-Feb-80', 'U']\n",
      "27    5      [Timestamp('2012-03-01 00:10:29'), 1330589429, '68.5.184.133', 'http://www.RL.com/review/3002', 0, 0.292929, '60C8049D-C1A2-41C2-B503-6C1200424C49', 'mission viejo', 'ca', 'usa', '13-Jul-85', 'M']\n",
      "28    5      [Timestamp('2012-03-01 00:10:29'), 1330589429, '68.5.184.133', 'http://www.RL.com/', 0, 0.0, '60C8049D-C1A2-41C2-B503-6C1200424C49', 'mission viejo', 'ca', 'usa', '13-Jul-85', 'M']\n"
     ]
    },
    {
     "name": "stderr",
     "output_type": "stream",
     "text": [
      "/home/ec2-user/anaconda3/envs/pytorch_p36/lib/python3.6/site-packages/sklearn/utils/validation.py:72: DataConversionWarning: A column-vector y was passed when a 1d array was expected. Please change the shape of y to (n_samples, ), for example using ravel().\n",
      "  return f(**kwargs)\n"
     ]
    },
    {
     "name": "stdout",
     "output_type": "stream",
     "text": [
      "29    6      [Timestamp('2012-03-01 00:11:48'), 1330589508, '207.62.158.62', 'http://www.RL.com/video/1003', 0, 0.08080810000000001, 'E1D2DE32-6F67-4A50-ABC1-102555658531', 'san luis obispo', 'ca', 'usa', '15-Nov-92', 'M']\n",
      "30    6      [Timestamp('2012-03-01 00:12:05'), 1330589525, '99.102.31.167', 'http://www.RL.com/product/4003', 0, 0.0, '7A7EC1B7-BAFE-431A-A4B5-0378A4CDE8CB', 'sacramento', 'ca', 'usa', '28-Feb-89', 'M']\n",
      "31    6      [Timestamp('2012-03-01 00:12:07'), 1330589527, '207.62.158.62', 'http://www.RL.com/reco/2002', 0, 0.272727, 'E1D2DE32-6F67-4A50-ABC1-102555658531', 'san luis obispo', 'ca', 'usa', '15-Nov-92', 'M']\n",
      "32    6      [Timestamp('2012-03-01 00:12:17'), 1330589537, '207.62.158.62', 'http://www.RL.com/video/1002', 0, 0.373737, 'E1D2DE32-6F67-4A50-ABC1-102555658531', 'san luis obispo', 'ca', 'usa', '15-Nov-92', 'M']\n",
      "33    6      [Timestamp('2012-03-01 00:12:19'), 1330589539, '207.62.158.62', 'http://www.RL.com/reco/2001', 0, 0.393939, 'E1D2DE32-6F67-4A50-ABC1-102555658531', 'san luis obispo', 'ca', 'usa', '15-Nov-92', 'M']\n",
      "34    7      [Timestamp('2012-03-01 00:12:50'), 1330589570, '207.62.158.62', 'http://www.RL.com/', 0, 0.0, 'E1D2DE32-6F67-4A50-ABC1-102555658531', 'san luis obispo', 'ca', 'usa', '15-Nov-92', 'M']\n",
      "35    7      [Timestamp('2012-03-01 00:12:50'), 1330589570, '207.62.158.62', 'http://www.RL.com/', 0, 0.0, 'E1D2DE32-6F67-4A50-ABC1-102555658531', 'san luis obispo', 'ca', 'usa', '15-Nov-92', 'M']\n",
      "36    7      [Timestamp('2012-03-01 00:13:02'), 1330589582, '207.62.158.62', 'http://www.RL.com/reco/2002', 0, 0.828283, 'E1D2DE32-6F67-4A50-ABC1-102555658531', 'san luis obispo', 'ca', 'usa', '15-Nov-92', 'M']\n",
      "37    7      [Timestamp('2012-03-01 00:13:08'), 1330589588, '99.102.31.167', 'http://www.RL.com/reco/2002', 0, 0.8888889999999999, '7A7EC1B7-BAFE-431A-A4B5-0378A4CDE8CB', 'sacramento', 'ca', 'usa', '28-Feb-89', 'M']\n",
      "38    7      [Timestamp('2012-03-01 00:13:08'), 1330589588, '99.102.31.167', 'http://www.RL.com/', 0, 0.0, '7A7EC1B7-BAFE-431A-A4B5-0378A4CDE8CB', 'sacramento', 'ca', 'usa', '28-Feb-89', 'M']\n"
     ]
    },
    {
     "name": "stderr",
     "output_type": "stream",
     "text": [
      "/home/ec2-user/anaconda3/envs/pytorch_p36/lib/python3.6/site-packages/sklearn/utils/validation.py:72: DataConversionWarning: A column-vector y was passed when a 1d array was expected. Please change the shape of y to (n_samples, ), for example using ravel().\n",
      "  return f(**kwargs)\n"
     ]
    },
    {
     "name": "stdout",
     "output_type": "stream",
     "text": [
      "39    7      [Timestamp('2012-03-01 00:13:36'), 1330589616, '67.2.109.46', 'http://www.RL.com/reco/2002', 0, 0.161616, '6AF05C56-1AB3-4CB7-9584-7CDCB27BACFE', 'south jordan', 'ut', 'usa', '23-Jul-68', 'M']\n",
      "40    7      [Timestamp('2012-03-01 00:13:39'), 1330589619, '24.9.63.79', 'http://www.RL.com/', 0, 0.0, 'DEADBDB9-274E-4119-8184-DA17A059D6CE', 'boulder', 'co', 'usa', '1-Nov-95', 'M']\n",
      "41    8      [Timestamp('2012-03-01 00:14:32'), 1330589672, '24.9.63.79', 'http://www.RL.com/video/1001', 0, 0.727273, 'DEADBDB9-274E-4119-8184-DA17A059D6CE', 'boulder', 'co', 'usa', '1-Nov-95', 'M']\n",
      "42    8      [Timestamp('2012-03-01 00:14:32'), 1330589672, '24.9.63.79', 'http://www.RL.com/video/1003', 0, 0.727273, 'DEADBDB9-274E-4119-8184-DA17A059D6CE', 'boulder', 'co', 'usa', '1-Nov-95', 'M']\n",
      "43    8      [Timestamp('2012-03-01 00:14:39'), 1330589679, '67.2.109.46', 'http://www.RL.com/product/4004', 0, 0.0, '6AF05C56-1AB3-4CB7-9584-7CDCB27BACFE', 'south jordan', 'ut', 'usa', '23-Jul-68', 'M']\n",
      "44    8      [Timestamp('2012-03-01 00:14:39'), 1330589679, '67.2.109.46', 'http://www.RL.com/video/1002', 0, 0.79798, '6AF05C56-1AB3-4CB7-9584-7CDCB27BACFE', 'south jordan', 'ut', 'usa', '23-Jul-68', 'M']\n",
      "45    8      [Timestamp('2012-03-01 00:15:21'), 1330589721, '68.5.184.133', 'http://www.RL.com/', 0, 0.0, '60C8049D-C1A2-41C2-B503-6C1200424C49', 'mission viejo', 'ca', 'usa', '13-Jul-85', 'M']\n",
      "46    8      [Timestamp('2012-03-01 00:15:40'), 1330589740, '24.9.63.79', 'http://www.RL.com/reco/2002', 0, 0.40404, 'DEADBDB9-274E-4119-8184-DA17A059D6CE', 'boulder', 'co', 'usa', '1-Nov-95', 'M']\n",
      "47    9      [Timestamp('2012-03-01 00:15:53'), 1330589753, '68.52.198.113', 'http://www.RL.com/review/3001', 0, 0.535354, 'DA55421E-31B5-45E5-9542-1E31B575E5CC', 'nashville', 'tn', 'usa', '1-Jan-79', 'U']\n",
      "48    9      [Timestamp('2012-03-01 00:15:54'), 1330589754, '68.52.198.113', 'http://www.RL.com/', 0, 0.0, 'DA55421E-31B5-45E5-9542-1E31B575E5CC', 'nashville', 'tn', 'usa', '1-Jan-79', 'U']\n"
     ]
    },
    {
     "name": "stderr",
     "output_type": "stream",
     "text": [
      "/home/ec2-user/anaconda3/envs/pytorch_p36/lib/python3.6/site-packages/sklearn/utils/validation.py:72: DataConversionWarning: A column-vector y was passed when a 1d array was expected. Please change the shape of y to (n_samples, ), for example using ravel().\n",
      "  return f(**kwargs)\n"
     ]
    },
    {
     "name": "stdout",
     "output_type": "stream",
     "text": [
      "49    9      [Timestamp('2012-03-01 00:16:40'), 1330589800, '68.52.198.113', 'http://www.RL.com/product/4003', 0, 0.0, 'DA55421E-31B5-45E5-9542-1E31B575E5CC', 'nashville', 'tn', 'usa', '1-Jan-79', 'U']\n",
      "50    9      [Timestamp('2012-03-01 00:16:40'), 1330589800, '68.52.198.113', 'http://www.RL.com/product/4001', 1, 0.0, 'DA55421E-31B5-45E5-9542-1E31B575E5CC', 'nashville', 'tn', 'usa', '1-Jan-79', 'U']\n",
      "51    9      [Timestamp('2012-03-01 00:16:41'), 1330589801, '98.228.34.12', 'http://www.RL.com/reco/2002', 0, 0.010101, 'D956528D-3CAC-4035-BB1C-79A8D4F4996A', 'bloomington', 'in', 'usa', '3-Feb-86', 'F']\n",
      "52    9      [Timestamp('2012-03-01 00:16:58'), 1330589818, '24.9.63.79', 'http://www.RL.com/reco/2001', 0, 0.181818, 'DEADBDB9-274E-4119-8184-DA17A059D6CE', 'boulder', 'co', 'usa', '1-Nov-95', 'M']\n",
      "53    10      [Timestamp('2012-03-01 00:18:06'), 1330589886, '98.228.34.12', 'http://www.RL.com/review/3001', 0, 0.8686870000000001, 'D956528D-3CAC-4035-BB1C-79A8D4F4996A', 'bloomington', 'in', 'usa', '3-Feb-86', 'F']\n",
      "54    10      [Timestamp('2012-03-01 00:18:09'), 1330589889, '98.228.34.12', 'http://www.RL.com/', 0, 0.0, 'D956528D-3CAC-4035-BB1C-79A8D4F4996A', 'bloomington', 'in', 'usa', '3-Feb-86', 'F']\n",
      "55    10      [Timestamp('2012-03-01 00:18:36'), 1330589916, '50.8.107.4', 'http://www.RL.com/product/4005', 0, 0.0, 'A24EA63A-843F-4290-8B17-B7D16A204C96', 'denver', 'co', 'usa', '23-Feb-80', 'U']\n",
      "56    11      [Timestamp('2012-03-01 00:19:16'), 1330589956, '24.9.63.79', 'http://www.RL.com/', 0, 0.0, 'DEADBDB9-274E-4119-8184-DA17A059D6CE', 'boulder', 'co', 'usa', '1-Nov-95', 'M']\n"
     ]
    }
   ],
   "source": [
    "check_data = []\n",
    "sch = sched.scheduler(time.time, time.sleep)\n",
    "for i in range(r_css_sorted.shape[0]):\n",
    "    duration = int((r_css_sorted.iloc[i]['timestamp'] - r_css_sorted.iloc[0]['timestamp']).seconds)\n",
    "    duration = round(duration/100)\n",
    "    sch.enter(duration, 1, data_list, kwargs={'index': i, 'duration' : duration, 'check_data' : check_data})\n",
    "\n",
    "    if (i+1) % 10 == 0:\n",
    "        ts_data = pd.DataFrame(check_data, columns=['timestamp', 'clickstream_id', 'ip_address', 'url', 'is_purchased',\n",
    "       'is_page_errored', 'user_session_id', 'city', 'state', 'country',\n",
    "       'BIRTH_DT', 'GENDER_CD'])\n",
    "        input_df = np.round(mapper.fit_transform(ts_data),2)\n",
    "        input_df = pd.concat([ts_data['timestamp'], input_df], axis=1)\n",
    "        response = kinesis_client.describe_stream(StreamName=data_stream[1])\n",
    "        shardId = response[\"StreamDescription\"][\"Shards\"][0][\"ShardId\"]\n",
    "        response = kinesis_client.get_shard_iterator(StreamName=data_stream[1],\n",
    "                                            ShardId=shardId,\n",
    "                                            ShardIteratorType=\"LATEST\")\n",
    "        shardIterator = response[\"ShardIterator\"]\n",
    "        \n",
    "        kinesis_data = {}\n",
    "        rnd=random.random()\n",
    "        col_names = input_df.keys().to_list()\n",
    "        for i, idx in enumerate(input_df.index):\n",
    "            kinesis_data = json.dumps(make_kinesis_data(input_df, idx, col_names))\n",
    "            kinesis_client.put_record(\n",
    "                StreamName=data_stream[0],\n",
    "                Data=kinesis_data,\n",
    "                PartitionKey=str(rnd)\n",
    "            )\n",
    "        check_data = []\n",
    "        time.sleep(3)\n",
    "        s3_sink(shardIterator)\n",
    "        \n",
    "    if i == total_cnt:\n",
    "        break\n",
    "    sch.run()"
   ]
  },
  {
   "cell_type": "code",
   "execution_count": null,
   "metadata": {},
   "outputs": [],
   "source": [
    "kinesis_analytics.stop_application(ApplicationName=kinesis_ApplicationName)\n",
    "\n",
    "# Wait until application stops running\n",
    "response = kinesis_analytics.describe_application(\n",
    "    ApplicationName=kinesis_ApplicationName\n",
    ")\n",
    "status = response[\"ApplicationDetail\"][\"ApplicationStatus\"]\n",
    "sys.stdout.write('Stopping ')\n",
    "\n",
    "while status != \"READY\":\n",
    "    sys.stdout.write('.')\n",
    "    sys.stdout.flush()\n",
    "    time.sleep(1)\n",
    "    response = kinesis_analytics.describe_application(\n",
    "        ApplicationName=kinesis_ApplicationName\n",
    "    )\n",
    "    status = response[\"ApplicationDetail\"][\"ApplicationStatus\"]\n",
    "\n",
    "sys.stdout.write(os.linesep)"
   ]
  },
  {
   "cell_type": "code",
   "execution_count": null,
   "metadata": {},
   "outputs": [],
   "source": []
  },
  {
   "cell_type": "code",
   "execution_count": null,
   "metadata": {},
   "outputs": [],
   "source": []
  }
 ],
 "metadata": {
  "kernelspec": {
   "display_name": "conda_pytorch_p36",
   "language": "python",
   "name": "conda_pytorch_p36"
  },
  "language_info": {
   "codemirror_mode": {
    "name": "ipython",
    "version": 3
   },
   "file_extension": ".py",
   "mimetype": "text/x-python",
   "name": "python",
   "nbconvert_exporter": "python",
   "pygments_lexer": "ipython3",
   "version": "3.6.10"
  }
 },
 "nbformat": 4,
 "nbformat_minor": 4
}
