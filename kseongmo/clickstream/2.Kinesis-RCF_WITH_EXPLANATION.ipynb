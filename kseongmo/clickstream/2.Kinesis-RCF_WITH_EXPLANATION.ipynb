{
 "cells": [
  {
   "cell_type": "markdown",
   "metadata": {},
   "source": [
    "# Anomaly detection for clickstream data"
   ]
  },
  {
   "cell_type": "markdown",
   "metadata": {},
   "source": [
    "## Kinesis Analytics를 이용한 실시간 이상감지"
   ]
  },
  {
   "cell_type": "markdown",
   "metadata": {},
   "source": [
    "The algorithm starts developing the machine learning model using current records in the stream when you start the application. The algorithm does not use older records in the stream for machine learning, nor does it use statistics from previous executions of the application."
   ]
  },
  {
   "cell_type": "code",
   "execution_count": 1,
   "metadata": {},
   "outputs": [],
   "source": [
    "import sys"
   ]
  },
  {
   "cell_type": "code",
   "execution_count": 2,
   "metadata": {},
   "outputs": [
    {
     "name": "stdout",
     "output_type": "stream",
     "text": [
      "Collecting pip\n",
      "  Downloading pip-20.2.1-py2.py3-none-any.whl (1.5 MB)\n",
      "\u001b[K     |████████████████████████████████| 1.5 MB 12.6 MB/s eta 0:00:01\n",
      "\u001b[?25hInstalling collected packages: pip\n",
      "  Attempting uninstall: pip\n",
      "    Found existing installation: pip 20.1.1\n",
      "    Uninstalling pip-20.1.1:\n",
      "      Successfully uninstalled pip-20.1.1\n",
      "Successfully installed pip-20.2.1\n",
      "Collecting sklearn-pandas\n",
      "  Downloading sklearn_pandas-2.0.0-py2.py3-none-any.whl (10 kB)\n",
      "Requirement already satisfied: pandas>=1.0.5 in /home/ec2-user/anaconda3/envs/pytorch_p36/lib/python3.6/site-packages (from sklearn-pandas) (1.0.5)\n",
      "Requirement already satisfied: numpy>=1.18.1 in /home/ec2-user/anaconda3/envs/pytorch_p36/lib/python3.6/site-packages (from sklearn-pandas) (1.18.1)\n",
      "Requirement already satisfied: scipy>=1.4.1 in /home/ec2-user/anaconda3/envs/pytorch_p36/lib/python3.6/site-packages (from sklearn-pandas) (1.4.1)\n",
      "Collecting scikit-learn>=0.23.0\n",
      "  Downloading scikit_learn-0.23.2-cp36-cp36m-manylinux1_x86_64.whl (6.8 MB)\n",
      "\u001b[K     |████████████████████████████████| 6.8 MB 29.9 MB/s eta 0:00:01\n",
      "\u001b[?25hRequirement already satisfied: python-dateutil>=2.6.1 in /home/ec2-user/anaconda3/envs/pytorch_p36/lib/python3.6/site-packages (from pandas>=1.0.5->sklearn-pandas) (2.8.1)\n",
      "Requirement already satisfied: pytz>=2017.2 in /home/ec2-user/anaconda3/envs/pytorch_p36/lib/python3.6/site-packages (from pandas>=1.0.5->sklearn-pandas) (2019.3)\n",
      "Collecting threadpoolctl>=2.0.0\n",
      "  Downloading threadpoolctl-2.1.0-py3-none-any.whl (12 kB)\n",
      "Requirement already satisfied: joblib>=0.11 in /home/ec2-user/anaconda3/envs/pytorch_p36/lib/python3.6/site-packages (from scikit-learn>=0.23.0->sklearn-pandas) (0.14.1)\n",
      "Requirement already satisfied: six>=1.5 in /home/ec2-user/anaconda3/envs/pytorch_p36/lib/python3.6/site-packages (from python-dateutil>=2.6.1->pandas>=1.0.5->sklearn-pandas) (1.14.0)\n",
      "Installing collected packages: threadpoolctl, scikit-learn, sklearn-pandas\n",
      "  Attempting uninstall: scikit-learn\n",
      "    Found existing installation: scikit-learn 0.22.1\n",
      "    Uninstalling scikit-learn-0.22.1:\n",
      "      Successfully uninstalled scikit-learn-0.22.1\n",
      "Successfully installed scikit-learn-0.23.2 sklearn-pandas-2.0.0 threadpoolctl-2.1.0\n",
      "Collecting awswrangler\n",
      "  Downloading awswrangler-1.8.0-py3-none-any.whl (124 kB)\n",
      "\u001b[K     |████████████████████████████████| 124 kB 15.5 MB/s eta 0:00:01\n",
      "\u001b[?25hRequirement already satisfied: numpy<1.20.0,>=1.18.0 in /home/ec2-user/anaconda3/envs/pytorch_p36/lib/python3.6/site-packages (from awswrangler) (1.18.1)\n",
      "Requirement already satisfied: pandas<1.2.0,>=1.0.0 in /home/ec2-user/anaconda3/envs/pytorch_p36/lib/python3.6/site-packages (from awswrangler) (1.0.5)\n",
      "Requirement already satisfied: botocore<2.0.0,>=1.15.49 in /home/ec2-user/anaconda3/envs/pytorch_p36/lib/python3.6/site-packages (from awswrangler) (1.17.28)\n",
      "Collecting psycopg2-binary~=2.8.0\n",
      "  Downloading psycopg2_binary-2.8.5-cp36-cp36m-manylinux1_x86_64.whl (2.9 MB)\n",
      "\u001b[K     |████████████████████████████████| 2.9 MB 29.4 MB/s eta 0:00:01\n",
      "\u001b[?25hCollecting pyarrow~=1.0.0\n",
      "  Downloading pyarrow-1.0.0-cp36-cp36m-manylinux2014_x86_64.whl (17.2 MB)\n",
      "\u001b[K     |████████████████████████████████| 17.2 MB 92.5 MB/s eta 0:00:01\n",
      "\u001b[?25hCollecting s3fs==0.4.2\n",
      "  Downloading s3fs-0.4.2-py3-none-any.whl (19 kB)\n",
      "Collecting pymysql<0.11.0,>=0.9.0\n",
      "  Downloading PyMySQL-0.10.0-py2.py3-none-any.whl (47 kB)\n",
      "\u001b[K     |████████████████████████████████| 47 kB 9.4 MB/s  eta 0:00:01\n",
      "\u001b[?25hCollecting sqlalchemy-redshift<0.9.0,>=0.7.0\n",
      "  Downloading sqlalchemy_redshift-0.8.1-py2.py3-none-any.whl (33 kB)\n",
      "Requirement already satisfied: boto3<2.0.0,>=1.12.49 in /home/ec2-user/anaconda3/envs/pytorch_p36/lib/python3.6/site-packages (from awswrangler) (1.14.28)\n",
      "Requirement already satisfied: SQLAlchemy~=1.3.10 in /home/ec2-user/anaconda3/envs/pytorch_p36/lib/python3.6/site-packages (from awswrangler) (1.3.15)\n",
      "Requirement already satisfied: python-dateutil>=2.6.1 in /home/ec2-user/anaconda3/envs/pytorch_p36/lib/python3.6/site-packages (from pandas<1.2.0,>=1.0.0->awswrangler) (2.8.1)\n",
      "Requirement already satisfied: pytz>=2017.2 in /home/ec2-user/anaconda3/envs/pytorch_p36/lib/python3.6/site-packages (from pandas<1.2.0,>=1.0.0->awswrangler) (2019.3)\n",
      "Requirement already satisfied: urllib3<1.26,>=1.20; python_version != \"3.4\" in /home/ec2-user/anaconda3/envs/pytorch_p36/lib/python3.6/site-packages (from botocore<2.0.0,>=1.15.49->awswrangler) (1.25.8)\n",
      "Requirement already satisfied: jmespath<1.0.0,>=0.7.1 in /home/ec2-user/anaconda3/envs/pytorch_p36/lib/python3.6/site-packages (from botocore<2.0.0,>=1.15.49->awswrangler) (0.9.4)\n",
      "Requirement already satisfied: docutils<0.16,>=0.10 in /home/ec2-user/anaconda3/envs/pytorch_p36/lib/python3.6/site-packages (from botocore<2.0.0,>=1.15.49->awswrangler) (0.15.2)\n",
      "Requirement already satisfied: fsspec>=0.6.0 in /home/ec2-user/anaconda3/envs/pytorch_p36/lib/python3.6/site-packages (from s3fs==0.4.2->awswrangler) (0.7.1)\n",
      "Requirement already satisfied: packaging in /home/ec2-user/anaconda3/envs/pytorch_p36/lib/python3.6/site-packages (from sqlalchemy-redshift<0.9.0,>=0.7.0->awswrangler) (20.3)\n",
      "Requirement already satisfied: s3transfer<0.4.0,>=0.3.0 in /home/ec2-user/anaconda3/envs/pytorch_p36/lib/python3.6/site-packages (from boto3<2.0.0,>=1.12.49->awswrangler) (0.3.3)\n",
      "Requirement already satisfied: six>=1.5 in /home/ec2-user/anaconda3/envs/pytorch_p36/lib/python3.6/site-packages (from python-dateutil>=2.6.1->pandas<1.2.0,>=1.0.0->awswrangler) (1.14.0)\n",
      "Requirement already satisfied: pyparsing>=2.0.2 in /home/ec2-user/anaconda3/envs/pytorch_p36/lib/python3.6/site-packages (from packaging->sqlalchemy-redshift<0.9.0,>=0.7.0->awswrangler) (2.4.6)\n",
      "Installing collected packages: psycopg2-binary, pyarrow, s3fs, pymysql, sqlalchemy-redshift, awswrangler\n",
      "  Attempting uninstall: s3fs\n",
      "    Found existing installation: s3fs 0.4.0\n",
      "    Uninstalling s3fs-0.4.0:\n",
      "      Successfully uninstalled s3fs-0.4.0\n",
      "Successfully installed awswrangler-1.8.0 psycopg2-binary-2.8.5 pyarrow-1.0.0 pymysql-0.10.0 s3fs-0.4.2 sqlalchemy-redshift-0.8.1\n"
     ]
    }
   ],
   "source": [
    "!{sys.executable} -m pip install --upgrade pip\n",
    "!{sys.executable} -m pip install sklearn-pandas\n",
    "!{sys.executable} -m pip install awswrangler"
   ]
  },
  {
   "cell_type": "code",
   "execution_count": 3,
   "metadata": {},
   "outputs": [],
   "source": [
    "import json\n",
    "import random\n",
    "import boto3\n",
    "import os\n",
    "import time\n",
    "import numpy as np\n",
    "import pandas as pd\n",
    "import awswrangler as wr\n",
    "\n",
    "from sklearn.impute import SimpleImputer\n",
    "from sklearn.feature_extraction.text import TfidfVectorizer\n",
    "from sklearn_pandas import DataFrameMapper\n",
    "from sklearn.preprocessing import StandardScaler\n",
    "from sklearn.preprocessing import OneHotEncoder\n",
    "from sklearn.preprocessing import LabelEncoder\n",
    "\n",
    "kinesis_client = boto3.client('kinesis')\n",
    "kinesis_analytics = boto3.client('kinesisanalytics')\n",
    "\n",
    "sess = boto3.Session()\n",
    "\n",
    "# create a s3 bucket to hold data, note that your account might already created a bucket with the same name\n",
    "account_id = sess.client('sts').get_caller_identity()[\"Account\"]\n",
    "job_bucket = 's3://sagemaker-experiments-{}-{}'.format(sess.region_name, account_id)\n",
    "job_bucket"
   ]
  },
  {
   "cell_type": "markdown",
   "metadata": {},
   "source": [
    "### 1.1 Input/Output Create_stream 생성"
   ]
  },
  {
   "cell_type": "code",
   "execution_count": 7,
   "metadata": {},
   "outputs": [
    {
     "name": "stdout",
     "output_type": "stream",
     "text": [
      "Stream clickstream_input under account 308961792850 already exists.\n"
     ]
    }
   ],
   "source": [
    "data_stream = ['clickstream_input', 'clickstream_output']\n",
    "\n",
    "try:\n",
    "    for stream in data_stream:\n",
    "        kinesis_client.create_stream(\n",
    "            StreamName=stream,\n",
    "            ShardCount=1\n",
    "        )\n",
    "except Exception as e:\n",
    "    if e.response['Error']['Code'] == 'ResourceInUseException':\n",
    "        print(e.response['message'])\n",
    "    else:\n",
    "        print(e.response['Error']['Code'])\n",
    "\n",
    "# Wait until all streams are created\n",
    "result = {}\n",
    "waiter = kinesis_client.get_waiter('stream_exists')\n",
    "for stream in data_stream:\n",
    "    waiter.wait(StreamName=stream)\n",
    "    response = kinesis_client.describe_stream(StreamName=stream)\n",
    "    result[stream] = response[\"StreamDescription\"][\"StreamARN\"]"
   ]
  },
  {
   "cell_type": "markdown",
   "metadata": {},
   "source": [
    "### 1.2 IAM 생성"
   ]
  },
  {
   "cell_type": "code",
   "execution_count": 9,
   "metadata": {},
   "outputs": [],
   "source": [
    "region = boto3.Session().region_name\n",
    "\n",
    "iam = boto3.client('iam')\n",
    "sts = boto3.client('sts')\n",
    "\n",
    "kinesis_role_name = 'kinesis-analytics-{}'.format(region)\n",
    "kinesis_analytics_policy_name=kinesis_role_name + '_policy'\n",
    "\n",
    "kinesis_assume_role={\n",
    "  \"Version\": \"2012-10-17\",\n",
    "  \"Statement\": [\n",
    "    {\n",
    "      \"Effect\": \"Allow\",\n",
    "      \"Principal\": {\n",
    "        \"Service\": \"kinesisanalytics.amazonaws.com\"\n",
    "      },\n",
    "      \"Action\": \"sts:AssumeRole\"\n",
    "    }\n",
    "  ]\n",
    "}\n",
    "\n",
    "kinesis_analytics_policy = {\n",
    "  \"Version\": \"2012-10-17\",\n",
    "  \"Statement\": [\n",
    "    {\n",
    "      \"Sid\": \"ReadInputKinesis\",\n",
    "      \"Effect\": \"Allow\",\n",
    "      \"Action\": [\n",
    "        \"kinesis:DescribeStream\",\n",
    "        \"kinesis:GetShardIterator\",\n",
    "        \"kinesis:GetRecords\"\n",
    "      ],\n",
    "      \"Resource\": [\n",
    "        result['clickstream_input']\n",
    "      ]\n",
    "    },\n",
    "    {\n",
    "      \"Sid\": \"WriteOutputKinesis\",\n",
    "      \"Effect\": \"Allow\",\n",
    "      \"Action\": [\n",
    "        \"kinesis:DescribeStream\",\n",
    "        \"kinesis:PutRecord\",\n",
    "        \"kinesis:PutRecords\"\n",
    "      ],\n",
    "      \"Resource\": [\n",
    "        result['clickstream_output']\n",
    "      ]\n",
    "    }\n",
    "  ]\n",
    "}\n",
    "\n"
   ]
  },
  {
   "cell_type": "code",
   "execution_count": 13,
   "metadata": {},
   "outputs": [
    {
     "name": "stdout",
     "output_type": "stream",
     "text": [
      "User already exists\n"
     ]
    }
   ],
   "source": [
    "try:\n",
    "    role_res = iam.create_role(\n",
    "        Path='/service-role/',\n",
    "        RoleName=kinesis_role_name,\n",
    "        AssumeRolePolicyDocument=json.dumps(kinesis_assume_role),\n",
    "    )\n",
    "except Exception as e:\n",
    "    if e.response['Error']['Code'] == 'EntityAlreadyExists':\n",
    "        role_res = iam.get_role(\n",
    "            RoleName=kinesis_role_name\n",
    "        )\n",
    "        print(\"Role already exists\")\n",
    "    else:\n",
    "        print(\"Unexpected error: %s\" % e)"
   ]
  },
  {
   "cell_type": "code",
   "execution_count": 14,
   "metadata": {},
   "outputs": [
    {
     "name": "stdout",
     "output_type": "stream",
     "text": [
      "User already exists\n"
     ]
    }
   ],
   "source": [
    "try:\n",
    "    policy_res = iam.create_policy(\n",
    "        PolicyName=kinesis_analytics_policy_name,\n",
    "        Path='/',\n",
    "        PolicyDocument=json.dumps(kinesis_analytics_policy)\n",
    "    )\n",
    "except Exception as e:\n",
    "    if e.response['Error']['Code'] == 'EntityAlreadyExists':\n",
    "        PolicyArn ='arn:aws:iam::{}:policy/{}'.format(account_id, kinesis_analytics_policy_name)\n",
    "        policy_res = iam.get_policy(\n",
    "            PolicyArn=PolicyArn\n",
    "        )\n",
    "        print(\"Policy already exists\")\n",
    "    else:\n",
    "        print(\"Unexpected error: %s\" % e)"
   ]
  },
  {
   "cell_type": "code",
   "execution_count": 15,
   "metadata": {},
   "outputs": [
    {
     "name": "stdout",
     "output_type": "stream",
     "text": [
      "Policy has been succesfully attached to role: kinesis-analytics-us-east-1\n"
     ]
    }
   ],
   "source": [
    "from botocore.exceptions import ClientError\n",
    "\n",
    "try:\n",
    "    attach_res = iam.attach_role_policy(\n",
    "        PolicyArn=policy_res['Policy']['Arn'],\n",
    "        RoleName=kinesis_role_name\n",
    "    )\n",
    "    print(\"Policy has been succesfully attached to role: %s\" % kinesis_role_name)\n",
    "except Exception as e:\n",
    "    print(\"Unexpected error: %s\" % e)"
   ]
  },
  {
   "cell_type": "markdown",
   "metadata": {},
   "source": [
    "### 1.3 Create Application"
   ]
  },
  {
   "cell_type": "code",
   "execution_count": 16,
   "metadata": {},
   "outputs": [],
   "source": [
    "sql_query = open('random_cut_forest_with_explanation.sql', \"r\").read()\n",
    "\n",
    "kinesis_ApplicationName='clickstream-analytics-rcf-explanation-{}'.format(int(time.time()))\n"
   ]
  },
  {
   "cell_type": "code",
   "execution_count": 18,
   "metadata": {},
   "outputs": [],
   "source": [
    "try:\n",
    "    response = kinesis_analytics.create_application(\n",
    "        ApplicationName=kinesis_ApplicationName,\n",
    "        ApplicationCode=sql_query,\n",
    "        Inputs=[\n",
    "            {\n",
    "                'NamePrefix': 'SOURCE_SQL_STREAM',\n",
    "                'KinesisStreamsInput': {\n",
    "                    'ResourceARN': result[data_stream[0]],\n",
    "                    'RoleARN': role_res['Role']['Arn']\n",
    "                },\n",
    "                'InputSchema': {\n",
    "                    'RecordFormat': {\n",
    "                        'RecordFormatType': 'JSON',\n",
    "                        'MappingParameters': {\n",
    "                            'JSONMappingParameters': {\n",
    "                                'RecordRowPath': '$'\n",
    "                            },\n",
    "                        }\n",
    "                    },\n",
    "                    'RecordEncoding': 'UTF-8',\n",
    "                    'RecordColumns': [\n",
    "                                {\n",
    "                                    \"SqlType\": \"TIMESTAMP\",\n",
    "                                    \"Name\": \"TIMESTAMPS\",\n",
    "                                    \"Mapping\": \"$.timestamp\"\n",
    "                                },\n",
    "                                {\n",
    "                                    \"SqlType\": \"INTEGER\",\n",
    "                                    \"Name\": \"CLICKSTREAM_ID\",\n",
    "                                    \"Mapping\": \"$.clickstream_id\"\n",
    "                                },\n",
    "                                {\n",
    "                                    \"SqlType\": \"INTEGER\",\n",
    "                                    \"Name\": \"URL\",\n",
    "                                    \"Mapping\": \"$.url\"\n",
    "                                },\n",
    "                                {\n",
    "                                    \"SqlType\": \"INTEGER\",\n",
    "                                    \"Name\": \"IS_PURCHASED\",\n",
    "                                    \"Mapping\": \"$.is_purchased\"\n",
    "                                },\n",
    "                                {\n",
    "                                    \"SqlType\": \"DOUBLE\",\n",
    "                                    \"Name\": \"IS_PAGE_ERRORED\",\n",
    "                                    \"Mapping\": \"$.is_page_errored\"\n",
    "                                },\n",
    "                                {\n",
    "                                    \"SqlType\": \"INTEGER\",\n",
    "                                    \"Name\": \"USER_SESSION_ID\",\n",
    "                                    \"Mapping\": \"$.user_session_id\"\n",
    "                                },\n",
    "                                {\n",
    "                                    \"SqlType\": \"INTEGER\",\n",
    "                                    \"Name\": \"CITY\",\n",
    "                                    \"Mapping\": \"$.city\"\n",
    "                                },\n",
    "                                {\n",
    "                                    \"SqlType\": \"INTEGER\",\n",
    "                                    \"Name\": \"STATE\",\n",
    "                                    \"Mapping\": \"$.state\"\n",
    "                                },\n",
    "                                {\n",
    "                                    \"SqlType\": \"INTEGER\",\n",
    "                                    \"Name\": \"COUNTRY\",\n",
    "                                    \"Mapping\": \"$.country\"\n",
    "                                },\n",
    "                                {\n",
    "                                    \"SqlType\": \"INTEGER\",\n",
    "                                    \"Name\": \"BIRTH_DT\",\n",
    "                                    \"Mapping\": \"$.BIRTH_DT\"\n",
    "                                },\n",
    "                                {\n",
    "                                    \"SqlType\": \"INTEGER\",\n",
    "                                    \"Name\": \"GENDER_CD\",\n",
    "                                    \"Mapping\": \"$.GENDER_CD\"\n",
    "                                }\n",
    "                    ],\n",
    "                    \"RecordFormat\": {\n",
    "                        \"MappingParameters\": {\n",
    "                            'JSONMappingParameters': {\n",
    "                                'RecordRowPath': '$'\n",
    "                            },\n",
    "                        },\n",
    "                        \"RecordFormatType\": \"JSON\"\n",
    "                      }\n",
    "                }\n",
    "            },\n",
    "        ],\n",
    "        Outputs=[\n",
    "            {\n",
    "                'Name': 'DESTINATION_SQL_STREAM',\n",
    "                'DestinationSchema': {\n",
    "                    'RecordFormatType': 'JSON'\n",
    "                },\n",
    "                \"KinesisStreamsOutput\": {\n",
    "                    \"ResourceARN\": result[data_stream[1]],\n",
    "                    \"RoleARN\": role_res['Role']['Arn']\n",
    "                }\n",
    "            },\n",
    "        ],\n",
    "    )\n",
    "except Exception as e:\n",
    "    if e.response['Error']['Code'] == 'ResourceInUseException':\n",
    "        print(e.response['message'])\n",
    "    else:\n",
    "        print(e)"
   ]
  },
  {
   "cell_type": "markdown",
   "metadata": {},
   "source": [
    "### 1.5 Start Application"
   ]
  },
  {
   "cell_type": "code",
   "execution_count": 19,
   "metadata": {},
   "outputs": [],
   "source": [
    "response = kinesis_analytics.describe_application(\n",
    "    ApplicationName=kinesis_ApplicationName\n",
    ")\n",
    "\n",
    "application = response[\"ApplicationDetail\"]\n",
    "inputId = application['InputDescriptions'][0]['InputId']\n",
    "\n",
    "try:\n",
    "    kinesis_analytics.start_application(ApplicationName=kinesis_ApplicationName,\n",
    "                                     InputConfigurations=[{\n",
    "                                       \"Id\": inputId,\n",
    "                                       \"InputStartingPositionConfiguration\": {\n",
    "                                         \"InputStartingPosition\": \"NOW\"\n",
    "                                       }\n",
    "                                     }])\n",
    "except Exception as e:\n",
    "    if e.response['Error']['Code'] == 'ResourceInUseException':\n",
    "        print(e.response['message'])\n",
    "    else:\n",
    "        print(e.response['Error']['Code'])"
   ]
  },
  {
   "cell_type": "code",
   "execution_count": 20,
   "metadata": {},
   "outputs": [
    {
     "name": "stdout",
     "output_type": "stream",
     "text": [
      "Starting ........................................................................................RUNNING\n"
     ]
    }
   ],
   "source": [
    "# Wait until application starts running\n",
    "response = kinesis_analytics.describe_application(\n",
    "    ApplicationName=kinesis_ApplicationName\n",
    ")\n",
    "status = response[\"ApplicationDetail\"][\"ApplicationStatus\"]\n",
    "\n",
    "sys.stdout.write('Starting ')\n",
    "while status != \"RUNNING\":\n",
    "    sys.stdout.write('.')\n",
    "    sys.stdout.flush()\n",
    "    time.sleep(1)\n",
    "    response = kinesis_analytics.describe_application(\n",
    "      ApplicationName=kinesis_ApplicationName\n",
    "    )\n",
    "    status = response[\"ApplicationDetail\"][\"ApplicationStatus\"]\n",
    "sys.stdout.write('RUNNING')\n",
    "sys.stdout.write(os.linesep)"
   ]
  },
  {
   "cell_type": "markdown",
   "metadata": {},
   "source": [
    "###  1.7 Sending Input Stream"
   ]
  },
  {
   "cell_type": "code",
   "execution_count": 21,
   "metadata": {},
   "outputs": [
    {
     "data": {
      "text/html": [
       "<div>\n",
       "<style scoped>\n",
       "    .dataframe tbody tr th:only-of-type {\n",
       "        vertical-align: middle;\n",
       "    }\n",
       "\n",
       "    .dataframe tbody tr th {\n",
       "        vertical-align: top;\n",
       "    }\n",
       "\n",
       "    .dataframe thead th {\n",
       "        text-align: right;\n",
       "    }\n",
       "</style>\n",
       "<table border=\"1\" class=\"dataframe\">\n",
       "  <thead>\n",
       "    <tr style=\"text-align: right;\">\n",
       "      <th></th>\n",
       "      <th>SWID</th>\n",
       "      <th>BIRTH_DT</th>\n",
       "      <th>GENDER_CD</th>\n",
       "    </tr>\n",
       "  </thead>\n",
       "  <tbody>\n",
       "    <tr>\n",
       "      <th>0</th>\n",
       "      <td>0001BDD9-EABF-4D0D-81BD-D9EABFCD0D7D</td>\n",
       "      <td>8-Apr-84</td>\n",
       "      <td>F</td>\n",
       "    </tr>\n",
       "    <tr>\n",
       "      <th>1</th>\n",
       "      <td>00071AA7-86D2-4EB9-871A-A786D27EB9BA</td>\n",
       "      <td>7-Feb-88</td>\n",
       "      <td>F</td>\n",
       "    </tr>\n",
       "    <tr>\n",
       "      <th>2</th>\n",
       "      <td>00071B7D-31AF-4D85-871B-7D31AFFD852E</td>\n",
       "      <td>22-Oct-64</td>\n",
       "      <td>F</td>\n",
       "    </tr>\n",
       "    <tr>\n",
       "      <th>3</th>\n",
       "      <td>0007967E-F188-4598-9C7C-E64390482CFB</td>\n",
       "      <td>1-Jun-66</td>\n",
       "      <td>M</td>\n",
       "    </tr>\n",
       "    <tr>\n",
       "      <th>4</th>\n",
       "      <td>000B90B2-92DC-4A7A-8B90-B292DC9A7A71</td>\n",
       "      <td>13-Jun-84</td>\n",
       "      <td>M</td>\n",
       "    </tr>\n",
       "  </tbody>\n",
       "</table>\n",
       "</div>"
      ],
      "text/plain": [
       "                                   SWID   BIRTH_DT GENDER_CD\n",
       "0  0001BDD9-EABF-4D0D-81BD-D9EABFCD0D7D   8-Apr-84         F\n",
       "1  00071AA7-86D2-4EB9-871A-A786D27EB9BA   7-Feb-88         F\n",
       "2  00071B7D-31AF-4D85-871B-7D31AFFD852E  22-Oct-64         F\n",
       "3  0007967E-F188-4598-9C7C-E64390482CFB   1-Jun-66         M\n",
       "4  000B90B2-92DC-4A7A-8B90-B292DC9A7A71  13-Jun-84         M"
      ]
     },
     "execution_count": 21,
     "metadata": {},
     "output_type": "execute_result"
    }
   ],
   "source": [
    "users = pd.read_csv('users.tsv', delimiter='\\t')\n",
    "users.head(5)"
   ]
  },
  {
   "cell_type": "code",
   "execution_count": 22,
   "metadata": {},
   "outputs": [
    {
     "data": {
      "text/html": [
       "<div>\n",
       "<style scoped>\n",
       "    .dataframe tbody tr th:only-of-type {\n",
       "        vertical-align: middle;\n",
       "    }\n",
       "\n",
       "    .dataframe tbody tr th {\n",
       "        vertical-align: top;\n",
       "    }\n",
       "\n",
       "    .dataframe thead th {\n",
       "        text-align: right;\n",
       "    }\n",
       "</style>\n",
       "<table border=\"1\" class=\"dataframe\">\n",
       "  <thead>\n",
       "    <tr style=\"text-align: right;\">\n",
       "      <th></th>\n",
       "      <th>clickstream_id</th>\n",
       "      <th>IP address</th>\n",
       "      <th>url</th>\n",
       "      <th>is_purchased?</th>\n",
       "      <th>is_page_errored?</th>\n",
       "      <th>user_session_id</th>\n",
       "      <th>city</th>\n",
       "      <th>state</th>\n",
       "      <th>country</th>\n",
       "    </tr>\n",
       "    <tr>\n",
       "      <th>timestamp</th>\n",
       "      <th></th>\n",
       "      <th></th>\n",
       "      <th></th>\n",
       "      <th></th>\n",
       "      <th></th>\n",
       "      <th></th>\n",
       "      <th></th>\n",
       "      <th></th>\n",
       "      <th></th>\n",
       "    </tr>\n",
       "  </thead>\n",
       "  <tbody>\n",
       "    <tr>\n",
       "      <th>2012-03-01 00:00:19</th>\n",
       "      <td>1330588819</td>\n",
       "      <td>147.222.227.200</td>\n",
       "      <td>http://www.RL.com/</td>\n",
       "      <td>0</td>\n",
       "      <td>0.00000</td>\n",
       "      <td>AF8A0FDF-B1F8-474C-8CD7-8CA06A8E435B</td>\n",
       "      <td>spokane</td>\n",
       "      <td>wa</td>\n",
       "      <td>usa</td>\n",
       "    </tr>\n",
       "    <tr>\n",
       "      <th>2012-03-01 00:00:25</th>\n",
       "      <td>1330588825</td>\n",
       "      <td>99.49.96.163</td>\n",
       "      <td>http://www.RL.com/product/4004</td>\n",
       "      <td>0</td>\n",
       "      <td>1.00000</td>\n",
       "      <td>C9183A22-6E1D-4147-BDC9-D634FC957098</td>\n",
       "      <td>detroit</td>\n",
       "      <td>mi</td>\n",
       "      <td>usa</td>\n",
       "    </tr>\n",
       "    <tr>\n",
       "      <th>2012-03-01 00:00:27</th>\n",
       "      <td>1330588827</td>\n",
       "      <td>147.222.227.200</td>\n",
       "      <td>http://www.RL.com/</td>\n",
       "      <td>0</td>\n",
       "      <td>0.00000</td>\n",
       "      <td>AF8A0FDF-B1F8-474C-8CD7-8CA06A8E435B</td>\n",
       "      <td>spokane</td>\n",
       "      <td>wa</td>\n",
       "      <td>usa</td>\n",
       "    </tr>\n",
       "    <tr>\n",
       "      <th>2012-03-01 00:00:57</th>\n",
       "      <td>1330588857</td>\n",
       "      <td>69.114.3.205</td>\n",
       "      <td>http://www.RL.com/product/4004</td>\n",
       "      <td>0</td>\n",
       "      <td>0.00000</td>\n",
       "      <td>F761B842-9DDA-42CC-9F28-A6359B6C7219</td>\n",
       "      <td>east northport</td>\n",
       "      <td>ny</td>\n",
       "      <td>usa</td>\n",
       "    </tr>\n",
       "    <tr>\n",
       "      <th>2012-03-01 00:00:59</th>\n",
       "      <td>1330588859</td>\n",
       "      <td>71.217.29.209</td>\n",
       "      <td>http://www.RL.com/review/3004</td>\n",
       "      <td>0</td>\n",
       "      <td>0.59596</td>\n",
       "      <td>6FE1CB72-95C9-47F9-A1CB-7295C927F916</td>\n",
       "      <td>tacoma</td>\n",
       "      <td>wa</td>\n",
       "      <td>usa</td>\n",
       "    </tr>\n",
       "  </tbody>\n",
       "</table>\n",
       "</div>"
      ],
      "text/plain": [
       "                     clickstream_id       IP address  \\\n",
       "timestamp                                              \n",
       "2012-03-01 00:00:19      1330588819  147.222.227.200   \n",
       "2012-03-01 00:00:25      1330588825     99.49.96.163   \n",
       "2012-03-01 00:00:27      1330588827  147.222.227.200   \n",
       "2012-03-01 00:00:57      1330588857     69.114.3.205   \n",
       "2012-03-01 00:00:59      1330588859    71.217.29.209   \n",
       "\n",
       "                                                url  is_purchased?  \\\n",
       "timestamp                                                            \n",
       "2012-03-01 00:00:19              http://www.RL.com/              0   \n",
       "2012-03-01 00:00:25  http://www.RL.com/product/4004              0   \n",
       "2012-03-01 00:00:27              http://www.RL.com/              0   \n",
       "2012-03-01 00:00:57  http://www.RL.com/product/4004              0   \n",
       "2012-03-01 00:00:59   http://www.RL.com/review/3004              0   \n",
       "\n",
       "                     is_page_errored?                       user_session_id  \\\n",
       "timestamp                                                                     \n",
       "2012-03-01 00:00:19           0.00000  AF8A0FDF-B1F8-474C-8CD7-8CA06A8E435B   \n",
       "2012-03-01 00:00:25           1.00000  C9183A22-6E1D-4147-BDC9-D634FC957098   \n",
       "2012-03-01 00:00:27           0.00000  AF8A0FDF-B1F8-474C-8CD7-8CA06A8E435B   \n",
       "2012-03-01 00:00:57           0.00000  F761B842-9DDA-42CC-9F28-A6359B6C7219   \n",
       "2012-03-01 00:00:59           0.59596  6FE1CB72-95C9-47F9-A1CB-7295C927F916   \n",
       "\n",
       "                               city state country  \n",
       "timestamp                                          \n",
       "2012-03-01 00:00:19         spokane    wa     usa  \n",
       "2012-03-01 00:00:25         detroit    mi     usa  \n",
       "2012-03-01 00:00:27         spokane    wa     usa  \n",
       "2012-03-01 00:00:57  east northport    ny     usa  \n",
       "2012-03-01 00:00:59          tacoma    wa     usa  "
      ]
     },
     "execution_count": 22,
     "metadata": {},
     "output_type": "execute_result"
    }
   ],
   "source": [
    "cs = pd.read_csv('clickstream-feed-generated.tsv', header=None, delimiter='|')\n",
    "cs.columns = pd.read_csv('clickstream-data-schema.txt', delimiter='|').columns\n",
    "cs['timestamp'] = cs['timestamp'].astype('datetime64')\n",
    "cs.set_index('timestamp', inplace=True)\n",
    "cs.head(5)"
   ]
  },
  {
   "cell_type": "code",
   "execution_count": 23,
   "metadata": {},
   "outputs": [],
   "source": [
    "r_users = users.rename({'SWID':'user_session_id'}, axis='columns')\n",
    "r_cs = cs.rename({'IP address':'ip_address','is_purchased?':'is_purchased'\n",
    "                ,'is_page_errored?':'is_page_errored', }, axis='columns')\n",
    "r_cs = r_cs.reset_index()"
   ]
  },
  {
   "cell_type": "code",
   "execution_count": 24,
   "metadata": {},
   "outputs": [],
   "source": [
    "## Data merge\n",
    "r_css = pd.merge(r_cs, r_users, how='left')\n",
    "\n",
    "## Delete NaN and dup-data for timestamp\n",
    "r_css = r_css.dropna(axis=0)\n",
    "# r_css = r_css.drop_duplicates(['timestamp'])\n",
    "r_css_sorted = r_css.sort_values(by=['timestamp'])\n",
    "# r_css_sorted = r_css_sorted.set_index('timestamp')"
   ]
  },
  {
   "cell_type": "code",
   "execution_count": 25,
   "metadata": {},
   "outputs": [],
   "source": [
    "# These features can be parsed as numeric.\n",
    "timestamp = ['timestamp']\n",
    "# These features contain a relatively small number of unique items.\n",
    "clickstream_id = ['clickstream_id']\n",
    "url = ['url']\n",
    "is_purchased = ['is_purchased']\n",
    "is_page_errored = ['is_page_errored']\n",
    "user_session_id = ['user_session_id']\n",
    "city = ['city']\n",
    "state = ['state']\n",
    "country = ['country']\n",
    "birth_dt = ['BIRTH_DT']\n",
    "gender_cd = ['GENDER_CD']"
   ]
  },
  {
   "cell_type": "code",
   "execution_count": 26,
   "metadata": {},
   "outputs": [],
   "source": [
    "mapper = DataFrameMapper([\n",
    "        ( clickstream_id, LabelEncoder()), \n",
    "        ( url, LabelEncoder()),\n",
    "        (is_purchased, LabelEncoder()),\n",
    "        ( is_page_errored, [SimpleImputer(strategy='constant', missing_values=np.nan)]), \n",
    "        ( user_session_id, LabelEncoder()),\n",
    "        ( city, LabelEncoder()), \n",
    "        ( state, LabelEncoder()), \n",
    "        ( country, LabelEncoder()), \n",
    "        ( birth_dt, LabelEncoder()), \n",
    "        ( gender_cd, LabelEncoder()),\n",
    "\n",
    "    ], \n",
    "    df_out=True\n",
    ")"
   ]
  },
  {
   "cell_type": "code",
   "execution_count": 27,
   "metadata": {},
   "outputs": [],
   "source": [
    "import time, datetime, sched"
   ]
  },
  {
   "cell_type": "code",
   "execution_count": 28,
   "metadata": {},
   "outputs": [],
   "source": [
    "def data_list(index=0, duration=0, check_data=[]):\n",
    "    check_data.append(list(r_css_sorted.iloc[index]))\n",
    "    print(\"{}    {}      {}\".format(index, duration, str(list(r_css_sorted.iloc[index]))))\n",
    "#     print(str(list(r_css_sorted.iloc[index]))+'\\n')"
   ]
  },
  {
   "cell_type": "code",
   "execution_count": 29,
   "metadata": {},
   "outputs": [],
   "source": [
    "def make_kinesis_data(df, i, col_names):\n",
    "    kinesis_data = {}\n",
    "    kinesis_data['timestamp']=str(df['timestamp'][i])\n",
    "    for col_name in col_names:\n",
    "        if col_name not in ['timestamp']:\n",
    "            if col_name in ['is_page_errored']:\n",
    "                kinesis_data[col_name]=float(df.iloc[i][col_name])\n",
    "            else:\n",
    "                kinesis_data[col_name]=int(df.iloc[i][col_name])\n",
    "\n",
    "    return kinesis_data"
   ]
  },
  {
   "cell_type": "code",
   "execution_count": 30,
   "metadata": {},
   "outputs": [],
   "source": [
    "def s3_sink(shardIterator):\n",
    "    rows = []\n",
    "    response = kinesis_client.get_records(ShardIterator=shardIterator)\n",
    "    records = response[\"Records\"]\n",
    "\n",
    "    try:\n",
    "        while len(records) > 0:\n",
    "            parsed_records = []\n",
    "            for rec in records:\n",
    "                parsed_record = json.loads(rec[\"Data\"])\n",
    "                parsed_records.append(parsed_record)\n",
    "            rows.extend(parsed_records)\n",
    "            time.sleep(1)\n",
    "            shardIterator = response[\"NextShardIterator\"]\n",
    "            response = kinesis_client.get_records(ShardIterator=shardIterator)\n",
    "            records = response[\"Records\"]\n",
    "        flag = rows[0]['TIMESTAMPS'].replace(\":\",\"-\").replace(\" \",\"-\").replace(\".\",\"-\")\n",
    "        s3_save_path = '{}/{}/{}'.format(job_bucket, 'kinesis-analytics', flag)\n",
    "        wr.s3.to_csv(\n",
    "            df=pd.DataFrame(rows),\n",
    "            path=s3_save_path\n",
    "        )\n",
    "    except:\n",
    "        sys.stdout.write(\"[ExpiredIteratorException] Iterator expired.\")\n",
    "        pass\n",
    "    return "
   ]
  },
  {
   "cell_type": "code",
   "execution_count": 31,
   "metadata": {},
   "outputs": [],
   "source": [
    "total_cnt = 500"
   ]
  },
  {
   "cell_type": "code",
   "execution_count": 33,
   "metadata": {},
   "outputs": [
    {
     "name": "stdout",
     "output_type": "stream",
     "text": [
      "0    0      [Timestamp('2012-03-01 00:01:30'), 1330588890, '68.5.184.133', 'http://www.RL.com/', 0, 0.0, '60C8049D-C1A2-41C2-B503-6C1200424C49', 'mission viejo', 'ca', 'usa', '13-Jul-85', 'M']\n",
      "1    0      [Timestamp('2012-03-01 00:01:31'), 1330588891, '68.5.184.133', 'http://www.RL.com/reco/2001', 0, 0.919192, '60C8049D-C1A2-41C2-B503-6C1200424C49', 'mission viejo', 'ca', 'usa', '13-Jul-85', 'M']\n",
      "2    0      [Timestamp('2012-03-01 00:02:19'), 1330588939, '68.5.184.133', 'http://www.RL.com/', 0, 0.0, '60C8049D-C1A2-41C2-B503-6C1200424C49', 'mission viejo', 'ca', 'usa', '13-Jul-85', 'M']\n",
      "3    0      [Timestamp('2012-03-01 00:02:28'), 1330588948, '50.8.107.4', 'http://www.RL.com/', 0, 0.0, 'A24EA63A-843F-4290-8B17-B7D16A204C96', 'denver', 'co', 'usa', '23-Feb-80', 'U']\n",
      "4    0      [Timestamp('2012-03-01 00:03:33'), 1330589013, '67.2.109.46', 'http://www.RL.com/', 0, 0.0, '6AF05C56-1AB3-4CB7-9584-7CDCB27BACFE', 'south jordan', 'ut', 'usa', '23-Jul-68', 'M']\n",
      "5    0      [Timestamp('2012-03-01 00:04:05'), 1330589045, '67.2.109.46', 'http://www.RL.com/', 0, 0.0, '6AF05C56-1AB3-4CB7-9584-7CDCB27BACFE', 'south jordan', 'ut', 'usa', '23-Jul-68', 'M']\n",
      "6    0      [Timestamp('2012-03-01 00:04:11'), 1330589051, '99.102.31.167', 'http://www.RL.com/', 0, 0.0, '7A7EC1B7-BAFE-431A-A4B5-0378A4CDE8CB', 'sacramento', 'ca', 'usa', '28-Feb-89', 'M']\n",
      "7    0      [Timestamp('2012-03-01 00:04:12'), 1330589052, '67.167.89.150', 'http://www.RL.com/product/4003', 0, 0.0, 'ABC5600A-6C6E-405F-9591-A8CDB824CD04', 'carol stream', 'il', 'usa', '1-May-89', 'F']\n",
      "8    0      [Timestamp('2012-03-01 00:04:13'), 1330589053, '99.102.31.167', 'http://www.RL.com/product/4005', 0, 0.0, '7A7EC1B7-BAFE-431A-A4B5-0378A4CDE8CB', 'sacramento', 'ca', 'usa', '28-Feb-89', 'M']\n"
     ]
    },
    {
     "name": "stderr",
     "output_type": "stream",
     "text": [
      "/home/ec2-user/anaconda3/envs/pytorch_p36/lib/python3.6/site-packages/sklearn/utils/validation.py:72: DataConversionWarning: A column-vector y was passed when a 1d array was expected. Please change the shape of y to (n_samples, ), for example using ravel().\n",
      "  return f(**kwargs)\n"
     ]
    },
    {
     "name": "stdout",
     "output_type": "stream",
     "text": [
      "[ExpiredIteratorException] Iterator expired.9    0      [Timestamp('2012-03-01 00:04:45'), 1330589085, '24.9.63.79', 'http://www.RL.com/product/4001', 0, 0.0, 'DEADBDB9-274E-4119-8184-DA17A059D6CE', 'boulder', 'co', 'usa', '1-Nov-95', 'M']\n",
      "10    0      [Timestamp('2012-03-01 00:04:55'), 1330589095, '24.9.63.79', 'http://www.RL.com/', 0, 0.0, 'DEADBDB9-274E-4119-8184-DA17A059D6CE', 'boulder', 'co', 'usa', '1-Nov-95', 'M']\n",
      "11    0      [Timestamp('2012-03-01 00:04:57'), 1330589097, '24.9.63.79', 'http://www.RL.com/product/4004', 1, 0.0, 'DEADBDB9-274E-4119-8184-DA17A059D6CE', 'boulder', 'co', 'usa', '1-Nov-95', 'M']\n",
      "12    0      [Timestamp('2012-03-01 00:05:12'), 1330589112, '24.9.63.79', 'http://www.RL.com/', 0, 0.0, 'DEADBDB9-274E-4119-8184-DA17A059D6CE', 'boulder', 'co', 'usa', '1-Nov-95', 'M']\n",
      "13    0      [Timestamp('2012-03-01 00:05:22'), 1330589122, '99.102.31.167', 'http://www.RL.com/', 0, 0.0, '7A7EC1B7-BAFE-431A-A4B5-0378A4CDE8CB', 'sacramento', 'ca', 'usa', '28-Feb-89', 'M']\n",
      "14    0      [Timestamp('2012-03-01 00:05:32'), 1330589132, '24.9.63.79', 'http://www.RL.com/', 0, 0.0, 'DEADBDB9-274E-4119-8184-DA17A059D6CE', 'boulder', 'co', 'usa', '1-Nov-95', 'M']\n",
      "15    0      [Timestamp('2012-03-01 00:05:34'), 1330589134, '68.52.198.113', 'http://www.RL.com/product/4005', 0, 0.0, 'DA55421E-31B5-45E5-9542-1E31B575E5CC', 'nashville', 'tn', 'usa', '1-Jan-79', 'U']\n",
      "16    0      [Timestamp('2012-03-01 00:05:37'), 1330589137, '68.52.198.113', 'http://www.RL.com/', 0, 0.0, 'DA55421E-31B5-45E5-9542-1E31B575E5CC', 'nashville', 'tn', 'usa', '1-Jan-79', 'U']\n",
      "17    0      [Timestamp('2012-03-01 00:06:36'), 1330589196, '68.52.198.113', 'http://www.RL.com/', 0, 0.0, 'DA55421E-31B5-45E5-9542-1E31B575E5CC', 'nashville', 'tn', 'usa', '1-Jan-79', 'U']\n",
      "18    0      [Timestamp('2012-03-01 00:08:42'), 1330589322, '68.5.184.133', 'http://www.RL.com/product/4003', 0, 0.0, '60C8049D-C1A2-41C2-B503-6C1200424C49', 'mission viejo', 'ca', 'usa', '13-Jul-85', 'M']\n"
     ]
    },
    {
     "name": "stderr",
     "output_type": "stream",
     "text": [
      "/home/ec2-user/anaconda3/envs/pytorch_p36/lib/python3.6/site-packages/sklearn/utils/validation.py:72: DataConversionWarning: A column-vector y was passed when a 1d array was expected. Please change the shape of y to (n_samples, ), for example using ravel().\n",
      "  return f(**kwargs)\n"
     ]
    },
    {
     "name": "stdout",
     "output_type": "stream",
     "text": [
      "[ExpiredIteratorException] Iterator expired.19    0      [Timestamp('2012-03-01 00:08:44'), 1330589324, '68.5.184.133', 'http://www.RL.com/review/3004', 0, 0.24242399999999997, '60C8049D-C1A2-41C2-B503-6C1200424C49', 'mission viejo', 'ca', 'usa', '13-Jul-85', 'M']\n",
      "20    0      [Timestamp('2012-03-01 00:08:52'), 1330589332, '50.8.107.4', 'http://www.RL.com/review/3004', 0, 0.323232, 'A24EA63A-843F-4290-8B17-B7D16A204C96', 'denver', 'co', 'usa', '23-Feb-80', 'U']\n",
      "21    0      [Timestamp('2012-03-01 00:09:26'), 1330589366, '98.228.34.12', 'http://www.RL.com/review/3004', 0, 0.666667, 'D956528D-3CAC-4035-BB1C-79A8D4F4996A', 'bloomington', 'in', 'usa', '3-Feb-86', 'F']\n",
      "22    0      [Timestamp('2012-03-01 00:09:26'), 1330589366, '98.228.34.12', 'http://www.RL.com/video/1001', 0, 0.666667, 'D956528D-3CAC-4035-BB1C-79A8D4F4996A', 'bloomington', 'in', 'usa', '3-Feb-86', 'F']\n",
      "23    0      [Timestamp('2012-03-01 00:09:34'), 1330589374, '98.228.34.12', 'http://www.RL.com/video/1001', 0, 0.747475, 'D956528D-3CAC-4035-BB1C-79A8D4F4996A', 'bloomington', 'in', 'usa', '3-Feb-86', 'F']\n",
      "24    1      [Timestamp('2012-03-01 00:09:58'), 1330589398, '207.62.158.62', 'http://www.RL.com/review/3002', 0, 0.989899, 'E1D2DE32-6F67-4A50-ABC1-102555658531', 'san luis obispo', 'ca', 'usa', '15-Nov-92', 'M']\n",
      "25    1      [Timestamp('2012-03-01 00:10:12'), 1330589412, '207.62.158.62', 'http://www.RL.com/reco/2001', 0, 0.12121199999999999, 'E1D2DE32-6F67-4A50-ABC1-102555658531', 'san luis obispo', 'ca', 'usa', '15-Nov-92', 'M']\n",
      "26    1      [Timestamp('2012-03-01 00:10:27'), 1330589427, '50.8.107.4', 'http://www.RL.com/video/1003', 0, 0.272727, 'A24EA63A-843F-4290-8B17-B7D16A204C96', 'denver', 'co', 'usa', '23-Feb-80', 'U']\n",
      "27    1      [Timestamp('2012-03-01 00:10:29'), 1330589429, '68.5.184.133', 'http://www.RL.com/review/3002', 0, 0.292929, '60C8049D-C1A2-41C2-B503-6C1200424C49', 'mission viejo', 'ca', 'usa', '13-Jul-85', 'M']\n",
      "28    1      [Timestamp('2012-03-01 00:10:29'), 1330589429, '68.5.184.133', 'http://www.RL.com/', 0, 0.0, '60C8049D-C1A2-41C2-B503-6C1200424C49', 'mission viejo', 'ca', 'usa', '13-Jul-85', 'M']\n"
     ]
    },
    {
     "name": "stderr",
     "output_type": "stream",
     "text": [
      "/home/ec2-user/anaconda3/envs/pytorch_p36/lib/python3.6/site-packages/sklearn/utils/validation.py:72: DataConversionWarning: A column-vector y was passed when a 1d array was expected. Please change the shape of y to (n_samples, ), for example using ravel().\n",
      "  return f(**kwargs)\n"
     ]
    },
    {
     "name": "stdout",
     "output_type": "stream",
     "text": [
      "[ExpiredIteratorException] Iterator expired.29    1      [Timestamp('2012-03-01 00:11:48'), 1330589508, '207.62.158.62', 'http://www.RL.com/video/1003', 0, 0.08080810000000001, 'E1D2DE32-6F67-4A50-ABC1-102555658531', 'san luis obispo', 'ca', 'usa', '15-Nov-92', 'M']\n",
      "30    1      [Timestamp('2012-03-01 00:12:05'), 1330589525, '99.102.31.167', 'http://www.RL.com/product/4003', 0, 0.0, '7A7EC1B7-BAFE-431A-A4B5-0378A4CDE8CB', 'sacramento', 'ca', 'usa', '28-Feb-89', 'M']\n",
      "31    1      [Timestamp('2012-03-01 00:12:07'), 1330589527, '207.62.158.62', 'http://www.RL.com/reco/2002', 0, 0.272727, 'E1D2DE32-6F67-4A50-ABC1-102555658531', 'san luis obispo', 'ca', 'usa', '15-Nov-92', 'M']\n",
      "32    1      [Timestamp('2012-03-01 00:12:17'), 1330589537, '207.62.158.62', 'http://www.RL.com/video/1002', 0, 0.373737, 'E1D2DE32-6F67-4A50-ABC1-102555658531', 'san luis obispo', 'ca', 'usa', '15-Nov-92', 'M']\n",
      "33    1      [Timestamp('2012-03-01 00:12:19'), 1330589539, '207.62.158.62', 'http://www.RL.com/reco/2001', 0, 0.393939, 'E1D2DE32-6F67-4A50-ABC1-102555658531', 'san luis obispo', 'ca', 'usa', '15-Nov-92', 'M']\n",
      "34    1      [Timestamp('2012-03-01 00:12:50'), 1330589570, '207.62.158.62', 'http://www.RL.com/', 0, 0.0, 'E1D2DE32-6F67-4A50-ABC1-102555658531', 'san luis obispo', 'ca', 'usa', '15-Nov-92', 'M']\n",
      "35    1      [Timestamp('2012-03-01 00:12:50'), 1330589570, '207.62.158.62', 'http://www.RL.com/', 0, 0.0, 'E1D2DE32-6F67-4A50-ABC1-102555658531', 'san luis obispo', 'ca', 'usa', '15-Nov-92', 'M']\n",
      "36    1      [Timestamp('2012-03-01 00:13:02'), 1330589582, '207.62.158.62', 'http://www.RL.com/reco/2002', 0, 0.828283, 'E1D2DE32-6F67-4A50-ABC1-102555658531', 'san luis obispo', 'ca', 'usa', '15-Nov-92', 'M']\n",
      "37    1      [Timestamp('2012-03-01 00:13:08'), 1330589588, '99.102.31.167', 'http://www.RL.com/reco/2002', 0, 0.8888889999999999, '7A7EC1B7-BAFE-431A-A4B5-0378A4CDE8CB', 'sacramento', 'ca', 'usa', '28-Feb-89', 'M']\n",
      "38    1      [Timestamp('2012-03-01 00:13:08'), 1330589588, '99.102.31.167', 'http://www.RL.com/', 0, 0.0, '7A7EC1B7-BAFE-431A-A4B5-0378A4CDE8CB', 'sacramento', 'ca', 'usa', '28-Feb-89', 'M']\n"
     ]
    },
    {
     "name": "stderr",
     "output_type": "stream",
     "text": [
      "/home/ec2-user/anaconda3/envs/pytorch_p36/lib/python3.6/site-packages/sklearn/utils/validation.py:72: DataConversionWarning: A column-vector y was passed when a 1d array was expected. Please change the shape of y to (n_samples, ), for example using ravel().\n",
      "  return f(**kwargs)\n"
     ]
    },
    {
     "name": "stdout",
     "output_type": "stream",
     "text": [
      "[ExpiredIteratorException] Iterator expired.39    1      [Timestamp('2012-03-01 00:13:36'), 1330589616, '67.2.109.46', 'http://www.RL.com/reco/2002', 0, 0.161616, '6AF05C56-1AB3-4CB7-9584-7CDCB27BACFE', 'south jordan', 'ut', 'usa', '23-Jul-68', 'M']\n",
      "40    1      [Timestamp('2012-03-01 00:13:39'), 1330589619, '24.9.63.79', 'http://www.RL.com/', 0, 0.0, 'DEADBDB9-274E-4119-8184-DA17A059D6CE', 'boulder', 'co', 'usa', '1-Nov-95', 'M']\n",
      "41    1      [Timestamp('2012-03-01 00:14:32'), 1330589672, '24.9.63.79', 'http://www.RL.com/video/1001', 0, 0.727273, 'DEADBDB9-274E-4119-8184-DA17A059D6CE', 'boulder', 'co', 'usa', '1-Nov-95', 'M']\n",
      "42    1      [Timestamp('2012-03-01 00:14:32'), 1330589672, '24.9.63.79', 'http://www.RL.com/video/1003', 0, 0.727273, 'DEADBDB9-274E-4119-8184-DA17A059D6CE', 'boulder', 'co', 'usa', '1-Nov-95', 'M']\n",
      "43    1      [Timestamp('2012-03-01 00:14:39'), 1330589679, '67.2.109.46', 'http://www.RL.com/product/4004', 0, 0.0, '6AF05C56-1AB3-4CB7-9584-7CDCB27BACFE', 'south jordan', 'ut', 'usa', '23-Jul-68', 'M']\n",
      "44    1      [Timestamp('2012-03-01 00:14:39'), 1330589679, '67.2.109.46', 'http://www.RL.com/video/1002', 0, 0.79798, '6AF05C56-1AB3-4CB7-9584-7CDCB27BACFE', 'south jordan', 'ut', 'usa', '23-Jul-68', 'M']\n",
      "45    1      [Timestamp('2012-03-01 00:15:21'), 1330589721, '68.5.184.133', 'http://www.RL.com/', 0, 0.0, '60C8049D-C1A2-41C2-B503-6C1200424C49', 'mission viejo', 'ca', 'usa', '13-Jul-85', 'M']\n",
      "46    1      [Timestamp('2012-03-01 00:15:40'), 1330589740, '24.9.63.79', 'http://www.RL.com/reco/2002', 0, 0.40404, 'DEADBDB9-274E-4119-8184-DA17A059D6CE', 'boulder', 'co', 'usa', '1-Nov-95', 'M']\n",
      "47    1      [Timestamp('2012-03-01 00:15:53'), 1330589753, '68.52.198.113', 'http://www.RL.com/review/3001', 0, 0.535354, 'DA55421E-31B5-45E5-9542-1E31B575E5CC', 'nashville', 'tn', 'usa', '1-Jan-79', 'U']\n",
      "48    1      [Timestamp('2012-03-01 00:15:54'), 1330589754, '68.52.198.113', 'http://www.RL.com/', 0, 0.0, 'DA55421E-31B5-45E5-9542-1E31B575E5CC', 'nashville', 'tn', 'usa', '1-Jan-79', 'U']\n"
     ]
    },
    {
     "name": "stderr",
     "output_type": "stream",
     "text": [
      "/home/ec2-user/anaconda3/envs/pytorch_p36/lib/python3.6/site-packages/sklearn/utils/validation.py:72: DataConversionWarning: A column-vector y was passed when a 1d array was expected. Please change the shape of y to (n_samples, ), for example using ravel().\n",
      "  return f(**kwargs)\n"
     ]
    },
    {
     "name": "stdout",
     "output_type": "stream",
     "text": [
      "[ExpiredIteratorException] Iterator expired.49    1      [Timestamp('2012-03-01 00:16:40'), 1330589800, '68.52.198.113', 'http://www.RL.com/product/4003', 0, 0.0, 'DA55421E-31B5-45E5-9542-1E31B575E5CC', 'nashville', 'tn', 'usa', '1-Jan-79', 'U']\n",
      "50    1      [Timestamp('2012-03-01 00:16:40'), 1330589800, '68.52.198.113', 'http://www.RL.com/product/4001', 1, 0.0, 'DA55421E-31B5-45E5-9542-1E31B575E5CC', 'nashville', 'tn', 'usa', '1-Jan-79', 'U']\n",
      "51    1      [Timestamp('2012-03-01 00:16:41'), 1330589801, '98.228.34.12', 'http://www.RL.com/reco/2002', 0, 0.010101, 'D956528D-3CAC-4035-BB1C-79A8D4F4996A', 'bloomington', 'in', 'usa', '3-Feb-86', 'F']\n",
      "52    1      [Timestamp('2012-03-01 00:16:58'), 1330589818, '24.9.63.79', 'http://www.RL.com/reco/2001', 0, 0.181818, 'DEADBDB9-274E-4119-8184-DA17A059D6CE', 'boulder', 'co', 'usa', '1-Nov-95', 'M']\n",
      "53    1      [Timestamp('2012-03-01 00:18:06'), 1330589886, '98.228.34.12', 'http://www.RL.com/review/3001', 0, 0.8686870000000001, 'D956528D-3CAC-4035-BB1C-79A8D4F4996A', 'bloomington', 'in', 'usa', '3-Feb-86', 'F']\n",
      "54    1      [Timestamp('2012-03-01 00:18:09'), 1330589889, '98.228.34.12', 'http://www.RL.com/', 0, 0.0, 'D956528D-3CAC-4035-BB1C-79A8D4F4996A', 'bloomington', 'in', 'usa', '3-Feb-86', 'F']\n",
      "55    1      [Timestamp('2012-03-01 00:18:36'), 1330589916, '50.8.107.4', 'http://www.RL.com/product/4005', 0, 0.0, 'A24EA63A-843F-4290-8B17-B7D16A204C96', 'denver', 'co', 'usa', '23-Feb-80', 'U']\n",
      "56    1      [Timestamp('2012-03-01 00:19:16'), 1330589956, '24.9.63.79', 'http://www.RL.com/', 0, 0.0, 'DEADBDB9-274E-4119-8184-DA17A059D6CE', 'boulder', 'co', 'usa', '1-Nov-95', 'M']\n",
      "57    1      [Timestamp('2012-03-01 00:20:25'), 1330590025, '68.52.198.113', 'http://www.RL.com/product/4002', 0, 0.0, 'DA55421E-31B5-45E5-9542-1E31B575E5CC', 'nashville', 'tn', 'usa', '1-Jan-79', 'U']\n",
      "58    1      [Timestamp('2012-03-01 00:20:46'), 1330590046, '24.9.63.79', 'http://www.RL.com/product/4002', 0, 0.0, 'DEADBDB9-274E-4119-8184-DA17A059D6CE', 'boulder', 'co', 'usa', '1-Nov-95', 'M']\n"
     ]
    },
    {
     "name": "stderr",
     "output_type": "stream",
     "text": [
      "/home/ec2-user/anaconda3/envs/pytorch_p36/lib/python3.6/site-packages/sklearn/utils/validation.py:72: DataConversionWarning: A column-vector y was passed when a 1d array was expected. Please change the shape of y to (n_samples, ), for example using ravel().\n",
      "  return f(**kwargs)\n"
     ]
    },
    {
     "name": "stdout",
     "output_type": "stream",
     "text": [
      "[ExpiredIteratorException] Iterator expired.59    1      [Timestamp('2012-03-01 00:20:56'), 1330590056, '68.52.198.113', 'http://www.RL.com/review/3001', 0, 0.565657, 'DA55421E-31B5-45E5-9542-1E31B575E5CC', 'nashville', 'tn', 'usa', '1-Jan-79', 'U']\n",
      "60    1      [Timestamp('2012-03-01 00:22:05'), 1330590125, '207.62.158.62', 'http://www.RL.com/product/4005', 0, 0.0, 'E1D2DE32-6F67-4A50-ABC1-102555658531', 'san luis obispo', 'ca', 'usa', '15-Nov-92', 'M']\n",
      "61    1      [Timestamp('2012-03-01 00:22:32'), 1330590152, '24.9.63.79', 'http://www.RL.com/product/4003', 0, 0.0, 'DEADBDB9-274E-4119-8184-DA17A059D6CE', 'boulder', 'co', 'usa', '1-Nov-95', 'M']\n",
      "62    1      [Timestamp('2012-03-01 00:22:37'), 1330590157, '67.2.109.46', 'http://www.RL.com/product/4001', 0, 0.0, '6AF05C56-1AB3-4CB7-9584-7CDCB27BACFE', 'south jordan', 'ut', 'usa', '23-Jul-68', 'M']\n",
      "63    1      [Timestamp('2012-03-01 00:22:37'), 1330590157, '67.2.109.46', 'http://www.RL.com/review/3005', 0, 0.575758, '6AF05C56-1AB3-4CB7-9584-7CDCB27BACFE', 'south jordan', 'ut', 'usa', '23-Jul-68', 'M']\n",
      "64    1      [Timestamp('2012-03-01 00:22:39'), 1330590159, '99.102.31.167', 'http://www.RL.com/', 0, 0.0, '7A7EC1B7-BAFE-431A-A4B5-0378A4CDE8CB', 'sacramento', 'ca', 'usa', '28-Feb-89', 'M']\n",
      "65    1      [Timestamp('2012-03-01 00:22:40'), 1330590160, '99.102.31.167', 'http://www.RL.com/review/3003', 0, 0.606061, '7A7EC1B7-BAFE-431A-A4B5-0378A4CDE8CB', 'sacramento', 'ca', 'usa', '28-Feb-89', 'M']\n",
      "66    1      [Timestamp('2012-03-01 00:23:00'), 1330590180, '98.228.34.12', 'http://www.RL.com/', 0, 0.0, 'D956528D-3CAC-4035-BB1C-79A8D4F4996A', 'bloomington', 'in', 'usa', '3-Feb-86', 'F']\n",
      "67    1      [Timestamp('2012-03-01 00:23:07'), 1330590187, '207.62.158.62', 'http://www.RL.com/product/4003', 0, 0.0, 'E1D2DE32-6F67-4A50-ABC1-102555658531', 'san luis obispo', 'ca', 'usa', '15-Nov-92', 'M']\n",
      "68    1      [Timestamp('2012-03-01 00:23:09'), 1330590189, '207.62.158.62', 'http://www.RL.com/product/4004', 0, 1.0, 'E1D2DE32-6F67-4A50-ABC1-102555658531', 'san luis obispo', 'ca', 'usa', '15-Nov-92', 'M']\n"
     ]
    },
    {
     "name": "stderr",
     "output_type": "stream",
     "text": [
      "/home/ec2-user/anaconda3/envs/pytorch_p36/lib/python3.6/site-packages/sklearn/utils/validation.py:72: DataConversionWarning: A column-vector y was passed when a 1d array was expected. Please change the shape of y to (n_samples, ), for example using ravel().\n",
      "  return f(**kwargs)\n"
     ]
    },
    {
     "name": "stdout",
     "output_type": "stream",
     "text": [
      "[ExpiredIteratorException] Iterator expired.69    1      [Timestamp('2012-03-01 00:23:28'), 1330590208, '99.102.31.167', 'http://www.RL.com/video/1003', 0, 0.08080810000000001, '7A7EC1B7-BAFE-431A-A4B5-0378A4CDE8CB', 'sacramento', 'ca', 'usa', '28-Feb-89', 'M']\n",
      "70    1      [Timestamp('2012-03-01 00:23:28'), 1330590208, '99.102.31.167', 'http://www.RL.com/reco/2001', 0, 0.08080810000000001, '7A7EC1B7-BAFE-431A-A4B5-0378A4CDE8CB', 'sacramento', 'ca', 'usa', '28-Feb-89', 'M']\n",
      "71    1      [Timestamp('2012-03-01 00:24:37'), 1330590277, '24.9.63.79', 'http://www.RL.com/', 0, 0.0, 'DEADBDB9-274E-4119-8184-DA17A059D6CE', 'boulder', 'co', 'usa', '1-Nov-95', 'M']\n",
      "72    1      [Timestamp('2012-03-01 00:24:42'), 1330590282, '24.9.63.79', 'http://www.RL.com/', 0, 0.0, 'DEADBDB9-274E-4119-8184-DA17A059D6CE', 'boulder', 'co', 'usa', '1-Nov-95', 'M']\n",
      "73    1      [Timestamp('2012-03-01 00:24:43'), 1330590283, '24.9.63.79', 'http://www.RL.com/', 0, 0.0, 'DEADBDB9-274E-4119-8184-DA17A059D6CE', 'boulder', 'co', 'usa', '1-Nov-95', 'M']\n",
      "74    1      [Timestamp('2012-03-01 00:24:59'), 1330590299, '24.9.63.79', 'http://www.RL.com/review/3001', 0, 1.0, 'DEADBDB9-274E-4119-8184-DA17A059D6CE', 'boulder', 'co', 'usa', '1-Nov-95', 'M']\n",
      "75    1      [Timestamp('2012-03-01 00:24:59'), 1330590299, '24.9.63.79', 'http://www.RL.com/', 0, 0.0, 'DEADBDB9-274E-4119-8184-DA17A059D6CE', 'boulder', 'co', 'usa', '1-Nov-95', 'M']\n",
      "76    1      [Timestamp('2012-03-01 00:25:46'), 1330590346, '68.52.198.113', 'http://www.RL.com/product/4002', 0, 0.0, 'DA55421E-31B5-45E5-9542-1E31B575E5CC', 'nashville', 'tn', 'usa', '1-Jan-79', 'U']\n",
      "77    1      [Timestamp('2012-03-01 00:25:46'), 1330590346, '68.52.198.113', 'http://www.RL.com/product/4003', 0, 0.0, 'DA55421E-31B5-45E5-9542-1E31B575E5CC', 'nashville', 'tn', 'usa', '1-Jan-79', 'U']\n",
      "78    1      [Timestamp('2012-03-01 00:26:26'), 1330590386, '50.8.107.4', 'http://www.RL.com/', 0, 0.0, 'A24EA63A-843F-4290-8B17-B7D16A204C96', 'denver', 'co', 'usa', '23-Feb-80', 'U']\n"
     ]
    },
    {
     "name": "stderr",
     "output_type": "stream",
     "text": [
      "/home/ec2-user/anaconda3/envs/pytorch_p36/lib/python3.6/site-packages/sklearn/utils/validation.py:72: DataConversionWarning: A column-vector y was passed when a 1d array was expected. Please change the shape of y to (n_samples, ), for example using ravel().\n",
      "  return f(**kwargs)\n"
     ]
    },
    {
     "name": "stdout",
     "output_type": "stream",
     "text": [
      "[ExpiredIteratorException] Iterator expired.79    2      [Timestamp('2012-03-01 00:26:30'), 1330590390, '24.9.63.79', 'http://www.RL.com/', 0, 0.0, 'DEADBDB9-274E-4119-8184-DA17A059D6CE', 'boulder', 'co', 'usa', '1-Nov-95', 'M']\n",
      "80    2      [Timestamp('2012-03-01 00:27:15'), 1330590435, '50.8.107.4', 'http://www.RL.com/product/4002', 0, 0.0, 'A24EA63A-843F-4290-8B17-B7D16A204C96', 'denver', 'co', 'usa', '23-Feb-80', 'U']\n",
      "81    2      [Timestamp('2012-03-01 00:27:28'), 1330590448, '68.52.198.113', 'http://www.RL.com/review/3003', 0, 0.48484799999999995, 'DA55421E-31B5-45E5-9542-1E31B575E5CC', 'nashville', 'tn', 'usa', '1-Jan-79', 'U']\n",
      "82    2      [Timestamp('2012-03-01 00:27:28'), 1330590448, '68.52.198.113', 'http://www.RL.com/review/3004', 0, 0.48484799999999995, 'DA55421E-31B5-45E5-9542-1E31B575E5CC', 'nashville', 'tn', 'usa', '1-Jan-79', 'U']\n",
      "83    2      [Timestamp('2012-03-01 00:29:42'), 1330590582, '24.9.63.79', 'http://www.RL.com/', 0, 0.0, 'DEADBDB9-274E-4119-8184-DA17A059D6CE', 'boulder', 'co', 'usa', '1-Nov-95', 'M']\n",
      "84    2      [Timestamp('2012-03-01 00:29:42'), 1330590582, '24.9.63.79', 'http://www.RL.com/', 0, 0.0, 'DEADBDB9-274E-4119-8184-DA17A059D6CE', 'boulder', 'co', 'usa', '1-Nov-95', 'M']\n",
      "85    2      [Timestamp('2012-03-01 00:29:53'), 1330590593, '99.102.31.167', 'http://www.RL.com/product/4005', 0, 0.0, '7A7EC1B7-BAFE-431A-A4B5-0378A4CDE8CB', 'sacramento', 'ca', 'usa', '28-Feb-89', 'M']\n",
      "86    2      [Timestamp('2012-03-01 00:30:15'), 1330590615, '207.62.158.62', 'http://www.RL.com/', 0, 0.0, 'E1D2DE32-6F67-4A50-ABC1-102555658531', 'san luis obispo', 'ca', 'usa', '15-Nov-92', 'M']\n",
      "87    2      [Timestamp('2012-03-01 00:30:15'), 1330590615, '207.62.158.62', 'http://www.RL.com/', 0, 0.0, 'E1D2DE32-6F67-4A50-ABC1-102555658531', 'san luis obispo', 'ca', 'usa', '15-Nov-92', 'M']\n",
      "88    2      [Timestamp('2012-03-01 00:30:30'), 1330590630, '24.9.63.79', 'http://www.RL.com/video/1001', 0, 0.30303, 'DEADBDB9-274E-4119-8184-DA17A059D6CE', 'boulder', 'co', 'usa', '1-Nov-95', 'M']\n"
     ]
    },
    {
     "name": "stderr",
     "output_type": "stream",
     "text": [
      "/home/ec2-user/anaconda3/envs/pytorch_p36/lib/python3.6/site-packages/sklearn/utils/validation.py:72: DataConversionWarning: A column-vector y was passed when a 1d array was expected. Please change the shape of y to (n_samples, ), for example using ravel().\n",
      "  return f(**kwargs)\n"
     ]
    },
    {
     "name": "stdout",
     "output_type": "stream",
     "text": [
      "[ExpiredIteratorException] Iterator expired.89    2      [Timestamp('2012-03-01 00:30:32'), 1330590632, '24.9.63.79', 'http://www.RL.com/product/4005', 0, 0.0, 'DEADBDB9-274E-4119-8184-DA17A059D6CE', 'boulder', 'co', 'usa', '1-Nov-95', 'M']\n",
      "90    2      [Timestamp('2012-03-01 00:30:58'), 1330590658, '99.102.31.167', 'http://www.RL.com/product/4005', 0, 0.0, '7A7EC1B7-BAFE-431A-A4B5-0378A4CDE8CB', 'sacramento', 'ca', 'usa', '28-Feb-89', 'M']\n",
      "91    2      [Timestamp('2012-03-01 00:31:19'), 1330590679, '99.102.31.167', 'http://www.RL.com/review/3002', 0, 0.79798, '7A7EC1B7-BAFE-431A-A4B5-0378A4CDE8CB', 'sacramento', 'ca', 'usa', '28-Feb-89', 'M']\n",
      "92    2      [Timestamp('2012-03-01 00:31:25'), 1330590685, '99.102.31.167', 'http://www.RL.com/product/4002', 0, 0.0, '7A7EC1B7-BAFE-431A-A4B5-0378A4CDE8CB', 'sacramento', 'ca', 'usa', '28-Feb-89', 'M']\n",
      "93    2      [Timestamp('2012-03-01 00:31:25'), 1330590685, '99.102.31.167', 'http://www.RL.com/product/4004', 0, 0.0, '7A7EC1B7-BAFE-431A-A4B5-0378A4CDE8CB', 'sacramento', 'ca', 'usa', '28-Feb-89', 'M']\n",
      "94    2      [Timestamp('2012-03-01 00:31:52'), 1330590712, '99.102.31.167', 'http://www.RL.com/video/1002', 0, 0.12121199999999999, '7A7EC1B7-BAFE-431A-A4B5-0378A4CDE8CB', 'sacramento', 'ca', 'usa', '28-Feb-89', 'M']\n",
      "95    2      [Timestamp('2012-03-01 00:31:53'), 1330590713, '207.62.158.62', 'http://www.RL.com/review/3004', 0, 0.131313, 'E1D2DE32-6F67-4A50-ABC1-102555658531', 'san luis obispo', 'ca', 'usa', '15-Nov-92', 'M']\n",
      "96    2      [Timestamp('2012-03-01 00:31:53'), 1330590713, '99.102.31.167', 'http://www.RL.com/', 0, 0.0, '7A7EC1B7-BAFE-431A-A4B5-0378A4CDE8CB', 'sacramento', 'ca', 'usa', '28-Feb-89', 'M']\n",
      "97    2      [Timestamp('2012-03-01 00:35:44'), 1330590944, '50.8.107.4', 'http://www.RL.com/', 0, 0.0, 'A24EA63A-843F-4290-8B17-B7D16A204C96', 'denver', 'co', 'usa', '23-Feb-80', 'U']\n",
      "98    2      [Timestamp('2012-03-01 00:36:46'), 1330591006, '72.235.251.97', 'http://www.RL.com/review/3003', 0, 0.0606061, '306389A0-1448-4FB7-87C9-F53BED419CB2', 'kapolei', 'hi', 'usa', '13-Sep-95', 'F']\n"
     ]
    },
    {
     "name": "stderr",
     "output_type": "stream",
     "text": [
      "/home/ec2-user/anaconda3/envs/pytorch_p36/lib/python3.6/site-packages/sklearn/utils/validation.py:72: DataConversionWarning: A column-vector y was passed when a 1d array was expected. Please change the shape of y to (n_samples, ), for example using ravel().\n",
      "  return f(**kwargs)\n"
     ]
    },
    {
     "name": "stdout",
     "output_type": "stream",
     "text": [
      "[ExpiredIteratorException] Iterator expired.99    2      [Timestamp('2012-03-01 00:36:58'), 1330591018, '68.52.198.113', 'http://www.RL.com/', 0, 0.0, 'DA55421E-31B5-45E5-9542-1E31B575E5CC', 'nashville', 'tn', 'usa', '1-Jan-79', 'U']\n",
      "100    2      [Timestamp('2012-03-01 00:37:06'), 1330591026, '50.8.107.4', 'http://www.RL.com/', 0, 0.0, 'A24EA63A-843F-4290-8B17-B7D16A204C96', 'denver', 'co', 'usa', '23-Feb-80', 'U']\n",
      "101    2      [Timestamp('2012-03-01 00:37:08'), 1330591028, '68.52.198.113', 'http://www.RL.com/video/1003', 0, 0.282828, 'DA55421E-31B5-45E5-9542-1E31B575E5CC', 'nashville', 'tn', 'usa', '1-Jan-79', 'U']\n",
      "102    2      [Timestamp('2012-03-01 00:37:12'), 1330591032, '207.62.158.62', 'http://www.RL.com/reco/2002', 0, 0.323232, 'E1D2DE32-6F67-4A50-ABC1-102555658531', 'san luis obispo', 'ca', 'usa', '15-Nov-92', 'M']\n",
      "103    2      [Timestamp('2012-03-01 00:37:12'), 1330591032, '207.62.158.62', 'http://www.RL.com/', 0, 0.0, 'E1D2DE32-6F67-4A50-ABC1-102555658531', 'san luis obispo', 'ca', 'usa', '15-Nov-92', 'M']\n",
      "104    2      [Timestamp('2012-03-01 00:37:34'), 1330591054, '68.52.198.113', 'http://www.RL.com/', 0, 0.0, 'DA55421E-31B5-45E5-9542-1E31B575E5CC', 'nashville', 'tn', 'usa', '1-Jan-79', 'U']\n",
      "105    2      [Timestamp('2012-03-01 00:37:45'), 1330591065, '68.52.198.113', 'http://www.RL.com/', 0, 0.0, 'DA55421E-31B5-45E5-9542-1E31B575E5CC', 'nashville', 'tn', 'usa', '1-Jan-79', 'U']\n",
      "106    2      [Timestamp('2012-03-01 00:38:00'), 1330591080, '68.52.198.113', 'http://www.RL.com/review/3003', 0, 0.808081, 'DA55421E-31B5-45E5-9542-1E31B575E5CC', 'nashville', 'tn', 'usa', '1-Jan-79', 'U']\n",
      "107    2      [Timestamp('2012-03-01 00:38:01'), 1330591081, '68.52.198.113', 'http://www.RL.com/product/4003', 0, 0.0, 'DA55421E-31B5-45E5-9542-1E31B575E5CC', 'nashville', 'tn', 'usa', '1-Jan-79', 'U']\n",
      "108    2      [Timestamp('2012-03-01 00:38:10'), 1330591090, '68.52.198.113', 'http://www.RL.com/', 0, 0.0, 'DA55421E-31B5-45E5-9542-1E31B575E5CC', 'nashville', 'tn', 'usa', '1-Jan-79', 'U']\n"
     ]
    },
    {
     "name": "stderr",
     "output_type": "stream",
     "text": [
      "/home/ec2-user/anaconda3/envs/pytorch_p36/lib/python3.6/site-packages/sklearn/utils/validation.py:72: DataConversionWarning: A column-vector y was passed when a 1d array was expected. Please change the shape of y to (n_samples, ), for example using ravel().\n",
      "  return f(**kwargs)\n"
     ]
    },
    {
     "name": "stdout",
     "output_type": "stream",
     "text": [
      "[ExpiredIteratorException] Iterator expired.109    2      [Timestamp('2012-03-01 00:38:19'), 1330591099, '207.62.158.62', 'http://www.RL.com/review/3004', 0, 1.0, 'E1D2DE32-6F67-4A50-ABC1-102555658531', 'san luis obispo', 'ca', 'usa', '15-Nov-92', 'M']\n",
      "110    2      [Timestamp('2012-03-01 00:40:07'), 1330591207, '24.9.63.79', 'http://www.RL.com/video/1003', 0, 0.07070710000000001, 'DEADBDB9-274E-4119-8184-DA17A059D6CE', 'boulder', 'co', 'usa', '1-Nov-95', 'M']\n",
      "111    2      [Timestamp('2012-03-01 00:40:07'), 1330591207, '24.9.63.79', 'http://www.RL.com/', 0, 0.0, 'DEADBDB9-274E-4119-8184-DA17A059D6CE', 'boulder', 'co', 'usa', '1-Nov-95', 'M']\n",
      "112    2      [Timestamp('2012-03-01 00:40:53'), 1330591253, '24.9.63.79', 'http://www.RL.com/review/3005', 0, 0.535354, 'DEADBDB9-274E-4119-8184-DA17A059D6CE', 'boulder', 'co', 'usa', '1-Nov-95', 'M']\n",
      "113    2      [Timestamp('2012-03-01 00:42:05'), 1330591325, '207.62.158.62', 'http://www.RL.com/product/4001', 0, 0.0, 'E1D2DE32-6F67-4A50-ABC1-102555658531', 'san luis obispo', 'ca', 'usa', '15-Nov-92', 'M']\n",
      "114    2      [Timestamp('2012-03-01 00:42:07'), 1330591327, '207.62.158.62', 'http://www.RL.com/', 0, 0.0, 'E1D2DE32-6F67-4A50-ABC1-102555658531', 'san luis obispo', 'ca', 'usa', '15-Nov-92', 'M']\n",
      "115    2      [Timestamp('2012-03-01 00:42:44'), 1330591364, '207.62.158.62', 'http://www.RL.com/', 0, 0.0, 'E1D2DE32-6F67-4A50-ABC1-102555658531', 'san luis obispo', 'ca', 'usa', '15-Nov-92', 'M']\n",
      "116    2      [Timestamp('2012-03-01 00:43:05'), 1330591385, '50.8.107.4', 'http://www.RL.com/product/4004', 0, 0.0, 'A24EA63A-843F-4290-8B17-B7D16A204C96', 'denver', 'co', 'usa', '23-Feb-80', 'U']\n",
      "117    3      [Timestamp('2012-03-01 00:44:03'), 1330591443, '207.62.158.62', 'http://www.RL.com/review/3005', 0, 0.43434300000000003, 'E1D2DE32-6F67-4A50-ABC1-102555658531', 'san luis obispo', 'ca', 'usa', '15-Nov-92', 'M']\n",
      "118    3      [Timestamp('2012-03-01 00:44:03'), 1330591443, '207.62.158.62', 'http://www.RL.com/review/3005', 0, 0.43434300000000003, 'E1D2DE32-6F67-4A50-ABC1-102555658531', 'san luis obispo', 'ca', 'usa', '15-Nov-92', 'M']\n"
     ]
    },
    {
     "name": "stderr",
     "output_type": "stream",
     "text": [
      "/home/ec2-user/anaconda3/envs/pytorch_p36/lib/python3.6/site-packages/sklearn/utils/validation.py:72: DataConversionWarning: A column-vector y was passed when a 1d array was expected. Please change the shape of y to (n_samples, ), for example using ravel().\n",
      "  return f(**kwargs)\n"
     ]
    },
    {
     "name": "stdout",
     "output_type": "stream",
     "text": [
      "[ExpiredIteratorException] Iterator expired.119    3      [Timestamp('2012-03-01 00:44:50'), 1330591490, '207.62.158.62', 'http://www.RL.com/', 0, 0.0, 'E1D2DE32-6F67-4A50-ABC1-102555658531', 'san luis obispo', 'ca', 'usa', '15-Nov-92', 'M']\n",
      "120    3      [Timestamp('2012-03-01 00:44:50'), 1330591490, '207.62.158.62', 'http://www.RL.com/review/3004', 0, 0.909091, 'E1D2DE32-6F67-4A50-ABC1-102555658531', 'san luis obispo', 'ca', 'usa', '15-Nov-92', 'M']\n",
      "121    3      [Timestamp('2012-03-01 00:45:41'), 1330591541, '72.235.251.97', 'http://www.RL.com/product/4004', 0, 0.0, '306389A0-1448-4FB7-87C9-F53BED419CB2', 'kapolei', 'hi', 'usa', '13-Sep-95', 'F']\n",
      "122    3      [Timestamp('2012-03-01 00:46:46'), 1330591606, '68.52.198.113', 'http://www.RL.com/review/3004', 0, 0.0606061, 'DA55421E-31B5-45E5-9542-1E31B575E5CC', 'nashville', 'tn', 'usa', '1-Jan-79', 'U']\n",
      "123    3      [Timestamp('2012-03-01 00:46:46'), 1330591606, '68.52.198.113', 'http://www.RL.com/', 0, 0.0, 'DA55421E-31B5-45E5-9542-1E31B575E5CC', 'nashville', 'tn', 'usa', '1-Jan-79', 'U']\n",
      "124    3      [Timestamp('2012-03-01 00:46:51'), 1330591611, '24.182.38.94', 'http://www.RL.com/', 0, 0.0, '564DD992-400A-4FAA-B3D8-C43014864A1C', 'la canada flintridge', 'ca', 'usa', '10-Jul-88', 'U']\n",
      "125    3      [Timestamp('2012-03-01 00:47:02'), 1330591622, '24.182.38.94', 'http://www.RL.com/', 0, 0.0, '564DD992-400A-4FAA-B3D8-C43014864A1C', 'la canada flintridge', 'ca', 'usa', '10-Jul-88', 'U']\n",
      "126    3      [Timestamp('2012-03-01 00:47:07'), 1330591627, '24.182.38.94', 'http://www.RL.com/product/4001', 0, 0.0, '564DD992-400A-4FAA-B3D8-C43014864A1C', 'la canada flintridge', 'ca', 'usa', '10-Jul-88', 'U']\n",
      "127    3      [Timestamp('2012-03-01 00:47:31'), 1330591651, '68.52.198.113', 'http://www.RL.com/product/4005', 0, 0.0, 'DA55421E-31B5-45E5-9542-1E31B575E5CC', 'nashville', 'tn', 'usa', '1-Jan-79', 'U']\n",
      "128    3      [Timestamp('2012-03-01 00:47:32'), 1330591652, '68.52.198.113', 'http://www.RL.com/video/1003', 0, 0.525253, 'DA55421E-31B5-45E5-9542-1E31B575E5CC', 'nashville', 'tn', 'usa', '1-Jan-79', 'U']\n"
     ]
    },
    {
     "name": "stderr",
     "output_type": "stream",
     "text": [
      "/home/ec2-user/anaconda3/envs/pytorch_p36/lib/python3.6/site-packages/sklearn/utils/validation.py:72: DataConversionWarning: A column-vector y was passed when a 1d array was expected. Please change the shape of y to (n_samples, ), for example using ravel().\n",
      "  return f(**kwargs)\n"
     ]
    },
    {
     "name": "stdout",
     "output_type": "stream",
     "text": [
      "[ExpiredIteratorException] Iterator expired.129    3      [Timestamp('2012-03-01 00:47:36'), 1330591656, '24.182.38.94', 'http://www.RL.com/', 0, 0.0, '564DD992-400A-4FAA-B3D8-C43014864A1C', 'la canada flintridge', 'ca', 'usa', '10-Jul-88', 'U']\n",
      "130    3      [Timestamp('2012-03-01 00:47:53'), 1330591673, '24.182.38.94', 'http://www.RL.com/review/3002', 0, 0.737374, '564DD992-400A-4FAA-B3D8-C43014864A1C', 'la canada flintridge', 'ca', 'usa', '10-Jul-88', 'U']\n",
      "131    3      [Timestamp('2012-03-01 00:49:27'), 1330591767, '24.9.63.79', 'http://www.RL.com/', 0, 0.0, 'DEADBDB9-274E-4119-8184-DA17A059D6CE', 'boulder', 'co', 'usa', '1-Nov-95', 'M']\n",
      "132    3      [Timestamp('2012-03-01 00:50:33'), 1330591833, '24.9.63.79', 'http://www.RL.com/review/3005', 0, 0.333333, 'DEADBDB9-274E-4119-8184-DA17A059D6CE', 'boulder', 'co', 'usa', '1-Nov-95', 'M']\n",
      "133    3      [Timestamp('2012-03-01 00:51:00'), 1330591860, '50.8.107.4', 'http://www.RL.com/review/3002', 0, 0.606061, 'A24EA63A-843F-4290-8B17-B7D16A204C96', 'denver', 'co', 'usa', '23-Feb-80', 'U']\n",
      "134    3      [Timestamp('2012-03-01 00:52:07'), 1330591927, '50.8.107.4', 'http://www.RL.com/', 0, 0.0, 'A24EA63A-843F-4290-8B17-B7D16A204C96', 'denver', 'co', 'usa', '23-Feb-80', 'U']\n",
      "135    3      [Timestamp('2012-03-01 00:52:53'), 1330591973, '68.52.198.113', 'http://www.RL.com/product/4004', 0, 0.0, 'DA55421E-31B5-45E5-9542-1E31B575E5CC', 'nashville', 'tn', 'usa', '1-Jan-79', 'U']\n",
      "136    3      [Timestamp('2012-03-01 00:52:54'), 1330591974, '68.52.198.113', 'http://www.RL.com/product/4004', 0, 0.0, 'DA55421E-31B5-45E5-9542-1E31B575E5CC', 'nashville', 'tn', 'usa', '1-Jan-79', 'U']\n",
      "137    3      [Timestamp('2012-03-01 00:53:26'), 1330592006, '50.8.107.4', 'http://www.RL.com/reco/2001', 0, 0.0606061, 'A24EA63A-843F-4290-8B17-B7D16A204C96', 'denver', 'co', 'usa', '23-Feb-80', 'U']\n",
      "138    3      [Timestamp('2012-03-01 00:54:00'), 1330592040, '68.52.198.113', 'http://www.RL.com/reco/2001', 0, 0.40404, 'DA55421E-31B5-45E5-9542-1E31B575E5CC', 'nashville', 'tn', 'usa', '1-Jan-79', 'U']\n"
     ]
    },
    {
     "name": "stderr",
     "output_type": "stream",
     "text": [
      "/home/ec2-user/anaconda3/envs/pytorch_p36/lib/python3.6/site-packages/sklearn/utils/validation.py:72: DataConversionWarning: A column-vector y was passed when a 1d array was expected. Please change the shape of y to (n_samples, ), for example using ravel().\n",
      "  return f(**kwargs)\n"
     ]
    },
    {
     "name": "stdout",
     "output_type": "stream",
     "text": [
      "[ExpiredIteratorException] Iterator expired.139    3      [Timestamp('2012-03-01 00:54:00'), 1330592040, '68.52.198.113', 'http://www.RL.com/video/1002', 0, 0.40404, 'DA55421E-31B5-45E5-9542-1E31B575E5CC', 'nashville', 'tn', 'usa', '1-Jan-79', 'U']\n",
      "140    3      [Timestamp('2012-03-01 00:54:50'), 1330592090, '207.62.158.62', 'http://www.RL.com/', 0, 0.0, 'E1D2DE32-6F67-4A50-ABC1-102555658531', 'san luis obispo', 'ca', 'usa', '15-Nov-92', 'M']\n",
      "141    3      [Timestamp('2012-03-01 00:54:59'), 1330592099, '50.8.107.4', 'http://www.RL.com/', 0, 0.0, 'A24EA63A-843F-4290-8B17-B7D16A204C96', 'denver', 'co', 'usa', '23-Feb-80', 'U']\n",
      "142    3      [Timestamp('2012-03-01 00:56:09'), 1330592169, '72.235.251.97', 'http://www.RL.com/product/4004', 0, 0.0, '306389A0-1448-4FB7-87C9-F53BED419CB2', 'kapolei', 'hi', 'usa', '13-Sep-95', 'F']\n",
      "143    3      [Timestamp('2012-03-01 00:58:24'), 1330592304, '207.62.158.62', 'http://www.RL.com/product/4002', 0, 0.0, 'E1D2DE32-6F67-4A50-ABC1-102555658531', 'san luis obispo', 'ca', 'usa', '15-Nov-92', 'M']\n",
      "144    4      [Timestamp('2012-03-01 01:00:07'), 1330592407, '24.9.63.79', 'http://www.RL.com/', 0, 0.0, 'DEADBDB9-274E-4119-8184-DA17A059D6CE', 'boulder', 'co', 'usa', '1-Nov-95', 'M']\n",
      "145    4      [Timestamp('2012-03-01 01:00:38'), 1330592438, '68.52.198.113', 'http://www.RL.com/', 0, 0.0, 'DA55421E-31B5-45E5-9542-1E31B575E5CC', 'nashville', 'tn', 'usa', '1-Jan-79', 'U']\n",
      "146    4      [Timestamp('2012-03-01 01:00:38'), 1330592438, '68.52.198.113', 'http://www.RL.com/', 0, 0.0, 'DA55421E-31B5-45E5-9542-1E31B575E5CC', 'nashville', 'tn', 'usa', '1-Jan-79', 'U']\n",
      "147    4      [Timestamp('2012-03-01 01:01:09'), 1330592469, '68.52.198.113', 'http://www.RL.com/product/4004', 1, 0.0, 'DA55421E-31B5-45E5-9542-1E31B575E5CC', 'nashville', 'tn', 'usa', '1-Jan-79', 'U']\n",
      "148    4      [Timestamp('2012-03-01 01:03:51'), 1330592631, '50.8.107.4', 'http://www.RL.com/video/1001', 0, 0.313131, 'A24EA63A-843F-4290-8B17-B7D16A204C96', 'denver', 'co', 'usa', '23-Feb-80', 'U']\n"
     ]
    },
    {
     "name": "stderr",
     "output_type": "stream",
     "text": [
      "/home/ec2-user/anaconda3/envs/pytorch_p36/lib/python3.6/site-packages/sklearn/utils/validation.py:72: DataConversionWarning: A column-vector y was passed when a 1d array was expected. Please change the shape of y to (n_samples, ), for example using ravel().\n",
      "  return f(**kwargs)\n"
     ]
    },
    {
     "name": "stdout",
     "output_type": "stream",
     "text": [
      "[ExpiredIteratorException] Iterator expired.149    4      [Timestamp('2012-03-01 01:04:03'), 1330592643, '68.91.194.110', 'http://www.RL.com/reco/2002', 0, 0.43434300000000003, 'EA408A35-B269-4523-84FB-372CAA97E051', 'austin', 'tx', 'usa', '19-Jan-66', 'M']\n",
      "150    4      [Timestamp('2012-03-01 01:04:14'), 1330592654, '68.91.194.110', 'http://www.RL.com/product/4001', 0, 0.0, 'EA408A35-B269-4523-84FB-372CAA97E051', 'austin', 'tx', 'usa', '19-Jan-66', 'M']\n",
      "151    4      [Timestamp('2012-03-01 01:04:15'), 1330592655, '68.91.194.110', 'http://www.RL.com/product/4005', 0, 0.0, 'EA408A35-B269-4523-84FB-372CAA97E051', 'austin', 'tx', 'usa', '19-Jan-66', 'M']\n",
      "152    4      [Timestamp('2012-03-01 01:05:05'), 1330592705, '72.235.251.97', 'http://www.RL.com/', 0, 0.0, '306389A0-1448-4FB7-87C9-F53BED419CB2', 'kapolei', 'hi', 'usa', '13-Sep-95', 'F']\n",
      "153    4      [Timestamp('2012-03-01 01:05:20'), 1330592720, '68.91.194.110', 'http://www.RL.com/product/4001', 0, 0.0, 'EA408A35-B269-4523-84FB-372CAA97E051', 'austin', 'tx', 'usa', '19-Jan-66', 'M']\n",
      "154    4      [Timestamp('2012-03-01 01:05:21'), 1330592721, '68.91.194.110', 'http://www.RL.com/', 0, 0.0, 'EA408A35-B269-4523-84FB-372CAA97E051', 'austin', 'tx', 'usa', '19-Jan-66', 'M']\n",
      "155    4      [Timestamp('2012-03-01 01:05:54'), 1330592754, '68.91.194.110', 'http://www.RL.com/', 0, 0.0, 'EA408A35-B269-4523-84FB-372CAA97E051', 'austin', 'tx', 'usa', '19-Jan-66', 'M']\n",
      "156    4      [Timestamp('2012-03-01 01:05:56'), 1330592756, '72.235.251.97', 'http://www.RL.com/product/4002', 0, 0.0, '306389A0-1448-4FB7-87C9-F53BED419CB2', 'kapolei', 'hi', 'usa', '13-Sep-95', 'F']\n",
      "157    4      [Timestamp('2012-03-01 01:08:09'), 1330592889, '70.191.233.34', 'http://www.RL.com/video/1001', 0, 0.89899, '8A699FAB-CD41-4C0D-AE03-F0320DB20E3B', 'pensacola', 'fl', 'usa', '22-Feb-46', 'F']\n",
      "158    4      [Timestamp('2012-03-01 01:08:57'), 1330592937, '68.52.198.113', 'http://www.RL.com/', 0, 0.0, 'DA55421E-31B5-45E5-9542-1E31B575E5CC', 'nashville', 'tn', 'usa', '1-Jan-79', 'U']\n"
     ]
    },
    {
     "name": "stderr",
     "output_type": "stream",
     "text": [
      "/home/ec2-user/anaconda3/envs/pytorch_p36/lib/python3.6/site-packages/sklearn/utils/validation.py:72: DataConversionWarning: A column-vector y was passed when a 1d array was expected. Please change the shape of y to (n_samples, ), for example using ravel().\n",
      "  return f(**kwargs)\n"
     ]
    },
    {
     "name": "stdout",
     "output_type": "stream",
     "text": [
      "[ExpiredIteratorException] Iterator expired.159    4      [Timestamp('2012-03-01 01:08:57'), 1330592937, '68.52.198.113', 'http://www.RL.com/review/3003', 0, 0.373737, 'DA55421E-31B5-45E5-9542-1E31B575E5CC', 'nashville', 'tn', 'usa', '1-Jan-79', 'U']\n",
      "160    4      [Timestamp('2012-03-01 01:10:18'), 1330593018, '68.52.198.113', 'http://www.RL.com/product/4004', 0, 0.0, 'DA55421E-31B5-45E5-9542-1E31B575E5CC', 'nashville', 'tn', 'usa', '1-Jan-79', 'U']\n",
      "161    4      [Timestamp('2012-03-01 01:10:18'), 1330593018, '68.52.198.113', 'http://www.RL.com/product/4001', 0, 0.0, 'DA55421E-31B5-45E5-9542-1E31B575E5CC', 'nashville', 'tn', 'usa', '1-Jan-79', 'U']\n",
      "162    4      [Timestamp('2012-03-01 01:13:05'), 1330593185, '72.235.251.97', 'http://www.RL.com/review/3003', 0, 0.8585860000000001, '306389A0-1448-4FB7-87C9-F53BED419CB2', 'kapolei', 'hi', 'usa', '13-Sep-95', 'F']\n",
      "163    4      [Timestamp('2012-03-01 01:13:31'), 1330593211, '68.52.198.113', 'http://www.RL.com/', 0, 0.0, 'DA55421E-31B5-45E5-9542-1E31B575E5CC', 'nashville', 'tn', 'usa', '1-Jan-79', 'U']\n",
      "164    4      [Timestamp('2012-03-01 01:13:34'), 1330593214, '68.52.198.113', 'http://www.RL.com/', 0, 0.0, 'DA55421E-31B5-45E5-9542-1E31B575E5CC', 'nashville', 'tn', 'usa', '1-Jan-79', 'U']\n",
      "165    4      [Timestamp('2012-03-01 01:14:00'), 1330593240, '68.91.194.110', 'http://www.RL.com/review/3001', 0, 0.40404, 'EA408A35-B269-4523-84FB-372CAA97E051', 'austin', 'tx', 'usa', '19-Jan-66', 'M']\n",
      "166    4      [Timestamp('2012-03-01 01:14:06'), 1330593246, '68.91.194.110', 'http://www.RL.com/product/4004', 0, 0.0, 'EA408A35-B269-4523-84FB-372CAA97E051', 'austin', 'tx', 'usa', '19-Jan-66', 'M']\n",
      "167    4      [Timestamp('2012-03-01 01:14:07'), 1330593247, '68.91.194.110', 'http://www.RL.com/', 0, 0.0, 'EA408A35-B269-4523-84FB-372CAA97E051', 'austin', 'tx', 'usa', '19-Jan-66', 'M']\n",
      "168    4      [Timestamp('2012-03-01 01:14:26'), 1330593266, '72.235.251.97', 'http://www.RL.com/product/4002', 1, 0.0, '306389A0-1448-4FB7-87C9-F53BED419CB2', 'kapolei', 'hi', 'usa', '13-Sep-95', 'F']\n"
     ]
    },
    {
     "name": "stderr",
     "output_type": "stream",
     "text": [
      "/home/ec2-user/anaconda3/envs/pytorch_p36/lib/python3.6/site-packages/sklearn/utils/validation.py:72: DataConversionWarning: A column-vector y was passed when a 1d array was expected. Please change the shape of y to (n_samples, ), for example using ravel().\n",
      "  return f(**kwargs)\n"
     ]
    },
    {
     "name": "stdout",
     "output_type": "stream",
     "text": [
      "[ExpiredIteratorException] Iterator expired.169    4      [Timestamp('2012-03-01 01:15:52'), 1330593352, '68.91.194.110', 'http://www.RL.com/review/3004', 0, 0.525253, 'EA408A35-B269-4523-84FB-372CAA97E051', 'austin', 'tx', 'usa', '19-Jan-66', 'M']\n",
      "170    4      [Timestamp('2012-03-01 01:15:53'), 1330593353, '68.91.194.110', 'http://www.RL.com/product/4002', 0, 0.0, 'EA408A35-B269-4523-84FB-372CAA97E051', 'austin', 'tx', 'usa', '19-Jan-66', 'M']\n",
      "171    4      [Timestamp('2012-03-01 01:16:18'), 1330593378, '68.91.194.110', 'http://www.RL.com/', 0, 0.0, 'EA408A35-B269-4523-84FB-372CAA97E051', 'austin', 'tx', 'usa', '19-Jan-66', 'M']\n",
      "172    4      [Timestamp('2012-03-01 01:16:25'), 1330593385, '68.91.194.110', 'http://www.RL.com/review/3003', 0, 0.8585860000000001, 'EA408A35-B269-4523-84FB-372CAA97E051', 'austin', 'tx', 'usa', '19-Jan-66', 'M']\n",
      "173    5      [Timestamp('2012-03-01 01:16:31'), 1330593391, '70.191.233.34', 'http://www.RL.com/', 0, 0.0, '8A699FAB-CD41-4C0D-AE03-F0320DB20E3B', 'pensacola', 'fl', 'usa', '22-Feb-46', 'F']\n",
      "174    5      [Timestamp('2012-03-01 01:17:21'), 1330593441, '70.191.233.34', 'http://www.RL.com/reco/2002', 0, 0.414141, '8A699FAB-CD41-4C0D-AE03-F0320DB20E3B', 'pensacola', 'fl', 'usa', '22-Feb-46', 'F']\n",
      "175    5      [Timestamp('2012-03-01 01:20:38'), 1330593638, '75.82.48.32', 'http://www.RL.com/video/1003', 0, 0.383838, 'B348C5EE-AE64-4CE0-B24C-1F4F2574204F', 'yorba linda', 'ca', 'usa', '15-Jul-91', 'M']\n",
      "176    5      [Timestamp('2012-03-01 01:21:09'), 1330593669, '75.82.48.32', 'http://www.RL.com/', 0, 0.0, 'B348C5EE-AE64-4CE0-B24C-1F4F2574204F', 'yorba linda', 'ca', 'usa', '15-Jul-91', 'M']\n",
      "177    5      [Timestamp('2012-03-01 01:21:18'), 1330593678, '68.91.194.110', 'http://www.RL.com/', 0, 0.0, 'EA408A35-B269-4523-84FB-372CAA97E051', 'austin', 'tx', 'usa', '19-Jan-66', 'M']\n",
      "178    5      [Timestamp('2012-03-01 01:21:36'), 1330593696, '68.91.194.110', 'http://www.RL.com/review/3005', 0, 0.9696969999999999, 'EA408A35-B269-4523-84FB-372CAA97E051', 'austin', 'tx', 'usa', '19-Jan-66', 'M']\n"
     ]
    },
    {
     "name": "stderr",
     "output_type": "stream",
     "text": [
      "/home/ec2-user/anaconda3/envs/pytorch_p36/lib/python3.6/site-packages/sklearn/utils/validation.py:72: DataConversionWarning: A column-vector y was passed when a 1d array was expected. Please change the shape of y to (n_samples, ), for example using ravel().\n",
      "  return f(**kwargs)\n"
     ]
    },
    {
     "name": "stdout",
     "output_type": "stream",
     "text": [
      "[ExpiredIteratorException] Iterator expired.179    5      [Timestamp('2012-03-01 01:21:36'), 1330593696, '68.91.194.110', 'http://www.RL.com/', 0, 0.0, 'EA408A35-B269-4523-84FB-372CAA97E051', 'austin', 'tx', 'usa', '19-Jan-66', 'M']\n",
      "180    5      [Timestamp('2012-03-01 01:22:23'), 1330593743, '72.235.251.97', 'http://www.RL.com/product/4004', 1, 0.0, '306389A0-1448-4FB7-87C9-F53BED419CB2', 'kapolei', 'hi', 'usa', '13-Sep-95', 'F']\n",
      "181    5      [Timestamp('2012-03-01 01:23:01'), 1330593781, '68.91.194.110', 'http://www.RL.com/', 0, 0.0, 'EA408A35-B269-4523-84FB-372CAA97E051', 'austin', 'tx', 'usa', '19-Jan-66', 'M']\n",
      "182    5      [Timestamp('2012-03-01 01:23:01'), 1330593781, '68.91.194.110', 'http://www.RL.com/video/1003', 0, 0.818182, 'EA408A35-B269-4523-84FB-372CAA97E051', 'austin', 'tx', 'usa', '19-Jan-66', 'M']\n",
      "183    5      [Timestamp('2012-03-01 01:24:28'), 1330593868, '75.82.48.32', 'http://www.RL.com/', 0, 0.0, 'B348C5EE-AE64-4CE0-B24C-1F4F2574204F', 'yorba linda', 'ca', 'usa', '15-Jul-91', 'M']\n",
      "184    5      [Timestamp('2012-03-01 01:24:44'), 1330593884, '75.82.48.32', 'http://www.RL.com/', 0, 0.0, 'B348C5EE-AE64-4CE0-B24C-1F4F2574204F', 'yorba linda', 'ca', 'usa', '15-Jul-91', 'M']\n",
      "185    5      [Timestamp('2012-03-01 01:24:55'), 1330593895, '75.82.48.32', 'http://www.RL.com/reco/2001', 0, 0.9595959999999999, 'B348C5EE-AE64-4CE0-B24C-1F4F2574204F', 'yorba linda', 'ca', 'usa', '15-Jul-91', 'M']\n",
      "186    5      [Timestamp('2012-03-01 01:25:17'), 1330593917, '70.191.233.34', 'http://www.RL.com/product/4003', 0, 0.0, '8A699FAB-CD41-4C0D-AE03-F0320DB20E3B', 'pensacola', 'fl', 'usa', '22-Feb-46', 'F']\n",
      "187    5      [Timestamp('2012-03-01 01:26:00'), 1330593960, '75.82.48.32', 'http://www.RL.com/', 0, 0.0, 'B348C5EE-AE64-4CE0-B24C-1F4F2574204F', 'yorba linda', 'ca', 'usa', '15-Jul-91', 'M']\n",
      "188    5      [Timestamp('2012-03-01 01:26:01'), 1330593961, '75.82.48.32', 'http://www.RL.com/product/4002', 0, 0.0, 'B348C5EE-AE64-4CE0-B24C-1F4F2574204F', 'yorba linda', 'ca', 'usa', '15-Jul-91', 'M']\n"
     ]
    },
    {
     "name": "stderr",
     "output_type": "stream",
     "text": [
      "/home/ec2-user/anaconda3/envs/pytorch_p36/lib/python3.6/site-packages/sklearn/utils/validation.py:72: DataConversionWarning: A column-vector y was passed when a 1d array was expected. Please change the shape of y to (n_samples, ), for example using ravel().\n",
      "  return f(**kwargs)\n"
     ]
    },
    {
     "name": "stdout",
     "output_type": "stream",
     "text": [
      "[ExpiredIteratorException] Iterator expired.189    5      [Timestamp('2012-03-01 01:28:12'), 1330594092, '107.45.194.195', 'http://www.RL.com/product/4004', 0, 1.0, 'AA98B8B0-DD7E-11D4-820F-00A0C9E58E2D', 'columbus', 'oh', 'usa', '20-May-66', 'M']\n",
      "190    5      [Timestamp('2012-03-01 01:29:37'), 1330594177, '68.91.194.110', 'http://www.RL.com/video/1003', 0, 0.777778, 'EA408A35-B269-4523-84FB-372CAA97E051', 'austin', 'tx', 'usa', '19-Jan-66', 'M']\n",
      "191    5      [Timestamp('2012-03-01 01:29:39'), 1330594179, '68.91.194.110', 'http://www.RL.com/', 0, 0.0, 'EA408A35-B269-4523-84FB-372CAA97E051', 'austin', 'tx', 'usa', '19-Jan-66', 'M']\n",
      "192    5      [Timestamp('2012-03-01 01:30:39'), 1330594239, '68.91.194.110', 'http://www.RL.com/video/1002', 0, 0.393939, 'EA408A35-B269-4523-84FB-372CAA97E051', 'austin', 'tx', 'usa', '19-Jan-66', 'M']\n",
      "193    5      [Timestamp('2012-03-01 01:30:39'), 1330594239, '68.91.194.110', 'http://www.RL.com/product/4004', 1, 0.0, 'EA408A35-B269-4523-84FB-372CAA97E051', 'austin', 'tx', 'usa', '19-Jan-66', 'M']\n",
      "194    5      [Timestamp('2012-03-01 01:30:41'), 1330594241, '68.91.194.110', 'http://www.RL.com/', 0, 0.0, 'EA408A35-B269-4523-84FB-372CAA97E051', 'austin', 'tx', 'usa', '19-Jan-66', 'M']\n",
      "195    5      [Timestamp('2012-03-01 01:32:20'), 1330594340, '70.191.233.34', 'http://www.RL.com/product/4004', 0, 1.0, '8A699FAB-CD41-4C0D-AE03-F0320DB20E3B', 'pensacola', 'fl', 'usa', '22-Feb-46', 'F']\n",
      "196    5      [Timestamp('2012-03-01 01:32:29'), 1330594349, '75.82.48.32', 'http://www.RL.com/product/4003', 0, 0.0, 'B348C5EE-AE64-4CE0-B24C-1F4F2574204F', 'yorba linda', 'ca', 'usa', '15-Jul-91', 'M']\n",
      "197    5      [Timestamp('2012-03-01 01:32:29'), 1330594349, '75.82.48.32', 'http://www.RL.com/product/4003', 0, 0.0, 'B348C5EE-AE64-4CE0-B24C-1F4F2574204F', 'yorba linda', 'ca', 'usa', '15-Jul-91', 'M']\n",
      "198    6      [Timestamp('2012-03-01 01:33:16'), 1330594396, '70.191.233.34', 'http://www.RL.com/product/4003', 0, 0.0, '8A699FAB-CD41-4C0D-AE03-F0320DB20E3B', 'pensacola', 'fl', 'usa', '22-Feb-46', 'F']\n"
     ]
    },
    {
     "name": "stderr",
     "output_type": "stream",
     "text": [
      "/home/ec2-user/anaconda3/envs/pytorch_p36/lib/python3.6/site-packages/sklearn/utils/validation.py:72: DataConversionWarning: A column-vector y was passed when a 1d array was expected. Please change the shape of y to (n_samples, ), for example using ravel().\n",
      "  return f(**kwargs)\n"
     ]
    },
    {
     "name": "stdout",
     "output_type": "stream",
     "text": [
      "[ExpiredIteratorException] Iterator expired.199    6      [Timestamp('2012-03-01 01:33:23'), 1330594403, '75.82.48.32', 'http://www.RL.com/product/4004', 0, 0.0, 'B348C5EE-AE64-4CE0-B24C-1F4F2574204F', 'yorba linda', 'ca', 'usa', '15-Jul-91', 'M']\n",
      "200    6      [Timestamp('2012-03-01 01:33:23'), 1330594403, '75.82.48.32', 'http://www.RL.com/product/4005', 0, 0.0, 'B348C5EE-AE64-4CE0-B24C-1F4F2574204F', 'yorba linda', 'ca', 'usa', '15-Jul-91', 'M']\n",
      "201    6      [Timestamp('2012-03-01 01:38:26'), 1330594706, '68.91.194.110', 'http://www.RL.com/', 0, 0.0, 'EA408A35-B269-4523-84FB-372CAA97E051', 'austin', 'tx', 'usa', '19-Jan-66', 'M']\n",
      "202    6      [Timestamp('2012-03-01 01:38:26'), 1330594706, '68.91.194.110', 'http://www.RL.com/review/3002', 0, 0.0606061, 'EA408A35-B269-4523-84FB-372CAA97E051', 'austin', 'tx', 'usa', '19-Jan-66', 'M']\n",
      "203    6      [Timestamp('2012-03-01 01:39:01'), 1330594741, '68.91.194.110', 'http://www.RL.com/', 0, 0.0, 'EA408A35-B269-4523-84FB-372CAA97E051', 'austin', 'tx', 'usa', '19-Jan-66', 'M']\n",
      "204    6      [Timestamp('2012-03-01 01:42:05'), 1330594925, '75.82.48.32', 'http://www.RL.com/product/4003', 0, 0.0, 'B348C5EE-AE64-4CE0-B24C-1F4F2574204F', 'yorba linda', 'ca', 'usa', '15-Jul-91', 'M']\n",
      "205    6      [Timestamp('2012-03-01 01:42:55'), 1330594975, '75.82.48.32', 'http://www.RL.com/', 0, 0.0, 'B348C5EE-AE64-4CE0-B24C-1F4F2574204F', 'yorba linda', 'ca', 'usa', '15-Jul-91', 'M']\n",
      "206    6      [Timestamp('2012-03-01 01:43:05'), 1330594985, '68.91.194.110', 'http://www.RL.com/', 0, 0.0, 'EA408A35-B269-4523-84FB-372CAA97E051', 'austin', 'tx', 'usa', '19-Jan-66', 'M']\n",
      "207    6      [Timestamp('2012-03-01 01:43:18'), 1330594998, '68.91.194.110', 'http://www.RL.com/product/4004', 0, 0.0, 'EA408A35-B269-4523-84FB-372CAA97E051', 'austin', 'tx', 'usa', '19-Jan-66', 'M']\n",
      "208    6      [Timestamp('2012-03-01 01:43:18'), 1330594998, '68.91.194.110', 'http://www.RL.com/video/1001', 0, 0.989899, 'EA408A35-B269-4523-84FB-372CAA97E051', 'austin', 'tx', 'usa', '19-Jan-66', 'M']\n"
     ]
    },
    {
     "name": "stderr",
     "output_type": "stream",
     "text": [
      "/home/ec2-user/anaconda3/envs/pytorch_p36/lib/python3.6/site-packages/sklearn/utils/validation.py:72: DataConversionWarning: A column-vector y was passed when a 1d array was expected. Please change the shape of y to (n_samples, ), for example using ravel().\n",
      "  return f(**kwargs)\n"
     ]
    },
    {
     "name": "stdout",
     "output_type": "stream",
     "text": [
      "[ExpiredIteratorException] Iterator expired.209    6      [Timestamp('2012-03-01 01:44:09'), 1330595049, '66.214.113.235', 'http://www.RL.com/', 0, 0.0, '30BCB152-3A2E-47FB-BCB1-523A2EA7FBCF', 'victorville', 'ca', 'usa', '30-Aug-51', 'U']\n",
      "210    6      [Timestamp('2012-03-01 01:44:40'), 1330595080, '68.91.194.110', 'http://www.RL.com/product/4005', 0, 0.0, 'EA408A35-B269-4523-84FB-372CAA97E051', 'austin', 'tx', 'usa', '19-Jan-66', 'M']\n",
      "211    6      [Timestamp('2012-03-01 01:44:42'), 1330595082, '68.91.194.110', 'http://www.RL.com/', 0, 0.0, 'EA408A35-B269-4523-84FB-372CAA97E051', 'austin', 'tx', 'usa', '19-Jan-66', 'M']\n",
      "212    6      [Timestamp('2012-03-01 01:45:16'), 1330595116, '66.214.113.235', 'http://www.RL.com/product/4005', 0, 0.0, '30BCB152-3A2E-47FB-BCB1-523A2EA7FBCF', 'victorville', 'ca', 'usa', '30-Aug-51', 'U']\n",
      "213    6      [Timestamp('2012-03-01 01:49:37'), 1330595377, '75.82.48.32', 'http://www.RL.com/product/4001', 0, 0.0, 'B348C5EE-AE64-4CE0-B24C-1F4F2574204F', 'yorba linda', 'ca', 'usa', '15-Jul-91', 'M']\n",
      "214    7      [Timestamp('2012-03-01 01:50:59'), 1330595459, '75.82.48.32', 'http://www.RL.com/product/4003', 0, 0.0, 'B348C5EE-AE64-4CE0-B24C-1F4F2574204F', 'yorba linda', 'ca', 'usa', '15-Jul-91', 'M']\n",
      "215    7      [Timestamp('2012-03-01 01:52:00'), 1330595520, '66.214.113.235', 'http://www.RL.com/product/4001', 0, 0.0, '30BCB152-3A2E-47FB-BCB1-523A2EA7FBCF', 'victorville', 'ca', 'usa', '30-Aug-51', 'U']\n",
      "216    7      [Timestamp('2012-03-01 01:54:25'), 1330595665, '68.91.194.110', 'http://www.RL.com/', 0, 0.0, 'EA408A35-B269-4523-84FB-372CAA97E051', 'austin', 'tx', 'usa', '19-Jan-66', 'M']\n",
      "217    7      [Timestamp('2012-03-01 02:00:30'), 1330596030, '75.82.48.32', 'http://www.RL.com/review/3004', 0, 0.30303, 'B348C5EE-AE64-4CE0-B24C-1F4F2574204F', 'yorba linda', 'ca', 'usa', '15-Jul-91', 'M']\n",
      "218    7      [Timestamp('2012-03-01 02:00:30'), 1330596030, '75.82.48.32', 'http://www.RL.com/', 0, 0.0, 'B348C5EE-AE64-4CE0-B24C-1F4F2574204F', 'yorba linda', 'ca', 'usa', '15-Jul-91', 'M']\n"
     ]
    },
    {
     "name": "stderr",
     "output_type": "stream",
     "text": [
      "/home/ec2-user/anaconda3/envs/pytorch_p36/lib/python3.6/site-packages/sklearn/utils/validation.py:72: DataConversionWarning: A column-vector y was passed when a 1d array was expected. Please change the shape of y to (n_samples, ), for example using ravel().\n",
      "  return f(**kwargs)\n"
     ]
    },
    {
     "name": "stdout",
     "output_type": "stream",
     "text": [
      "[ExpiredIteratorException] Iterator expired.219    7      [Timestamp('2012-03-01 02:01:04'), 1330596064, '75.82.48.32', 'http://www.RL.com/review/3001', 0, 0.646465, 'B348C5EE-AE64-4CE0-B24C-1F4F2574204F', 'yorba linda', 'ca', 'usa', '15-Jul-91', 'M']\n",
      "220    7      [Timestamp('2012-03-01 02:01:24'), 1330596084, '66.214.113.235', 'http://www.RL.com/video/1003', 0, 0.848485, '30BCB152-3A2E-47FB-BCB1-523A2EA7FBCF', 'victorville', 'ca', 'usa', '30-Aug-51', 'U']\n",
      "221    7      [Timestamp('2012-03-01 02:04:49'), 1330596289, '203.19.81.250', 'http://www.RL.com/product/4005', 0, 0.0, '6E9AFE67-A2AD-4034-9A16-47969BB929CA', 'perth', 'wa', 'aus', '17-Jul-90', 'M']\n",
      "222    8      [Timestamp('2012-03-01 02:07:27'), 1330596447, '75.82.48.32', 'http://www.RL.com/review/3002', 0, 0.47474700000000003, 'B348C5EE-AE64-4CE0-B24C-1F4F2574204F', 'yorba linda', 'ca', 'usa', '15-Jul-91', 'M']\n",
      "223    8      [Timestamp('2012-03-01 02:07:28'), 1330596448, '75.82.48.32', 'http://www.RL.com/review/3005', 0, 0.48484799999999995, 'B348C5EE-AE64-4CE0-B24C-1F4F2574204F', 'yorba linda', 'ca', 'usa', '15-Jul-91', 'M']\n",
      "224    8      [Timestamp('2012-03-01 02:09:11'), 1330596551, '75.82.48.32', 'http://www.RL.com/review/3004', 0, 0.515152, 'B348C5EE-AE64-4CE0-B24C-1F4F2574204F', 'yorba linda', 'ca', 'usa', '15-Jul-91', 'M']\n",
      "225    8      [Timestamp('2012-03-01 02:09:17'), 1330596557, '71.227.165.217', 'http://www.RL.com/video/1003', 0, 0.575758, 'ACF61C2D-F41F-46F4-8FAE-87C45F735B6C', 'kenmore', 'wa', 'usa', '25-May-86', 'F']\n",
      "226    8      [Timestamp('2012-03-01 02:10:09'), 1330596609, '71.227.165.217', 'http://www.RL.com/video/1002', 0, 0.0909091, 'ACF61C2D-F41F-46F4-8FAE-87C45F735B6C', 'kenmore', 'wa', 'usa', '25-May-86', 'F']\n",
      "227    8      [Timestamp('2012-03-01 02:13:11'), 1330596791, '203.19.81.250', 'http://www.RL.com/', 0, 0.0, '6E9AFE67-A2AD-4034-9A16-47969BB929CA', 'perth', 'wa', 'aus', '17-Jul-90', 'M']\n",
      "228    8      [Timestamp('2012-03-01 02:14:14'), 1330596854, '75.82.48.32', 'http://www.RL.com/product/4003', 0, 0.0, 'B348C5EE-AE64-4CE0-B24C-1F4F2574204F', 'yorba linda', 'ca', 'usa', '15-Jul-91', 'M']\n"
     ]
    },
    {
     "name": "stderr",
     "output_type": "stream",
     "text": [
      "/home/ec2-user/anaconda3/envs/pytorch_p36/lib/python3.6/site-packages/sklearn/utils/validation.py:72: DataConversionWarning: A column-vector y was passed when a 1d array was expected. Please change the shape of y to (n_samples, ), for example using ravel().\n",
      "  return f(**kwargs)\n"
     ]
    },
    {
     "name": "stdout",
     "output_type": "stream",
     "text": [
      "[ExpiredIteratorException] Iterator expired.229    8      [Timestamp('2012-03-01 02:14:52'), 1330596892, '66.214.113.235', 'http://www.RL.com/video/1002', 0, 0.929293, '30BCB152-3A2E-47FB-BCB1-523A2EA7FBCF', 'victorville', 'ca', 'usa', '30-Aug-51', 'U']\n",
      "230    8      [Timestamp('2012-03-01 02:15:28'), 1330596928, '66.214.113.235', 'http://www.RL.com/review/3005', 0, 0.282828, '30BCB152-3A2E-47FB-BCB1-523A2EA7FBCF', 'victorville', 'ca', 'usa', '30-Aug-51', 'U']\n",
      "231    8      [Timestamp('2012-03-01 02:16:54'), 1330597014, '71.227.165.217', 'http://www.RL.com/', 0, 0.0, 'ACF61C2D-F41F-46F4-8FAE-87C45F735B6C', 'kenmore', 'wa', 'usa', '25-May-86', 'F']\n",
      "232    8      [Timestamp('2012-03-01 02:17:42'), 1330597062, '71.227.165.217', 'http://www.RL.com/', 0, 0.0, 'ACF61C2D-F41F-46F4-8FAE-87C45F735B6C', 'kenmore', 'wa', 'usa', '25-May-86', 'F']\n",
      "233    9      [Timestamp('2012-03-01 02:24:50'), 1330597490, '71.227.165.217', 'http://www.RL.com/review/3005', 0, 0.909091, 'ACF61C2D-F41F-46F4-8FAE-87C45F735B6C', 'kenmore', 'wa', 'usa', '25-May-86', 'F']\n",
      "234    9      [Timestamp('2012-03-01 02:25:24'), 1330597524, '71.227.165.217', 'http://www.RL.com/reco/2001', 0, 0.24242399999999997, 'ACF61C2D-F41F-46F4-8FAE-87C45F735B6C', 'kenmore', 'wa', 'usa', '25-May-86', 'F']\n",
      "235    9      [Timestamp('2012-03-01 02:34:15'), 1330598055, '71.227.165.217', 'http://www.RL.com/', 0, 0.0, 'ACF61C2D-F41F-46F4-8FAE-87C45F735B6C', 'kenmore', 'wa', 'usa', '25-May-86', 'F']\n",
      "236    10      [Timestamp('2012-03-01 02:39:50'), 1330598390, '71.227.165.217', 'http://www.RL.com/product/4004', 0, 0.0, 'ACF61C2D-F41F-46F4-8FAE-87C45F735B6C', 'kenmore', 'wa', 'usa', '25-May-86', 'F']\n",
      "237    10      [Timestamp('2012-03-01 02:41:24'), 1330598484, '71.227.165.217', 'http://www.RL.com/', 0, 0.0, 'ACF61C2D-F41F-46F4-8FAE-87C45F735B6C', 'kenmore', 'wa', 'usa', '25-May-86', 'F']\n",
      "238    11      [Timestamp('2012-03-01 03:05:04'), 1330599904, '96.235.34.228', 'http://www.RL.com/video/1001', 0, 0.040404, 'C40E1B5A-06C1-4968-A584-6A8EBC4290CD', 'pittsburgh', 'pa', 'usa', '7-Apr-85', 'U']\n"
     ]
    },
    {
     "name": "stderr",
     "output_type": "stream",
     "text": [
      "/home/ec2-user/anaconda3/envs/pytorch_p36/lib/python3.6/site-packages/sklearn/utils/validation.py:72: DataConversionWarning: A column-vector y was passed when a 1d array was expected. Please change the shape of y to (n_samples, ), for example using ravel().\n",
      "  return f(**kwargs)\n"
     ]
    },
    {
     "name": "stdout",
     "output_type": "stream",
     "text": [
      "[ExpiredIteratorException] Iterator expired.239    12      [Timestamp('2012-03-01 03:15:45'), 1330600545, '96.235.34.228', 'http://www.RL.com/product/4001', 1, 0.0, 'C40E1B5A-06C1-4968-A584-6A8EBC4290CD', 'pittsburgh', 'pa', 'usa', '7-Apr-85', 'U']\n",
      "240    12      [Timestamp('2012-03-01 03:27:56'), 1330601276, '96.235.34.228', 'http://www.RL.com/', 0, 0.0, 'C40E1B5A-06C1-4968-A584-6A8EBC4290CD', 'pittsburgh', 'pa', 'usa', '7-Apr-85', 'U']\n",
      "241    12      [Timestamp('2012-03-01 03:28:42'), 1330601322, '96.235.34.228', 'http://www.RL.com/', 0, 0.0, 'C40E1B5A-06C1-4968-A584-6A8EBC4290CD', 'pittsburgh', 'pa', 'usa', '7-Apr-85', 'U']\n",
      "242    13      [Timestamp('2012-03-01 03:30:59'), 1330601459, '67.161.128.166', 'http://www.RL.com/product/4004', 0, 1.0, '2FA9BC1A-3AA8-49EF-A9BC-1A3AA8A9EF3E', 'aurora', 'co', 'usa', '22-Oct-85', 'F']\n",
      "243    13      [Timestamp('2012-03-01 03:32:42'), 1330601562, '76.112.168.228', 'http://www.RL.com/video/1001', 0, 0.626263, 'CA7267D3-394F-4C8F-BE2C-17C61692B2AA', 'detroit', 'mi', 'usa', '31-Jan-79', 'M']\n",
      "244    13      [Timestamp('2012-03-01 03:32:52'), 1330601572, '76.112.168.228', 'http://www.RL.com/review/3005', 0, 0.727273, 'CA7267D3-394F-4C8F-BE2C-17C61692B2AA', 'detroit', 'mi', 'usa', '31-Jan-79', 'M']\n",
      "245    13      [Timestamp('2012-03-01 03:32:52'), 1330601572, '76.112.168.228', 'http://www.RL.com/', 0, 0.0, 'CA7267D3-394F-4C8F-BE2C-17C61692B2AA', 'detroit', 'mi', 'usa', '31-Jan-79', 'M']\n",
      "246    13      [Timestamp('2012-03-01 03:33:23'), 1330601603, '76.112.168.228', 'http://www.RL.com/review/3001', 0, 0.030302999999999997, 'CA7267D3-394F-4C8F-BE2C-17C61692B2AA', 'detroit', 'mi', 'usa', '31-Jan-79', 'M']\n",
      "247    13      [Timestamp('2012-03-01 03:33:23'), 1330601603, '76.112.168.228', 'http://www.RL.com/', 0, 0.0, 'CA7267D3-394F-4C8F-BE2C-17C61692B2AA', 'detroit', 'mi', 'usa', '31-Jan-79', 'M']\n",
      "248    13      [Timestamp('2012-03-01 03:34:09'), 1330601649, '76.112.168.228', 'http://www.RL.com/', 0, 0.0, 'CA7267D3-394F-4C8F-BE2C-17C61692B2AA', 'detroit', 'mi', 'usa', '31-Jan-79', 'M']\n"
     ]
    },
    {
     "name": "stderr",
     "output_type": "stream",
     "text": [
      "/home/ec2-user/anaconda3/envs/pytorch_p36/lib/python3.6/site-packages/sklearn/utils/validation.py:72: DataConversionWarning: A column-vector y was passed when a 1d array was expected. Please change the shape of y to (n_samples, ), for example using ravel().\n",
      "  return f(**kwargs)\n"
     ]
    },
    {
     "name": "stdout",
     "output_type": "stream",
     "text": [
      "[ExpiredIteratorException] Iterator expired.249    13      [Timestamp('2012-03-01 03:36:53'), 1330601813, '96.235.34.228', 'http://www.RL.com/', 0, 0.0, 'C40E1B5A-06C1-4968-A584-6A8EBC4290CD', 'pittsburgh', 'pa', 'usa', '7-Apr-85', 'U']\n",
      "250    13      [Timestamp('2012-03-01 03:38:26'), 1330601906, '67.161.128.166', 'http://www.RL.com/', 0, 0.0, '2FA9BC1A-3AA8-49EF-A9BC-1A3AA8A9EF3E', 'aurora', 'co', 'usa', '22-Oct-85', 'F']\n",
      "251    13      [Timestamp('2012-03-01 03:38:59'), 1330601939, '67.161.128.166', 'http://www.RL.com/', 0, 0.0, '2FA9BC1A-3AA8-49EF-A9BC-1A3AA8A9EF3E', 'aurora', 'co', 'usa', '22-Oct-85', 'F']\n",
      "252    13      [Timestamp('2012-03-01 03:39:50'), 1330601990, '76.112.168.228', 'http://www.RL.com/', 0, 0.0, 'CA7267D3-394F-4C8F-BE2C-17C61692B2AA', 'detroit', 'mi', 'usa', '31-Jan-79', 'M']\n",
      "253    13      [Timestamp('2012-03-01 03:39:50'), 1330601990, '76.112.168.228', 'http://www.RL.com/', 0, 0.0, 'CA7267D3-394F-4C8F-BE2C-17C61692B2AA', 'detroit', 'mi', 'usa', '31-Jan-79', 'M']\n",
      "254    13      [Timestamp('2012-03-01 03:42:16'), 1330602136, '96.235.34.228', 'http://www.RL.com/', 0, 0.0, 'C40E1B5A-06C1-4968-A584-6A8EBC4290CD', 'pittsburgh', 'pa', 'usa', '7-Apr-85', 'U']\n",
      "255    13      [Timestamp('2012-03-01 03:43:17'), 1330602197, '96.235.34.228', 'http://www.RL.com/', 0, 0.0, 'C40E1B5A-06C1-4968-A584-6A8EBC4290CD', 'pittsburgh', 'pa', 'usa', '7-Apr-85', 'U']\n",
      "256    13      [Timestamp('2012-03-01 03:45:35'), 1330602335, '67.161.128.166', 'http://www.RL.com/video/1001', 0, 0.353535, '2FA9BC1A-3AA8-49EF-A9BC-1A3AA8A9EF3E', 'aurora', 'co', 'usa', '22-Oct-85', 'F']\n",
      "257    13      [Timestamp('2012-03-01 03:46:21'), 1330602381, '67.161.128.166', 'http://www.RL.com/reco/2002', 0, 0.818182, '2FA9BC1A-3AA8-49EF-A9BC-1A3AA8A9EF3E', 'aurora', 'co', 'usa', '22-Oct-85', 'F']\n",
      "258    14      [Timestamp('2012-03-01 03:49:02'), 1330602542, '96.235.34.228', 'http://www.RL.com/reco/2001', 0, 0.424242, 'C40E1B5A-06C1-4968-A584-6A8EBC4290CD', 'pittsburgh', 'pa', 'usa', '7-Apr-85', 'U']\n"
     ]
    },
    {
     "name": "stderr",
     "output_type": "stream",
     "text": [
      "/home/ec2-user/anaconda3/envs/pytorch_p36/lib/python3.6/site-packages/sklearn/utils/validation.py:72: DataConversionWarning: A column-vector y was passed when a 1d array was expected. Please change the shape of y to (n_samples, ), for example using ravel().\n",
      "  return f(**kwargs)\n"
     ]
    },
    {
     "name": "stdout",
     "output_type": "stream",
     "text": [
      "[ExpiredIteratorException] Iterator expired.259    14      [Timestamp('2012-03-01 03:49:34'), 1330602574, '76.112.168.228', 'http://www.RL.com/product/4005', 0, 0.0, 'CA7267D3-394F-4C8F-BE2C-17C61692B2AA', 'detroit', 'mi', 'usa', '31-Jan-79', 'M']\n",
      "260    14      [Timestamp('2012-03-01 03:49:34'), 1330602574, '76.112.168.228', 'http://www.RL.com/video/1001', 0, 0.747475, 'CA7267D3-394F-4C8F-BE2C-17C61692B2AA', 'detroit', 'mi', 'usa', '31-Jan-79', 'M']\n",
      "261    14      [Timestamp('2012-03-01 03:50:20'), 1330602620, '76.112.168.228', 'http://www.RL.com/product/4005', 1, 0.0, 'CA7267D3-394F-4C8F-BE2C-17C61692B2AA', 'detroit', 'mi', 'usa', '31-Jan-79', 'M']\n",
      "262    14      [Timestamp('2012-03-01 03:50:21'), 1330602621, '76.112.168.228', 'http://www.RL.com/', 0, 0.0, 'CA7267D3-394F-4C8F-BE2C-17C61692B2AA', 'detroit', 'mi', 'usa', '31-Jan-79', 'M']\n",
      "263    14      [Timestamp('2012-03-01 03:50:35'), 1330602635, '96.235.34.228', 'http://www.RL.com/product/4004', 0, 0.0, 'C40E1B5A-06C1-4968-A584-6A8EBC4290CD', 'pittsburgh', 'pa', 'usa', '7-Apr-85', 'U']\n",
      "264    14      [Timestamp('2012-03-01 03:53:09'), 1330602789, '67.161.128.166', 'http://www.RL.com/product/4005', 0, 0.0, '2FA9BC1A-3AA8-49EF-A9BC-1A3AA8A9EF3E', 'aurora', 'co', 'usa', '22-Oct-85', 'F']\n",
      "265    14      [Timestamp('2012-03-01 03:57:10'), 1330603030, '76.112.168.228', 'http://www.RL.com/review/3002', 0, 0.30303, 'CA7267D3-394F-4C8F-BE2C-17C61692B2AA', 'detroit', 'mi', 'usa', '31-Jan-79', 'M']\n",
      "266    14      [Timestamp('2012-03-01 03:57:10'), 1330603030, '76.112.168.228', 'http://www.RL.com/', 0, 0.0, 'CA7267D3-394F-4C8F-BE2C-17C61692B2AA', 'detroit', 'mi', 'usa', '31-Jan-79', 'M']\n",
      "267    14      [Timestamp('2012-03-01 03:57:15'), 1330603035, '96.235.34.228', 'http://www.RL.com/', 0, 0.0, 'C40E1B5A-06C1-4968-A584-6A8EBC4290CD', 'pittsburgh', 'pa', 'usa', '7-Apr-85', 'U']\n",
      "268    14      [Timestamp('2012-03-01 03:58:13'), 1330603093, '76.112.168.228', 'http://www.RL.com/product/4003', 0, 0.0, 'CA7267D3-394F-4C8F-BE2C-17C61692B2AA', 'detroit', 'mi', 'usa', '31-Jan-79', 'M']\n"
     ]
    },
    {
     "name": "stderr",
     "output_type": "stream",
     "text": [
      "/home/ec2-user/anaconda3/envs/pytorch_p36/lib/python3.6/site-packages/sklearn/utils/validation.py:72: DataConversionWarning: A column-vector y was passed when a 1d array was expected. Please change the shape of y to (n_samples, ), for example using ravel().\n",
      "  return f(**kwargs)\n"
     ]
    },
    {
     "name": "stdout",
     "output_type": "stream",
     "text": [
      "[ExpiredIteratorException] Iterator expired.269    14      [Timestamp('2012-03-01 03:58:13'), 1330603093, '76.112.168.228', 'http://www.RL.com/product/4003', 0, 0.0, 'CA7267D3-394F-4C8F-BE2C-17C61692B2AA', 'detroit', 'mi', 'usa', '31-Jan-79', 'M']\n",
      "270    14      [Timestamp('2012-03-01 04:00:41'), 1330603241, '67.161.128.166', 'http://www.RL.com/review/3001', 0, 0.414141, '2FA9BC1A-3AA8-49EF-A9BC-1A3AA8A9EF3E', 'aurora', 'co', 'usa', '22-Oct-85', 'F']\n",
      "271    15      [Timestamp('2012-03-01 04:07:44'), 1330603664, '76.112.168.228', 'http://www.RL.com/product/4001', 0, 0.0, 'CA7267D3-394F-4C8F-BE2C-17C61692B2AA', 'detroit', 'mi', 'usa', '31-Jan-79', 'M']\n",
      "272    15      [Timestamp('2012-03-01 04:08:45'), 1330603725, '76.112.168.228', 'http://www.RL.com/product/4004', 0, 0.0, 'CA7267D3-394F-4C8F-BE2C-17C61692B2AA', 'detroit', 'mi', 'usa', '31-Jan-79', 'M']\n",
      "273    15      [Timestamp('2012-03-01 04:08:45'), 1330603725, '76.112.168.228', 'http://www.RL.com/review/3002', 0, 0.252525, 'CA7267D3-394F-4C8F-BE2C-17C61692B2AA', 'detroit', 'mi', 'usa', '31-Jan-79', 'M']\n",
      "274    15      [Timestamp('2012-03-01 04:15:10'), 1330604110, '76.112.168.228', 'http://www.RL.com/review/3004', 0, 0.10101, 'CA7267D3-394F-4C8F-BE2C-17C61692B2AA', 'detroit', 'mi', 'usa', '31-Jan-79', 'M']\n",
      "275    15      [Timestamp('2012-03-01 04:15:10'), 1330604110, '76.112.168.228', 'http://www.RL.com/', 0, 0.0, 'CA7267D3-394F-4C8F-BE2C-17C61692B2AA', 'detroit', 'mi', 'usa', '31-Jan-79', 'M']\n",
      "276    16      [Timestamp('2012-03-01 04:20:03'), 1330604403, '76.112.168.228', 'http://www.RL.com/product/4002', 0, 0.0, 'CA7267D3-394F-4C8F-BE2C-17C61692B2AA', 'detroit', 'mi', 'usa', '31-Jan-79', 'M']\n",
      "277    16      [Timestamp('2012-03-01 04:21:33'), 1330604493, '76.112.168.228', 'http://www.RL.com/', 0, 0.0, 'CA7267D3-394F-4C8F-BE2C-17C61692B2AA', 'detroit', 'mi', 'usa', '31-Jan-79', 'M']\n",
      "278    16      [Timestamp('2012-03-01 04:24:41'), 1330604681, '166.248.32.166', 'http://www.RL.com/', 0, 0.0, '546A4155-93F3-42A9-B6F4-5DCF85993E5A', 'bowie', 'md', 'usa', '17-Apr-91', 'M']\n"
     ]
    },
    {
     "name": "stderr",
     "output_type": "stream",
     "text": [
      "/home/ec2-user/anaconda3/envs/pytorch_p36/lib/python3.6/site-packages/sklearn/utils/validation.py:72: DataConversionWarning: A column-vector y was passed when a 1d array was expected. Please change the shape of y to (n_samples, ), for example using ravel().\n",
      "  return f(**kwargs)\n"
     ]
    },
    {
     "name": "stdout",
     "output_type": "stream",
     "text": [
      "[ExpiredIteratorException] Iterator expired.279    17      [Timestamp('2012-03-01 04:48:16'), 1330606096, '174.102.156.85', 'http://www.RL.com/', 0, 0.0, 'ABC292ED-2D00-40E0-9B25-DEE9F06B6191', 'cedarburg', 'wi', 'usa', '9-Aug-54', 'U']\n",
      "280    17      [Timestamp('2012-03-01 04:48:17'), 1330606097, '174.102.156.85', 'http://www.RL.com/video/1003', 0, 0.979798, 'ABC292ED-2D00-40E0-9B25-DEE9F06B6191', 'cedarburg', 'wi', 'usa', '9-Aug-54', 'U']\n",
      "281    17      [Timestamp('2012-03-01 04:48:47'), 1330606127, '174.102.156.85', 'http://www.RL.com/reco/2001', 0, 0.272727, 'ABC292ED-2D00-40E0-9B25-DEE9F06B6191', 'cedarburg', 'wi', 'usa', '9-Aug-54', 'U']\n",
      "282    17      [Timestamp('2012-03-01 04:48:52'), 1330606132, '174.102.156.85', 'http://www.RL.com/product/4001', 0, 0.0, 'ABC292ED-2D00-40E0-9B25-DEE9F06B6191', 'cedarburg', 'wi', 'usa', '9-Aug-54', 'U']\n",
      "283    17      [Timestamp('2012-03-01 04:51:18'), 1330606278, '66.195.118.243', 'http://www.RL.com/product/4003', 0, 0.0, '52E28C93-583A-46F0-BE7E-4DD9B50B2FC9', 'winter park', 'fl', 'usa', '17-Oct-87', 'M']\n",
      "284    17      [Timestamp('2012-03-01 04:51:18'), 1330606278, '66.195.118.243', 'http://www.RL.com/reco/2001', 0, 0.787879, '52E28C93-583A-46F0-BE7E-4DD9B50B2FC9', 'winter park', 'fl', 'usa', '17-Oct-87', 'M']\n",
      "285    17      [Timestamp('2012-03-01 04:51:49'), 1330606309, '66.195.118.243', 'http://www.RL.com/reco/2001', 0, 0.0909091, '52E28C93-583A-46F0-BE7E-4DD9B50B2FC9', 'winter park', 'fl', 'usa', '17-Oct-87', 'M']\n",
      "286    17      [Timestamp('2012-03-01 04:51:49'), 1330606309, '66.195.118.243', 'http://www.RL.com/video/1001', 0, 0.0909091, '52E28C93-583A-46F0-BE7E-4DD9B50B2FC9', 'winter park', 'fl', 'usa', '17-Oct-87', 'M']\n",
      "287    18      [Timestamp('2012-03-01 04:55:41'), 1330606541, '99.103.60.42', 'http://www.RL.com/', 0, 0.0, '3A4288B0-DA78-4881-BF4A-9497AC67E874', 'houston', 'tx', 'usa', '20-Feb-58', 'U']\n",
      "288    18      [Timestamp('2012-03-01 04:58:01'), 1330606681, '174.102.156.85', 'http://www.RL.com/product/4002', 0, 0.0, 'ABC292ED-2D00-40E0-9B25-DEE9F06B6191', 'cedarburg', 'wi', 'usa', '9-Aug-54', 'U']\n"
     ]
    },
    {
     "name": "stderr",
     "output_type": "stream",
     "text": [
      "/home/ec2-user/anaconda3/envs/pytorch_p36/lib/python3.6/site-packages/sklearn/utils/validation.py:72: DataConversionWarning: A column-vector y was passed when a 1d array was expected. Please change the shape of y to (n_samples, ), for example using ravel().\n",
      "  return f(**kwargs)\n"
     ]
    },
    {
     "name": "stdout",
     "output_type": "stream",
     "text": [
      "[ExpiredIteratorException] Iterator expired.289    18      [Timestamp('2012-03-01 04:58:01'), 1330606681, '174.102.156.85', 'http://www.RL.com/review/3004', 0, 0.818182, 'ABC292ED-2D00-40E0-9B25-DEE9F06B6191', 'cedarburg', 'wi', 'usa', '9-Aug-54', 'U']\n",
      "290    18      [Timestamp('2012-03-01 05:01:02'), 1330606862, '66.195.118.243', 'http://www.RL.com/', 0, 0.0, '52E28C93-583A-46F0-BE7E-4DD9B50B2FC9', 'winter park', 'fl', 'usa', '17-Oct-87', 'M']\n",
      "291    18      [Timestamp('2012-03-01 05:01:02'), 1330606862, '66.195.118.243', 'http://www.RL.com/review/3005', 0, 0.626263, '52E28C93-583A-46F0-BE7E-4DD9B50B2FC9', 'winter park', 'fl', 'usa', '17-Oct-87', 'M']\n",
      "292    18      [Timestamp('2012-03-01 05:02:05'), 1330606925, '66.195.118.243', 'http://www.RL.com/video/1001', 0, 0.252525, '52E28C93-583A-46F0-BE7E-4DD9B50B2FC9', 'winter park', 'fl', 'usa', '17-Oct-87', 'M']\n",
      "293    18      [Timestamp('2012-03-01 05:05:20'), 1330607120, '99.103.60.42', 'http://www.RL.com/', 0, 0.0, '3A4288B0-DA78-4881-BF4A-9497AC67E874', 'houston', 'tx', 'usa', '20-Feb-58', 'U']\n",
      "294    18      [Timestamp('2012-03-01 05:06:12'), 1330607172, '174.102.156.85', 'http://www.RL.com/product/4003', 0, 0.0, 'ABC292ED-2D00-40E0-9B25-DEE9F06B6191', 'cedarburg', 'wi', 'usa', '9-Aug-54', 'U']\n",
      "295    18      [Timestamp('2012-03-01 05:06:59'), 1330607219, '174.102.156.85', 'http://www.RL.com/', 0, 0.0, 'ABC292ED-2D00-40E0-9B25-DEE9F06B6191', 'cedarburg', 'wi', 'usa', '9-Aug-54', 'U']\n",
      "296    18      [Timestamp('2012-03-01 05:07:00'), 1330607220, '174.102.156.85', 'http://www.RL.com/product/4002', 0, 0.0, 'ABC292ED-2D00-40E0-9B25-DEE9F06B6191', 'cedarburg', 'wi', 'usa', '9-Aug-54', 'U']\n",
      "297    18      [Timestamp('2012-03-01 05:09:14'), 1330607354, '66.195.118.243', 'http://www.RL.com/review/3004', 0, 0.545455, '52E28C93-583A-46F0-BE7E-4DD9B50B2FC9', 'winter park', 'fl', 'usa', '17-Oct-87', 'M']\n",
      "298    19      [Timestamp('2012-03-01 05:13:09'), 1330607589, '99.103.60.42', 'http://www.RL.com/reco/2002', 0, 0.89899, '3A4288B0-DA78-4881-BF4A-9497AC67E874', 'houston', 'tx', 'usa', '20-Feb-58', 'U']\n"
     ]
    },
    {
     "name": "stderr",
     "output_type": "stream",
     "text": [
      "/home/ec2-user/anaconda3/envs/pytorch_p36/lib/python3.6/site-packages/sklearn/utils/validation.py:72: DataConversionWarning: A column-vector y was passed when a 1d array was expected. Please change the shape of y to (n_samples, ), for example using ravel().\n",
      "  return f(**kwargs)\n"
     ]
    },
    {
     "name": "stdout",
     "output_type": "stream",
     "text": [
      "[ExpiredIteratorException] Iterator expired.299    19      [Timestamp('2012-03-01 05:13:21'), 1330607601, '174.102.156.85', 'http://www.RL.com/product/4003', 0, 0.0, 'ABC292ED-2D00-40E0-9B25-DEE9F06B6191', 'cedarburg', 'wi', 'usa', '9-Aug-54', 'U']\n",
      "300    19      [Timestamp('2012-03-01 05:15:20'), 1330607720, '66.195.118.243', 'http://www.RL.com/', 0, 0.0, '52E28C93-583A-46F0-BE7E-4DD9B50B2FC9', 'winter park', 'fl', 'usa', '17-Oct-87', 'M']\n",
      "301    19      [Timestamp('2012-03-01 05:15:20'), 1330607720, '66.195.118.243', 'http://www.RL.com/product/4004', 0, 0.0, '52E28C93-583A-46F0-BE7E-4DD9B50B2FC9', 'winter park', 'fl', 'usa', '17-Oct-87', 'M']\n",
      "302    19      [Timestamp('2012-03-01 05:16:21'), 1330607781, '66.195.118.243', 'http://www.RL.com/product/4001', 0, 0.0, '52E28C93-583A-46F0-BE7E-4DD9B50B2FC9', 'winter park', 'fl', 'usa', '17-Oct-87', 'M']\n",
      "303    19      [Timestamp('2012-03-01 05:16:21'), 1330607781, '66.195.118.243', 'http://www.RL.com/reco/2002', 0, 0.818182, '52E28C93-583A-46F0-BE7E-4DD9B50B2FC9', 'winter park', 'fl', 'usa', '17-Oct-87', 'M']\n",
      "304    19      [Timestamp('2012-03-01 05:16:29'), 1330607789, '129.64.193.56', 'http://www.RL.com/', 0, 0.0, '87024610-3C30-4D4A-AB47-23BD7ACF48B8', 'waltham', 'ma', 'usa', '14-Feb-87', 'M']\n",
      "305    19      [Timestamp('2012-03-01 05:16:40'), 1330607800, '129.64.193.56', 'http://www.RL.com/product/4005', 0, 0.0, '87024610-3C30-4D4A-AB47-23BD7ACF48B8', 'waltham', 'ma', 'usa', '14-Feb-87', 'M']\n",
      "306    19      [Timestamp('2012-03-01 05:17:10'), 1330607830, '129.64.193.56', 'http://www.RL.com/product/4001', 0, 0.0, '87024610-3C30-4D4A-AB47-23BD7ACF48B8', 'waltham', 'ma', 'usa', '14-Feb-87', 'M']\n",
      "307    19      [Timestamp('2012-03-01 05:17:10'), 1330607830, '129.64.193.56', 'http://www.RL.com/product/4005', 0, 0.0, '87024610-3C30-4D4A-AB47-23BD7ACF48B8', 'waltham', 'ma', 'usa', '14-Feb-87', 'M']\n",
      "308    19      [Timestamp('2012-03-01 05:18:21'), 1330607901, '166.248.32.166', 'http://www.RL.com/video/1002', 0, 0.010101, '546A4155-93F3-42A9-B6F4-5DCF85993E5A', 'bowie', 'md', 'usa', '17-Apr-91', 'M']\n"
     ]
    },
    {
     "name": "stderr",
     "output_type": "stream",
     "text": [
      "/home/ec2-user/anaconda3/envs/pytorch_p36/lib/python3.6/site-packages/sklearn/utils/validation.py:72: DataConversionWarning: A column-vector y was passed when a 1d array was expected. Please change the shape of y to (n_samples, ), for example using ravel().\n",
      "  return f(**kwargs)\n"
     ]
    },
    {
     "name": "stdout",
     "output_type": "stream",
     "text": [
      "[ExpiredIteratorException] Iterator expired.309    19      [Timestamp('2012-03-01 05:18:31'), 1330607911, '166.248.32.166', 'http://www.RL.com/review/3005', 0, 0.11111099999999999, '546A4155-93F3-42A9-B6F4-5DCF85993E5A', 'bowie', 'md', 'usa', '17-Apr-91', 'M']\n",
      "310    19      [Timestamp('2012-03-01 05:19:03'), 1330607943, '166.248.32.166', 'http://www.RL.com/review/3004', 0, 0.43434300000000003, '546A4155-93F3-42A9-B6F4-5DCF85993E5A', 'bowie', 'md', 'usa', '17-Apr-91', 'M']\n",
      "311    19      [Timestamp('2012-03-01 05:19:03'), 1330607943, '166.248.32.166', 'http://www.RL.com/product/4003', 0, 0.0, '546A4155-93F3-42A9-B6F4-5DCF85993E5A', 'bowie', 'md', 'usa', '17-Apr-91', 'M']\n",
      "312    19      [Timestamp('2012-03-01 05:19:52'), 1330607992, '174.102.156.85', 'http://www.RL.com/product/4005', 0, 0.0, 'ABC292ED-2D00-40E0-9B25-DEE9F06B6191', 'cedarburg', 'wi', 'usa', '9-Aug-54', 'U']\n",
      "313    19      [Timestamp('2012-03-01 05:19:52'), 1330607992, '174.102.156.85', 'http://www.RL.com/review/3004', 0, 0.929293, 'ABC292ED-2D00-40E0-9B25-DEE9F06B6191', 'cedarburg', 'wi', 'usa', '9-Aug-54', 'U']\n",
      "314    19      [Timestamp('2012-03-01 05:21:03'), 1330608063, '99.103.60.42', 'http://www.RL.com/', 0, 0.0, '3A4288B0-DA78-4881-BF4A-9497AC67E874', 'houston', 'tx', 'usa', '20-Feb-58', 'U']\n",
      "315    19      [Timestamp('2012-03-01 05:21:50'), 1330608110, '66.195.118.243', 'http://www.RL.com/video/1001', 0, 0.10101, '52E28C93-583A-46F0-BE7E-4DD9B50B2FC9', 'winter park', 'fl', 'usa', '17-Oct-87', 'M']\n",
      "316    19      [Timestamp('2012-03-01 05:22:06'), 1330608126, '99.103.60.42', 'http://www.RL.com/review/3004', 0, 0.262626, '3A4288B0-DA78-4881-BF4A-9497AC67E874', 'houston', 'tx', 'usa', '20-Feb-58', 'U']\n",
      "317    19      [Timestamp('2012-03-01 05:22:51'), 1330608171, '66.195.118.243', 'http://www.RL.com/video/1003', 0, 0.717172, '52E28C93-583A-46F0-BE7E-4DD9B50B2FC9', 'winter park', 'fl', 'usa', '17-Oct-87', 'M']\n",
      "318    19      [Timestamp('2012-03-01 05:25:20'), 1330608320, '166.248.32.166', 'http://www.RL.com/product/4005', 0, 0.0, '546A4155-93F3-42A9-B6F4-5DCF85993E5A', 'bowie', 'md', 'usa', '17-Apr-91', 'M']\n"
     ]
    },
    {
     "name": "stderr",
     "output_type": "stream",
     "text": [
      "/home/ec2-user/anaconda3/envs/pytorch_p36/lib/python3.6/site-packages/sklearn/utils/validation.py:72: DataConversionWarning: A column-vector y was passed when a 1d array was expected. Please change the shape of y to (n_samples, ), for example using ravel().\n",
      "  return f(**kwargs)\n"
     ]
    },
    {
     "name": "stdout",
     "output_type": "stream",
     "text": [
      "[ExpiredIteratorException] Iterator expired.319    19      [Timestamp('2012-03-01 05:26:24'), 1330608384, '129.64.193.56', 'http://www.RL.com/reco/2001', 0, 0.848485, '87024610-3C30-4D4A-AB47-23BD7ACF48B8', 'waltham', 'ma', 'usa', '14-Feb-87', 'M']\n",
      "320    20      [Timestamp('2012-03-01 05:27:25'), 1330608445, '129.64.193.56', 'http://www.RL.com/product/4004', 0, 0.0, '87024610-3C30-4D4A-AB47-23BD7ACF48B8', 'waltham', 'ma', 'usa', '14-Feb-87', 'M']\n",
      "321    20      [Timestamp('2012-03-01 05:27:25'), 1330608445, '129.64.193.56', 'http://www.RL.com/video/1002', 0, 0.454545, '87024610-3C30-4D4A-AB47-23BD7ACF48B8', 'waltham', 'ma', 'usa', '14-Feb-87', 'M']\n",
      "322    20      [Timestamp('2012-03-01 05:27:41'), 1330608461, '71.232.222.97', 'http://www.RL.com/', 0, 0.0, '82D7FDE9-3FCA-4D63-A9E0-B20340173CE6', 'cambridge', 'ma', 'usa', '15-Aug-63', 'M']\n",
      "323    20      [Timestamp('2012-03-01 05:28:35'), 1330608515, '174.102.156.85', 'http://www.RL.com/product/4003', 0, 0.0, 'ABC292ED-2D00-40E0-9B25-DEE9F06B6191', 'cedarburg', 'wi', 'usa', '9-Aug-54', 'U']\n",
      "324    20      [Timestamp('2012-03-01 05:28:35'), 1330608515, '174.102.156.85', 'http://www.RL.com/video/1003', 0, 0.151515, 'ABC292ED-2D00-40E0-9B25-DEE9F06B6191', 'cedarburg', 'wi', 'usa', '9-Aug-54', 'U']\n",
      "325    20      [Timestamp('2012-03-01 05:28:37'), 1330608517, '174.102.156.85', 'http://www.RL.com/', 0, 0.0, 'ABC292ED-2D00-40E0-9B25-DEE9F06B6191', 'cedarburg', 'wi', 'usa', '9-Aug-54', 'U']\n",
      "326    20      [Timestamp('2012-03-01 05:29:13'), 1330608553, '99.103.60.42', 'http://www.RL.com/', 0, 0.0, '3A4288B0-DA78-4881-BF4A-9497AC67E874', 'houston', 'tx', 'usa', '20-Feb-58', 'U']\n",
      "327    20      [Timestamp('2012-03-01 05:29:38'), 1330608578, '69.135.182.105', 'http://www.RL.com/', 0, 0.0, '27892A7E-1F92-4A27-8FBE-A9317C17FD78', 'livonia', 'mi', 'usa', '26-Nov-84', 'F']\n",
      "328    20      [Timestamp('2012-03-01 05:30:08'), 1330608608, '174.102.156.85', 'http://www.RL.com/video/1001', 0, 0.08080810000000001, 'ABC292ED-2D00-40E0-9B25-DEE9F06B6191', 'cedarburg', 'wi', 'usa', '9-Aug-54', 'U']\n"
     ]
    },
    {
     "name": "stderr",
     "output_type": "stream",
     "text": [
      "/home/ec2-user/anaconda3/envs/pytorch_p36/lib/python3.6/site-packages/sklearn/utils/validation.py:72: DataConversionWarning: A column-vector y was passed when a 1d array was expected. Please change the shape of y to (n_samples, ), for example using ravel().\n",
      "  return f(**kwargs)\n"
     ]
    },
    {
     "name": "stdout",
     "output_type": "stream",
     "text": [
      "[ExpiredIteratorException] Iterator expired.329    20      [Timestamp('2012-03-01 05:30:08'), 1330608608, '174.102.156.85', 'http://www.RL.com/', 0, 0.0, 'ABC292ED-2D00-40E0-9B25-DEE9F06B6191', 'cedarburg', 'wi', 'usa', '9-Aug-54', 'U']\n",
      "330    20      [Timestamp('2012-03-01 05:30:17'), 1330608617, '174.102.156.85', 'http://www.RL.com/product/4005', 0, 0.0, 'ABC292ED-2D00-40E0-9B25-DEE9F06B6191', 'cedarburg', 'wi', 'usa', '9-Aug-54', 'U']\n",
      "331    20      [Timestamp('2012-03-01 05:30:18'), 1330608618, '99.103.60.42', 'http://www.RL.com/', 0, 0.0, '3A4288B0-DA78-4881-BF4A-9497AC67E874', 'houston', 'tx', 'usa', '20-Feb-58', 'U']\n",
      "332    20      [Timestamp('2012-03-01 05:32:27'), 1330608747, '69.135.182.105', 'http://www.RL.com/video/1001', 0, 0.47474700000000003, '27892A7E-1F92-4A27-8FBE-A9317C17FD78', 'livonia', 'mi', 'usa', '26-Nov-84', 'F']\n",
      "333    20      [Timestamp('2012-03-01 05:33:04'), 1330608784, '66.195.118.243', 'http://www.RL.com/video/1003', 0, 0.848485, '52E28C93-583A-46F0-BE7E-4DD9B50B2FC9', 'winter park', 'fl', 'usa', '17-Oct-87', 'M']\n",
      "334    20      [Timestamp('2012-03-01 05:33:04'), 1330608784, '66.195.118.243', 'http://www.RL.com/video/1003', 0, 0.848485, '52E28C93-583A-46F0-BE7E-4DD9B50B2FC9', 'winter park', 'fl', 'usa', '17-Oct-87', 'M']\n",
      "335    20      [Timestamp('2012-03-01 05:34:34'), 1330608874, '129.64.193.56', 'http://www.RL.com/review/3003', 0, 0.747475, '87024610-3C30-4D4A-AB47-23BD7ACF48B8', 'waltham', 'ma', 'usa', '14-Feb-87', 'M']\n",
      "336    20      [Timestamp('2012-03-01 05:34:34'), 1330608874, '129.64.193.56', 'http://www.RL.com/review/3003', 0, 0.747475, '87024610-3C30-4D4A-AB47-23BD7ACF48B8', 'waltham', 'ma', 'usa', '14-Feb-87', 'M']\n",
      "337    20      [Timestamp('2012-03-01 05:35:20'), 1330608920, '129.64.193.56', 'http://www.RL.com/product/4002', 0, 0.0, '87024610-3C30-4D4A-AB47-23BD7ACF48B8', 'waltham', 'ma', 'usa', '14-Feb-87', 'M']\n",
      "338    20      [Timestamp('2012-03-01 05:37:07'), 1330609027, '69.135.182.105', 'http://www.RL.com/review/3002', 0, 0.272727, '27892A7E-1F92-4A27-8FBE-A9317C17FD78', 'livonia', 'mi', 'usa', '26-Nov-84', 'F']\n"
     ]
    },
    {
     "name": "stderr",
     "output_type": "stream",
     "text": [
      "/home/ec2-user/anaconda3/envs/pytorch_p36/lib/python3.6/site-packages/sklearn/utils/validation.py:72: DataConversionWarning: A column-vector y was passed when a 1d array was expected. Please change the shape of y to (n_samples, ), for example using ravel().\n",
      "  return f(**kwargs)\n"
     ]
    },
    {
     "name": "stdout",
     "output_type": "stream",
     "text": [
      "[ExpiredIteratorException] Iterator expired.339    20      [Timestamp('2012-03-01 05:37:18'), 1330609038, '71.232.222.97', 'http://www.RL.com/product/4005', 0, 0.0, '82D7FDE9-3FCA-4D63-A9E0-B20340173CE6', 'cambridge', 'ma', 'usa', '15-Aug-63', 'M']\n",
      "340    20      [Timestamp('2012-03-01 05:37:38'), 1330609058, '69.135.182.105', 'http://www.RL.com/product/4004', 1, 0.0, '27892A7E-1F92-4A27-8FBE-A9317C17FD78', 'livonia', 'mi', 'usa', '26-Nov-84', 'F']\n",
      "341    20      [Timestamp('2012-03-01 05:37:43'), 1330609063, '99.103.60.42', 'http://www.RL.com/reco/2002', 0, 0.636364, '3A4288B0-DA78-4881-BF4A-9497AC67E874', 'houston', 'tx', 'usa', '20-Feb-58', 'U']\n",
      "342    20      [Timestamp('2012-03-01 05:37:48'), 1330609068, '69.135.182.105', 'http://www.RL.com/product/4005', 0, 0.0, '27892A7E-1F92-4A27-8FBE-A9317C17FD78', 'livonia', 'mi', 'usa', '26-Nov-84', 'F']\n",
      "343    20      [Timestamp('2012-03-01 05:38:19'), 1330609099, '71.232.222.97', 'http://www.RL.com/review/3004', 0, 1.0, '82D7FDE9-3FCA-4D63-A9E0-B20340173CE6', 'cambridge', 'ma', 'usa', '15-Aug-63', 'M']\n",
      "344    20      [Timestamp('2012-03-01 05:40:40'), 1330609240, '129.64.193.56', 'http://www.RL.com/review/3005', 0, 0.40404, '87024610-3C30-4D4A-AB47-23BD7ACF48B8', 'waltham', 'ma', 'usa', '14-Feb-87', 'M']\n",
      "345    20      [Timestamp('2012-03-01 05:41:40'), 1330609300, '129.64.193.56', 'http://www.RL.com/', 0, 0.0, '87024610-3C30-4D4A-AB47-23BD7ACF48B8', 'waltham', 'ma', 'usa', '14-Feb-87', 'M']\n",
      "346    20      [Timestamp('2012-03-01 05:43:00'), 1330609380, '69.135.182.105', 'http://www.RL.com/product/4001', 0, 0.0, '27892A7E-1F92-4A27-8FBE-A9317C17FD78', 'livonia', 'mi', 'usa', '26-Nov-84', 'F']\n",
      "347    21      [Timestamp('2012-03-01 05:43:27'), 1330609407, '69.135.182.105', 'http://www.RL.com/product/4005', 0, 0.0, '27892A7E-1F92-4A27-8FBE-A9317C17FD78', 'livonia', 'mi', 'usa', '26-Nov-84', 'F']\n",
      "348    21      [Timestamp('2012-03-01 05:44:02'), 1330609442, '69.135.182.105', 'http://www.RL.com/product/4001', 0, 0.0, '27892A7E-1F92-4A27-8FBE-A9317C17FD78', 'livonia', 'mi', 'usa', '26-Nov-84', 'F']\n"
     ]
    },
    {
     "name": "stderr",
     "output_type": "stream",
     "text": [
      "/home/ec2-user/anaconda3/envs/pytorch_p36/lib/python3.6/site-packages/sklearn/utils/validation.py:72: DataConversionWarning: A column-vector y was passed when a 1d array was expected. Please change the shape of y to (n_samples, ), for example using ravel().\n",
      "  return f(**kwargs)\n"
     ]
    },
    {
     "name": "stdout",
     "output_type": "stream",
     "text": [
      "[ExpiredIteratorException] Iterator expired.349    21      [Timestamp('2012-03-01 05:44:02'), 1330609442, '69.135.182.105', 'http://www.RL.com/reco/2001', 0, 0.424242, '27892A7E-1F92-4A27-8FBE-A9317C17FD78', 'livonia', 'mi', 'usa', '26-Nov-84', 'F']\n",
      "350    21      [Timestamp('2012-03-01 05:44:22'), 1330609462, '99.103.60.42', 'http://www.RL.com/review/3002', 0, 0.626263, '3A4288B0-DA78-4881-BF4A-9497AC67E874', 'houston', 'tx', 'usa', '20-Feb-58', 'U']\n",
      "351    21      [Timestamp('2012-03-01 05:45:50'), 1330609550, '71.232.222.97', 'http://www.RL.com/', 0, 0.0, '82D7FDE9-3FCA-4D63-A9E0-B20340173CE6', 'cambridge', 'ma', 'usa', '15-Aug-63', 'M']\n",
      "352    21      [Timestamp('2012-03-01 05:47:10'), 1330609630, '129.64.193.56', 'http://www.RL.com/', 0, 0.0, '87024610-3C30-4D4A-AB47-23BD7ACF48B8', 'waltham', 'ma', 'usa', '14-Feb-87', 'M']\n",
      "353    21      [Timestamp('2012-03-01 05:47:10'), 1330609630, '129.64.193.56', 'http://www.RL.com/', 0, 0.0, '87024610-3C30-4D4A-AB47-23BD7ACF48B8', 'waltham', 'ma', 'usa', '14-Feb-87', 'M']\n",
      "354    21      [Timestamp('2012-03-01 05:47:19'), 1330609639, '166.248.32.166', 'http://www.RL.com/review/3002', 0, 0.393939, '546A4155-93F3-42A9-B6F4-5DCF85993E5A', 'bowie', 'md', 'usa', '17-Apr-91', 'M']\n",
      "355    21      [Timestamp('2012-03-01 05:47:51'), 1330609671, '24.12.68.203', 'http://www.RL.com/reco/2002', 0, 0.717172, '1C9D500C-9BDF-4CCA-9D50-0C9BDF3CCA7B', 'chicago', 'il', 'usa', '3-Apr-90', 'M']\n",
      "356    21      [Timestamp('2012-03-01 05:48:02'), 1330609682, '24.12.68.203', 'http://www.RL.com/product/4001', 0, 0.0, '1C9D500C-9BDF-4CCA-9D50-0C9BDF3CCA7B', 'chicago', 'il', 'usa', '3-Apr-90', 'M']\n",
      "357    21      [Timestamp('2012-03-01 05:48:02'), 1330609682, '24.12.68.203', 'http://www.RL.com/video/1001', 0, 0.828283, '1C9D500C-9BDF-4CCA-9D50-0C9BDF3CCA7B', 'chicago', 'il', 'usa', '3-Apr-90', 'M']\n",
      "358    21      [Timestamp('2012-03-01 05:48:10'), 1330609690, '166.248.32.166', 'http://www.RL.com/product/4001', 1, 0.0, '546A4155-93F3-42A9-B6F4-5DCF85993E5A', 'bowie', 'md', 'usa', '17-Apr-91', 'M']\n"
     ]
    },
    {
     "name": "stderr",
     "output_type": "stream",
     "text": [
      "/home/ec2-user/anaconda3/envs/pytorch_p36/lib/python3.6/site-packages/sklearn/utils/validation.py:72: DataConversionWarning: A column-vector y was passed when a 1d array was expected. Please change the shape of y to (n_samples, ), for example using ravel().\n",
      "  return f(**kwargs)\n"
     ]
    },
    {
     "name": "stdout",
     "output_type": "stream",
     "text": [
      "[ExpiredIteratorException] Iterator expired.359    21      [Timestamp('2012-03-01 05:48:33'), 1330609713, '24.12.68.203', 'http://www.RL.com/review/3005', 0, 0.131313, '1C9D500C-9BDF-4CCA-9D50-0C9BDF3CCA7B', 'chicago', 'il', 'usa', '3-Apr-90', 'M']\n",
      "360    21      [Timestamp('2012-03-01 05:48:33'), 1330609713, '24.12.68.203', 'http://www.RL.com/', 0, 0.0, '1C9D500C-9BDF-4CCA-9D50-0C9BDF3CCA7B', 'chicago', 'il', 'usa', '3-Apr-90', 'M']\n",
      "361    21      [Timestamp('2012-03-01 05:49:16'), 1330609756, '166.248.32.166', 'http://www.RL.com/', 0, 0.0, '546A4155-93F3-42A9-B6F4-5DCF85993E5A', 'bowie', 'md', 'usa', '17-Apr-91', 'M']\n",
      "362    21      [Timestamp('2012-03-01 05:49:36'), 1330609776, '69.135.182.105', 'http://www.RL.com/reco/2002', 0, 0.767677, '27892A7E-1F92-4A27-8FBE-A9317C17FD78', 'livonia', 'mi', 'usa', '26-Nov-84', 'F']\n",
      "363    21      [Timestamp('2012-03-01 05:50:42'), 1330609842, '69.135.182.105', 'http://www.RL.com/', 0, 0.0, '27892A7E-1F92-4A27-8FBE-A9317C17FD78', 'livonia', 'mi', 'usa', '26-Nov-84', 'F']\n",
      "364    21      [Timestamp('2012-03-01 05:51:28'), 1330609888, '69.135.182.105', 'http://www.RL.com/video/1001', 0, 0.8888889999999999, '27892A7E-1F92-4A27-8FBE-A9317C17FD78', 'livonia', 'mi', 'usa', '26-Nov-84', 'F']\n",
      "365    21      [Timestamp('2012-03-01 05:51:35'), 1330609895, '69.135.182.105', 'http://www.RL.com/review/3004', 0, 0.9595959999999999, '27892A7E-1F92-4A27-8FBE-A9317C17FD78', 'livonia', 'mi', 'usa', '26-Nov-84', 'F']\n",
      "366    21      [Timestamp('2012-03-01 05:53:00'), 1330609980, '71.232.222.97', 'http://www.RL.com/', 0, 0.0, '82D7FDE9-3FCA-4D63-A9E0-B20340173CE6', 'cambridge', 'ma', 'usa', '15-Aug-63', 'M']\n",
      "367    21      [Timestamp('2012-03-01 05:56:53'), 1330610213, '129.64.193.56', 'http://www.RL.com/product/4004', 0, 0.0, '87024610-3C30-4D4A-AB47-23BD7ACF48B8', 'waltham', 'ma', 'usa', '14-Feb-87', 'M']\n",
      "368    21      [Timestamp('2012-03-01 05:56:53'), 1330610213, '129.64.193.56', 'http://www.RL.com/reco/2001', 0, 0.131313, '87024610-3C30-4D4A-AB47-23BD7ACF48B8', 'waltham', 'ma', 'usa', '14-Feb-87', 'M']\n"
     ]
    },
    {
     "name": "stderr",
     "output_type": "stream",
     "text": [
      "/home/ec2-user/anaconda3/envs/pytorch_p36/lib/python3.6/site-packages/sklearn/utils/validation.py:72: DataConversionWarning: A column-vector y was passed when a 1d array was expected. Please change the shape of y to (n_samples, ), for example using ravel().\n",
      "  return f(**kwargs)\n"
     ]
    },
    {
     "name": "stdout",
     "output_type": "stream",
     "text": [
      "[ExpiredIteratorException] Iterator expired.369    21      [Timestamp('2012-03-01 05:57:34'), 1330610254, '166.248.32.166', 'http://www.RL.com/review/3004', 0, 0.545455, '546A4155-93F3-42A9-B6F4-5DCF85993E5A', 'bowie', 'md', 'usa', '17-Apr-91', 'M']\n",
      "370    21      [Timestamp('2012-03-01 05:57:47'), 1330610267, '24.12.68.203', 'http://www.RL.com/reco/2001', 0, 0.676768, '1C9D500C-9BDF-4CCA-9D50-0C9BDF3CCA7B', 'chicago', 'il', 'usa', '3-Apr-90', 'M']\n",
      "371    21      [Timestamp('2012-03-01 05:57:47'), 1330610267, '24.12.68.203', 'http://www.RL.com/', 0, 0.0, '1C9D500C-9BDF-4CCA-9D50-0C9BDF3CCA7B', 'chicago', 'il', 'usa', '3-Apr-90', 'M']\n",
      "372    21      [Timestamp('2012-03-01 05:58:25'), 1330610305, '129.64.193.56', 'http://www.RL.com/review/3001', 0, 0.0505051, '87024610-3C30-4D4A-AB47-23BD7ACF48B8', 'waltham', 'ma', 'usa', '14-Feb-87', 'M']\n",
      "373    21      [Timestamp('2012-03-01 05:58:48'), 1330610328, '24.12.68.203', 'http://www.RL.com/', 0, 0.0, '1C9D500C-9BDF-4CCA-9D50-0C9BDF3CCA7B', 'chicago', 'il', 'usa', '3-Apr-90', 'M']\n",
      "374    21      [Timestamp('2012-03-01 05:59:16'), 1330610356, '69.135.182.105', 'http://www.RL.com/', 0, 0.0, '27892A7E-1F92-4A27-8FBE-A9317C17FD78', 'livonia', 'mi', 'usa', '26-Nov-84', 'F']\n",
      "375    21      [Timestamp('2012-03-01 05:59:16'), 1330610356, '69.135.182.105', 'http://www.RL.com/', 0, 0.0, '27892A7E-1F92-4A27-8FBE-A9317C17FD78', 'livonia', 'mi', 'usa', '26-Nov-84', 'F']\n",
      "376    22      [Timestamp('2012-03-01 06:00:17'), 1330610417, '69.135.182.105', 'http://www.RL.com/video/1001', 0, 0.171717, '27892A7E-1F92-4A27-8FBE-A9317C17FD78', 'livonia', 'mi', 'usa', '26-Nov-84', 'F']\n",
      "377    22      [Timestamp('2012-03-01 06:00:18'), 1330610418, '69.135.182.105', 'http://www.RL.com/review/3002', 0, 0.181818, '27892A7E-1F92-4A27-8FBE-A9317C17FD78', 'livonia', 'mi', 'usa', '26-Nov-84', 'F']\n",
      "378    22      [Timestamp('2012-03-01 06:01:04'), 1330610464, '71.232.222.97', 'http://www.RL.com/', 0, 0.0, '82D7FDE9-3FCA-4D63-A9E0-B20340173CE6', 'cambridge', 'ma', 'usa', '15-Aug-63', 'M']\n"
     ]
    },
    {
     "name": "stderr",
     "output_type": "stream",
     "text": [
      "/home/ec2-user/anaconda3/envs/pytorch_p36/lib/python3.6/site-packages/sklearn/utils/validation.py:72: DataConversionWarning: A column-vector y was passed when a 1d array was expected. Please change the shape of y to (n_samples, ), for example using ravel().\n",
      "  return f(**kwargs)\n"
     ]
    },
    {
     "name": "stdout",
     "output_type": "stream",
     "text": [
      "[ExpiredIteratorException] Iterator expired.379    22      [Timestamp('2012-03-01 06:02:47'), 1330610567, '166.248.32.166', 'http://www.RL.com/product/4003', 0, 0.0, '546A4155-93F3-42A9-B6F4-5DCF85993E5A', 'bowie', 'md', 'usa', '17-Apr-91', 'M']\n",
      "380    22      [Timestamp('2012-03-01 06:02:47'), 1330610567, '166.248.32.166', 'http://www.RL.com/reco/2001', 0, 0.676768, '546A4155-93F3-42A9-B6F4-5DCF85993E5A', 'bowie', 'md', 'usa', '17-Apr-91', 'M']\n",
      "381    22      [Timestamp('2012-03-01 06:03:50'), 1330610630, '166.248.32.166', 'http://www.RL.com/review/3005', 0, 0.30303, '546A4155-93F3-42A9-B6F4-5DCF85993E5A', 'bowie', 'md', 'usa', '17-Apr-91', 'M']\n",
      "382    22      [Timestamp('2012-03-01 06:04:36'), 1330610676, '69.135.182.105', 'http://www.RL.com/video/1001', 0, 0.767677, '27892A7E-1F92-4A27-8FBE-A9317C17FD78', 'livonia', 'mi', 'usa', '26-Nov-84', 'F']\n",
      "383    22      [Timestamp('2012-03-01 06:04:37'), 1330610677, '69.135.182.105', 'http://www.RL.com/video/1002', 0, 0.777778, '27892A7E-1F92-4A27-8FBE-A9317C17FD78', 'livonia', 'mi', 'usa', '26-Nov-84', 'F']\n",
      "384    22      [Timestamp('2012-03-01 06:04:50'), 1330610690, '166.248.32.166', 'http://www.RL.com/product/4001', 0, 0.0, '546A4155-93F3-42A9-B6F4-5DCF85993E5A', 'bowie', 'md', 'usa', '17-Apr-91', 'M']\n",
      "385    22      [Timestamp('2012-03-01 06:04:55'), 1330610695, '166.248.32.166', 'http://www.RL.com/video/1002', 0, 0.9595959999999999, '546A4155-93F3-42A9-B6F4-5DCF85993E5A', 'bowie', 'md', 'usa', '17-Apr-91', 'M']\n",
      "386    22      [Timestamp('2012-03-01 06:05:57'), 1330610757, '24.12.68.203', 'http://www.RL.com/', 0, 0.0, '1C9D500C-9BDF-4CCA-9D50-0C9BDF3CCA7B', 'chicago', 'il', 'usa', '3-Apr-90', 'M']\n",
      "387    22      [Timestamp('2012-03-01 06:06:01'), 1330610761, '129.64.193.56', 'http://www.RL.com/', 0, 0.0, '87024610-3C30-4D4A-AB47-23BD7ACF48B8', 'waltham', 'ma', 'usa', '14-Feb-87', 'M']\n",
      "388    22      [Timestamp('2012-03-01 06:06:32'), 1330610792, '129.64.193.56', 'http://www.RL.com/product/4005', 0, 0.0, '87024610-3C30-4D4A-AB47-23BD7ACF48B8', 'waltham', 'ma', 'usa', '14-Feb-87', 'M']\n"
     ]
    },
    {
     "name": "stderr",
     "output_type": "stream",
     "text": [
      "/home/ec2-user/anaconda3/envs/pytorch_p36/lib/python3.6/site-packages/sklearn/utils/validation.py:72: DataConversionWarning: A column-vector y was passed when a 1d array was expected. Please change the shape of y to (n_samples, ), for example using ravel().\n",
      "  return f(**kwargs)\n"
     ]
    },
    {
     "name": "stdout",
     "output_type": "stream",
     "text": [
      "[ExpiredIteratorException] Iterator expired.389    22      [Timestamp('2012-03-01 06:06:40'), 1330610800, '129.64.193.56', 'http://www.RL.com/video/1003', 0, 0.0, '87024610-3C30-4D4A-AB47-23BD7ACF48B8', 'waltham', 'ma', 'usa', '14-Feb-87', 'M']\n",
      "390    22      [Timestamp('2012-03-01 06:06:43'), 1330610803, '24.12.68.203', 'http://www.RL.com/', 0, 0.0, '1C9D500C-9BDF-4CCA-9D50-0C9BDF3CCA7B', 'chicago', 'il', 'usa', '3-Apr-90', 'M']\n",
      "391    22      [Timestamp('2012-03-01 06:07:41'), 1330610861, '71.232.222.97', 'http://www.RL.com/', 0, 0.0, '82D7FDE9-3FCA-4D63-A9E0-B20340173CE6', 'cambridge', 'ma', 'usa', '15-Aug-63', 'M']\n",
      "392    22      [Timestamp('2012-03-01 06:08:34'), 1330610914, '129.64.193.56', 'http://www.RL.com/', 0, 0.0, '87024610-3C30-4D4A-AB47-23BD7ACF48B8', 'waltham', 'ma', 'usa', '14-Feb-87', 'M']\n",
      "393    22      [Timestamp('2012-03-01 06:08:37'), 1330610917, '129.64.193.56', 'http://www.RL.com/product/4003', 0, 0.0, '87024610-3C30-4D4A-AB47-23BD7ACF48B8', 'waltham', 'ma', 'usa', '14-Feb-87', 'M']\n",
      "394    22      [Timestamp('2012-03-01 06:09:12'), 1330610952, '71.232.222.97', 'http://www.RL.com/product/4004', 0, 0.0, '82D7FDE9-3FCA-4D63-A9E0-B20340173CE6', 'cambridge', 'ma', 'usa', '15-Aug-63', 'M']\n",
      "395    22      [Timestamp('2012-03-01 06:10:43'), 1330611043, '129.64.193.56', 'http://www.RL.com/', 0, 0.0, '87024610-3C30-4D4A-AB47-23BD7ACF48B8', 'waltham', 'ma', 'usa', '14-Feb-87', 'M']\n",
      "396    22      [Timestamp('2012-03-01 06:10:43'), 1330611043, '72.240.71.187', 'http://www.RL.com/review/3003', 0, 0.43434300000000003, '358C33A6-5E46-47E9-853A-EA740B7DACCE', 'sylvania', 'oh', 'usa', '29-Aug-55', 'U']\n",
      "397    22      [Timestamp('2012-03-01 06:10:53'), 1330611053, '72.240.71.187', 'http://www.RL.com/review/3001', 0, 0.535354, '358C33A6-5E46-47E9-853A-EA740B7DACCE', 'sylvania', 'oh', 'usa', '29-Aug-55', 'U']\n",
      "398    22      [Timestamp('2012-03-01 06:10:57'), 1330611057, '72.240.71.187', 'http://www.RL.com/product/4002', 0, 0.0, '358C33A6-5E46-47E9-853A-EA740B7DACCE', 'sylvania', 'oh', 'usa', '29-Aug-55', 'U']\n"
     ]
    },
    {
     "name": "stderr",
     "output_type": "stream",
     "text": [
      "/home/ec2-user/anaconda3/envs/pytorch_p36/lib/python3.6/site-packages/sklearn/utils/validation.py:72: DataConversionWarning: A column-vector y was passed when a 1d array was expected. Please change the shape of y to (n_samples, ), for example using ravel().\n",
      "  return f(**kwargs)\n"
     ]
    },
    {
     "name": "stdout",
     "output_type": "stream",
     "text": [
      "[ExpiredIteratorException] Iterator expired.399    22      [Timestamp('2012-03-01 06:11:11'), 1330611071, '166.248.32.166', 'http://www.RL.com/product/4003', 0, 0.0, '546A4155-93F3-42A9-B6F4-5DCF85993E5A', 'bowie', 'md', 'usa', '17-Apr-91', 'M']\n",
      "400    22      [Timestamp('2012-03-01 06:11:12'), 1330611072, '166.248.32.166', 'http://www.RL.com/', 0, 0.0, '546A4155-93F3-42A9-B6F4-5DCF85993E5A', 'bowie', 'md', 'usa', '17-Apr-91', 'M']\n",
      "401    22      [Timestamp('2012-03-01 06:12:02'), 1330611122, '24.12.68.203', 'http://www.RL.com/video/1003', 0, 0.22222199999999998, '1C9D500C-9BDF-4CCA-9D50-0C9BDF3CCA7B', 'chicago', 'il', 'usa', '3-Apr-90', 'M']\n",
      "402    22      [Timestamp('2012-03-01 06:12:17'), 1330611137, '166.248.32.166', 'http://www.RL.com/', 0, 0.0, '546A4155-93F3-42A9-B6F4-5DCF85993E5A', 'bowie', 'md', 'usa', '17-Apr-91', 'M']\n",
      "403    22      [Timestamp('2012-03-01 06:12:17'), 1330611137, '166.248.32.166', 'http://www.RL.com/', 0, 0.0, '546A4155-93F3-42A9-B6F4-5DCF85993E5A', 'bowie', 'md', 'usa', '17-Apr-91', 'M']\n",
      "404    22      [Timestamp('2012-03-01 06:13:03'), 1330611183, '24.12.68.203', 'http://www.RL.com/reco/2002', 0, 0.838384, '1C9D500C-9BDF-4CCA-9D50-0C9BDF3CCA7B', 'chicago', 'il', 'usa', '3-Apr-90', 'M']\n",
      "405    22      [Timestamp('2012-03-01 06:13:03'), 1330611183, '24.12.68.203', 'http://www.RL.com/review/3002', 0, 0.838384, '1C9D500C-9BDF-4CCA-9D50-0C9BDF3CCA7B', 'chicago', 'il', 'usa', '3-Apr-90', 'M']\n",
      "406    22      [Timestamp('2012-03-01 06:15:27'), 1330611327, '69.135.182.105', 'http://www.RL.com/', 0, 0.0, '27892A7E-1F92-4A27-8FBE-A9317C17FD78', 'livonia', 'mi', 'usa', '26-Nov-84', 'F']\n",
      "407    23      [Timestamp('2012-03-01 06:16:49'), 1330611409, '129.64.193.56', 'http://www.RL.com/reco/2001', 0, 0.0909091, '87024610-3C30-4D4A-AB47-23BD7ACF48B8', 'waltham', 'ma', 'usa', '14-Feb-87', 'M']\n",
      "408    23      [Timestamp('2012-03-01 06:17:02'), 1330611422, '129.64.193.56', 'http://www.RL.com/', 0, 0.0, '87024610-3C30-4D4A-AB47-23BD7ACF48B8', 'waltham', 'ma', 'usa', '14-Feb-87', 'M']\n"
     ]
    },
    {
     "name": "stderr",
     "output_type": "stream",
     "text": [
      "/home/ec2-user/anaconda3/envs/pytorch_p36/lib/python3.6/site-packages/sklearn/utils/validation.py:72: DataConversionWarning: A column-vector y was passed when a 1d array was expected. Please change the shape of y to (n_samples, ), for example using ravel().\n",
      "  return f(**kwargs)\n"
     ]
    },
    {
     "name": "stdout",
     "output_type": "stream",
     "text": [
      "[ExpiredIteratorException] Iterator expired.409    23      [Timestamp('2012-03-01 06:17:13'), 1330611433, '129.64.193.56', 'http://www.RL.com/product/4003', 1, 0.0, '87024610-3C30-4D4A-AB47-23BD7ACF48B8', 'waltham', 'ma', 'usa', '14-Feb-87', 'M']\n",
      "410    23      [Timestamp('2012-03-01 06:17:20'), 1330611440, '129.64.193.56', 'http://www.RL.com/product/4005', 0, 0.0, '87024610-3C30-4D4A-AB47-23BD7ACF48B8', 'waltham', 'ma', 'usa', '14-Feb-87', 'M']\n",
      "411    23      [Timestamp('2012-03-01 06:17:54'), 1330611474, '72.240.71.187', 'http://www.RL.com/review/3001', 0, 0.747475, '358C33A6-5E46-47E9-853A-EA740B7DACCE', 'sylvania', 'oh', 'usa', '29-Aug-55', 'U']\n",
      "412    23      [Timestamp('2012-03-01 06:17:54'), 1330611474, '72.240.71.187', 'http://www.RL.com/product/4005', 0, 0.0, '358C33A6-5E46-47E9-853A-EA740B7DACCE', 'sylvania', 'oh', 'usa', '29-Aug-55', 'U']\n",
      "413    23      [Timestamp('2012-03-01 06:18:32'), 1330611512, '24.12.68.203', 'http://www.RL.com/video/1003', 0, 0.12121199999999999, '1C9D500C-9BDF-4CCA-9D50-0C9BDF3CCA7B', 'chicago', 'il', 'usa', '3-Apr-90', 'M']\n",
      "414    23      [Timestamp('2012-03-01 06:18:33'), 1330611513, '24.12.68.203', 'http://www.RL.com/reco/2001', 0, 0.131313, '1C9D500C-9BDF-4CCA-9D50-0C9BDF3CCA7B', 'chicago', 'il', 'usa', '3-Apr-90', 'M']\n",
      "415    23      [Timestamp('2012-03-01 06:18:56'), 1330611536, '72.240.71.187', 'http://www.RL.com/reco/2002', 0, 0.363636, '358C33A6-5E46-47E9-853A-EA740B7DACCE', 'sylvania', 'oh', 'usa', '29-Aug-55', 'U']\n",
      "416    23      [Timestamp('2012-03-01 06:18:56'), 1330611536, '72.240.71.187', 'http://www.RL.com/', 0, 0.0, '358C33A6-5E46-47E9-853A-EA740B7DACCE', 'sylvania', 'oh', 'usa', '29-Aug-55', 'U']\n",
      "417    23      [Timestamp('2012-03-01 06:19:34'), 1330611574, '166.248.32.166', 'http://www.RL.com/', 0, 0.0, '546A4155-93F3-42A9-B6F4-5DCF85993E5A', 'bowie', 'md', 'usa', '17-Apr-91', 'M']\n",
      "418    23      [Timestamp('2012-03-01 06:19:34'), 1330611574, '166.248.32.166', 'http://www.RL.com/', 0, 0.0, '546A4155-93F3-42A9-B6F4-5DCF85993E5A', 'bowie', 'md', 'usa', '17-Apr-91', 'M']\n"
     ]
    },
    {
     "name": "stderr",
     "output_type": "stream",
     "text": [
      "/home/ec2-user/anaconda3/envs/pytorch_p36/lib/python3.6/site-packages/sklearn/utils/validation.py:72: DataConversionWarning: A column-vector y was passed when a 1d array was expected. Please change the shape of y to (n_samples, ), for example using ravel().\n",
      "  return f(**kwargs)\n"
     ]
    },
    {
     "name": "stdout",
     "output_type": "stream",
     "text": [
      "[ExpiredIteratorException] Iterator expired.419    23      [Timestamp('2012-03-01 06:19:35'), 1330611575, '24.12.68.203', 'http://www.RL.com/', 0, 0.0, '1C9D500C-9BDF-4CCA-9D50-0C9BDF3CCA7B', 'chicago', 'il', 'usa', '3-Apr-90', 'M']\n",
      "420    23      [Timestamp('2012-03-01 06:19:37'), 1330611577, '166.248.32.166', 'http://www.RL.com/', 0, 0.0, '546A4155-93F3-42A9-B6F4-5DCF85993E5A', 'bowie', 'md', 'usa', '17-Apr-91', 'M']\n",
      "421    23      [Timestamp('2012-03-01 06:19:59'), 1330611599, '173.3.27.246', 'http://www.RL.com/', 0, 0.0, '4BCFEA82-2EED-42F4-9D6C-1FB11804C1B9', 'morris plains', 'nj', 'usa', '10-May-89', 'F']\n",
      "422    23      [Timestamp('2012-03-01 06:19:59'), 1330611599, '173.3.27.246', 'http://www.RL.com/video/1001', 0, 1.0, '4BCFEA82-2EED-42F4-9D6C-1FB11804C1B9', 'morris plains', 'nj', 'usa', '10-May-89', 'F']\n",
      "423    23      [Timestamp('2012-03-01 06:20:29'), 1330611629, '173.3.27.246', 'http://www.RL.com/product/4003', 0, 0.0, '4BCFEA82-2EED-42F4-9D6C-1FB11804C1B9', 'morris plains', 'nj', 'usa', '10-May-89', 'F']\n",
      "424    23      [Timestamp('2012-03-01 06:20:30'), 1330611630, '173.3.27.246', 'http://www.RL.com/video/1002', 0, 0.30303, '4BCFEA82-2EED-42F4-9D6C-1FB11804C1B9', 'morris plains', 'nj', 'usa', '10-May-89', 'F']\n",
      "425    23      [Timestamp('2012-03-01 06:21:21'), 1330611681, '166.248.32.166', 'http://www.RL.com/review/3003', 0, 0.818182, '546A4155-93F3-42A9-B6F4-5DCF85993E5A', 'bowie', 'md', 'usa', '17-Apr-91', 'M']\n",
      "426    23      [Timestamp('2012-03-01 06:21:25'), 1330611685, '166.248.32.166', 'http://www.RL.com/', 0, 0.0, '546A4155-93F3-42A9-B6F4-5DCF85993E5A', 'bowie', 'md', 'usa', '17-Apr-91', 'M']\n",
      "427    23      [Timestamp('2012-03-01 06:22:41'), 1330611761, '129.64.193.56', 'http://www.RL.com/video/1002', 0, 0.616162, '87024610-3C30-4D4A-AB47-23BD7ACF48B8', 'waltham', 'ma', 'usa', '14-Feb-87', 'M']\n",
      "428    23      [Timestamp('2012-03-01 06:23:10'), 1330611790, '129.64.193.56', 'http://www.RL.com/', 0, 0.0, '87024610-3C30-4D4A-AB47-23BD7ACF48B8', 'waltham', 'ma', 'usa', '14-Feb-87', 'M']\n"
     ]
    },
    {
     "name": "stderr",
     "output_type": "stream",
     "text": [
      "/home/ec2-user/anaconda3/envs/pytorch_p36/lib/python3.6/site-packages/sklearn/utils/validation.py:72: DataConversionWarning: A column-vector y was passed when a 1d array was expected. Please change the shape of y to (n_samples, ), for example using ravel().\n",
      "  return f(**kwargs)\n"
     ]
    },
    {
     "name": "stdout",
     "output_type": "stream",
     "text": [
      "[ExpiredIteratorException] Iterator expired.429    23      [Timestamp('2012-03-01 06:27:39'), 1330612059, '72.240.71.187', 'http://www.RL.com/product/4001', 1, 0.0, '358C33A6-5E46-47E9-853A-EA740B7DACCE', 'sylvania', 'oh', 'usa', '29-Aug-55', 'U']\n",
      "430    23      [Timestamp('2012-03-01 06:28:17'), 1330612097, '24.12.68.203', 'http://www.RL.com/', 0, 0.0, '1C9D500C-9BDF-4CCA-9D50-0C9BDF3CCA7B', 'chicago', 'il', 'usa', '3-Apr-90', 'M']\n",
      "431    23      [Timestamp('2012-03-01 06:28:19'), 1330612099, '173.3.27.246', 'http://www.RL.com/', 0, 0.0, '4BCFEA82-2EED-42F4-9D6C-1FB11804C1B9', 'morris plains', 'nj', 'usa', '10-May-89', 'F']\n",
      "432    23      [Timestamp('2012-03-01 06:28:20'), 1330612100, '173.3.27.246', 'http://www.RL.com/product/4002', 0, 0.0, '4BCFEA82-2EED-42F4-9D6C-1FB11804C1B9', 'morris plains', 'nj', 'usa', '10-May-89', 'F']\n",
      "433    23      [Timestamp('2012-03-01 06:29:22'), 1330612162, '173.3.27.246', 'http://www.RL.com/product/4005', 0, 0.0, '4BCFEA82-2EED-42F4-9D6C-1FB11804C1B9', 'morris plains', 'nj', 'usa', '10-May-89', 'F']\n",
      "434    23      [Timestamp('2012-03-01 06:29:25'), 1330612165, '173.3.27.246', 'http://www.RL.com/reco/2002', 0, 0.656566, '4BCFEA82-2EED-42F4-9D6C-1FB11804C1B9', 'morris plains', 'nj', 'usa', '10-May-89', 'F']\n",
      "435    23      [Timestamp('2012-03-01 06:29:50'), 1330612190, '24.12.68.203', 'http://www.RL.com/product/4002', 0, 0.0, '1C9D500C-9BDF-4CCA-9D50-0C9BDF3CCA7B', 'chicago', 'il', 'usa', '3-Apr-90', 'M']\n",
      "436    23      [Timestamp('2012-03-01 06:29:50'), 1330612190, '24.12.68.203', 'http://www.RL.com/product/4005', 0, 0.0, '1C9D500C-9BDF-4CCA-9D50-0C9BDF3CCA7B', 'chicago', 'il', 'usa', '3-Apr-90', 'M']\n",
      "437    23      [Timestamp('2012-03-01 06:31:02'), 1330612262, '129.64.193.56', 'http://www.RL.com/review/3003', 0, 0.626263, '87024610-3C30-4D4A-AB47-23BD7ACF48B8', 'waltham', 'ma', 'usa', '14-Feb-87', 'M']\n",
      "438    23      [Timestamp('2012-03-01 06:32:12'), 1330612332, '129.64.193.56', 'http://www.RL.com/', 0, 0.0, '87024610-3C30-4D4A-AB47-23BD7ACF48B8', 'waltham', 'ma', 'usa', '14-Feb-87', 'M']\n"
     ]
    },
    {
     "name": "stderr",
     "output_type": "stream",
     "text": [
      "/home/ec2-user/anaconda3/envs/pytorch_p36/lib/python3.6/site-packages/sklearn/utils/validation.py:72: DataConversionWarning: A column-vector y was passed when a 1d array was expected. Please change the shape of y to (n_samples, ), for example using ravel().\n",
      "  return f(**kwargs)\n"
     ]
    },
    {
     "name": "stdout",
     "output_type": "stream",
     "text": [
      "[ExpiredIteratorException] Iterator expired.439    24      [Timestamp('2012-03-01 06:35:10'), 1330612510, '72.240.71.187', 'http://www.RL.com/', 0, 0.0, '358C33A6-5E46-47E9-853A-EA740B7DACCE', 'sylvania', 'oh', 'usa', '29-Aug-55', 'U']\n",
      "440    24      [Timestamp('2012-03-01 06:35:11'), 1330612511, '72.240.71.187', 'http://www.RL.com/', 0, 0.0, '358C33A6-5E46-47E9-853A-EA740B7DACCE', 'sylvania', 'oh', 'usa', '29-Aug-55', 'U']\n",
      "441    24      [Timestamp('2012-03-01 06:35:59'), 1330612559, '173.3.27.246', 'http://www.RL.com/product/4002', 0, 0.0, '4BCFEA82-2EED-42F4-9D6C-1FB11804C1B9', 'morris plains', 'nj', 'usa', '10-May-89', 'F']\n",
      "442    24      [Timestamp('2012-03-01 06:35:59'), 1330612559, '173.3.27.246', 'http://www.RL.com/review/3001', 0, 0.59596, '4BCFEA82-2EED-42F4-9D6C-1FB11804C1B9', 'morris plains', 'nj', 'usa', '10-May-89', 'F']\n",
      "443    24      [Timestamp('2012-03-01 06:36:12'), 1330612572, '72.240.71.187', 'http://www.RL.com/review/3002', 0, 0.727273, '358C33A6-5E46-47E9-853A-EA740B7DACCE', 'sylvania', 'oh', 'usa', '29-Aug-55', 'U']\n",
      "444    24      [Timestamp('2012-03-01 06:36:36'), 1330612596, '24.12.68.203', 'http://www.RL.com/product/4001', 0, 0.0, '1C9D500C-9BDF-4CCA-9D50-0C9BDF3CCA7B', 'chicago', 'il', 'usa', '3-Apr-90', 'M']\n",
      "445    24      [Timestamp('2012-03-01 06:36:45'), 1330612605, '173.3.27.246', 'http://www.RL.com/product/4004', 0, 1.0, '4BCFEA82-2EED-42F4-9D6C-1FB11804C1B9', 'morris plains', 'nj', 'usa', '10-May-89', 'F']\n",
      "446    24      [Timestamp('2012-03-01 06:36:45'), 1330612605, '173.3.27.246', 'http://www.RL.com/review/3004', 0, 0.0505051, '4BCFEA82-2EED-42F4-9D6C-1FB11804C1B9', 'morris plains', 'nj', 'usa', '10-May-89', 'F']\n",
      "447    24      [Timestamp('2012-03-01 06:37:42'), 1330612662, '129.64.193.56', 'http://www.RL.com/video/1002', 0, 0.626263, '87024610-3C30-4D4A-AB47-23BD7ACF48B8', 'waltham', 'ma', 'usa', '14-Feb-87', 'M']\n",
      "448    24      [Timestamp('2012-03-01 06:37:43'), 1330612663, '129.64.193.56', 'http://www.RL.com/reco/2002', 0, 0.636364, '87024610-3C30-4D4A-AB47-23BD7ACF48B8', 'waltham', 'ma', 'usa', '14-Feb-87', 'M']\n"
     ]
    },
    {
     "name": "stderr",
     "output_type": "stream",
     "text": [
      "/home/ec2-user/anaconda3/envs/pytorch_p36/lib/python3.6/site-packages/sklearn/utils/validation.py:72: DataConversionWarning: A column-vector y was passed when a 1d array was expected. Please change the shape of y to (n_samples, ), for example using ravel().\n",
      "  return f(**kwargs)\n"
     ]
    },
    {
     "name": "stdout",
     "output_type": "stream",
     "text": [
      "[ExpiredIteratorException] Iterator expired.449    24      [Timestamp('2012-03-01 06:38:31'), 1330612711, '129.64.193.56', 'http://www.RL.com/product/4005', 0, 0.0, '87024610-3C30-4D4A-AB47-23BD7ACF48B8', 'waltham', 'ma', 'usa', '14-Feb-87', 'M']\n",
      "450    24      [Timestamp('2012-03-01 06:38:32'), 1330612712, '129.64.193.56', 'http://www.RL.com/video/1001', 0, 0.12121199999999999, '87024610-3C30-4D4A-AB47-23BD7ACF48B8', 'waltham', 'ma', 'usa', '14-Feb-87', 'M']\n",
      "451    24      [Timestamp('2012-03-01 06:39:31'), 1330612771, '129.64.193.56', 'http://www.RL.com/', 0, 0.0, '87024610-3C30-4D4A-AB47-23BD7ACF48B8', 'waltham', 'ma', 'usa', '14-Feb-87', 'M']\n",
      "452    24      [Timestamp('2012-03-01 06:39:33'), 1330612773, '129.64.193.56', 'http://www.RL.com/review/3003', 0, 0.737374, '87024610-3C30-4D4A-AB47-23BD7ACF48B8', 'waltham', 'ma', 'usa', '14-Feb-87', 'M']\n",
      "453    24      [Timestamp('2012-03-01 06:39:44'), 1330612784, '129.64.193.56', 'http://www.RL.com/reco/2001', 0, 0.848485, '87024610-3C30-4D4A-AB47-23BD7ACF48B8', 'waltham', 'ma', 'usa', '14-Feb-87', 'M']\n",
      "454    24      [Timestamp('2012-03-01 06:39:59'), 1330612799, '129.64.193.56', 'http://www.RL.com/product/4001', 0, 0.0, '87024610-3C30-4D4A-AB47-23BD7ACF48B8', 'waltham', 'ma', 'usa', '14-Feb-87', 'M']\n",
      "455    24      [Timestamp('2012-03-01 06:41:01'), 1330612861, '174.66.200.70', 'http://www.RL.com/review/3004', 0, 0.616162, '01A1B45D-6C12-479C-817B-6279AE9AFCAB', 'rocky river', 'oh', 'usa', '29-Aug-71', 'U']\n",
      "456    24      [Timestamp('2012-03-01 06:41:46'), 1330612906, '174.66.200.70', 'http://www.RL.com/review/3002', 0, 0.0606061, '01A1B45D-6C12-479C-817B-6279AE9AFCAB', 'rocky river', 'oh', 'usa', '29-Aug-71', 'U']\n",
      "457    24      [Timestamp('2012-03-01 06:42:59'), 1330612979, '173.3.27.246', 'http://www.RL.com/', 0, 0.0, '4BCFEA82-2EED-42F4-9D6C-1FB11804C1B9', 'morris plains', 'nj', 'usa', '10-May-89', 'F']\n",
      "458    24      [Timestamp('2012-03-01 06:45:43'), 1330613143, '72.240.71.187', 'http://www.RL.com/product/4002', 0, 0.0, '358C33A6-5E46-47E9-853A-EA740B7DACCE', 'sylvania', 'oh', 'usa', '29-Aug-55', 'U']\n"
     ]
    },
    {
     "name": "stderr",
     "output_type": "stream",
     "text": [
      "/home/ec2-user/anaconda3/envs/pytorch_p36/lib/python3.6/site-packages/sklearn/utils/validation.py:72: DataConversionWarning: A column-vector y was passed when a 1d array was expected. Please change the shape of y to (n_samples, ), for example using ravel().\n",
      "  return f(**kwargs)\n"
     ]
    },
    {
     "name": "stdout",
     "output_type": "stream",
     "text": [
      "[ExpiredIteratorException] Iterator expired.459    24      [Timestamp('2012-03-01 06:45:43'), 1330613143, '72.240.71.187', 'http://www.RL.com/', 0, 0.0, '358C33A6-5E46-47E9-853A-EA740B7DACCE', 'sylvania', 'oh', 'usa', '29-Aug-55', 'U']\n",
      "460    24      [Timestamp('2012-03-01 06:46:45'), 1330613205, '72.240.71.187', 'http://www.RL.com/product/4002', 0, 0.0, '358C33A6-5E46-47E9-853A-EA740B7DACCE', 'sylvania', 'oh', 'usa', '29-Aug-55', 'U']\n",
      "461    24      [Timestamp('2012-03-01 06:46:46'), 1330613206, '72.240.71.187', 'http://www.RL.com/review/3005', 0, 0.0606061, '358C33A6-5E46-47E9-853A-EA740B7DACCE', 'sylvania', 'oh', 'usa', '29-Aug-55', 'U']\n",
      "462    24      [Timestamp('2012-03-01 06:47:15'), 1330613235, '129.64.193.56', 'http://www.RL.com/video/1001', 0, 0.353535, '87024610-3C30-4D4A-AB47-23BD7ACF48B8', 'waltham', 'ma', 'usa', '14-Feb-87', 'M']\n",
      "463    24      [Timestamp('2012-03-01 06:47:16'), 1330613236, '129.64.193.56', 'http://www.RL.com/product/4001', 0, 0.0, '87024610-3C30-4D4A-AB47-23BD7ACF48B8', 'waltham', 'ma', 'usa', '14-Feb-87', 'M']\n",
      "464    24      [Timestamp('2012-03-01 06:47:48'), 1330613268, '129.64.193.56', 'http://www.RL.com/', 0, 0.0, '87024610-3C30-4D4A-AB47-23BD7ACF48B8', 'waltham', 'ma', 'usa', '14-Feb-87', 'M']\n",
      "465    24      [Timestamp('2012-03-01 06:47:49'), 1330613269, '129.64.193.56', 'http://www.RL.com/', 0, 0.0, '87024610-3C30-4D4A-AB47-23BD7ACF48B8', 'waltham', 'ma', 'usa', '14-Feb-87', 'M']\n",
      "466    24      [Timestamp('2012-03-01 06:48:43'), 1330613323, '174.66.200.70', 'http://www.RL.com/review/3003', 0, 0.232323, '01A1B45D-6C12-479C-817B-6279AE9AFCAB', 'rocky river', 'oh', 'usa', '29-Aug-71', 'U']\n",
      "467    24      [Timestamp('2012-03-01 06:48:44'), 1330613324, '174.66.200.70', 'http://www.RL.com/reco/2001', 0, 0.24242399999999997, '01A1B45D-6C12-479C-817B-6279AE9AFCAB', 'rocky river', 'oh', 'usa', '29-Aug-71', 'U']\n",
      "468    24      [Timestamp('2012-03-01 06:49:09'), 1330613349, '173.3.27.246', 'http://www.RL.com/reco/2001', 0, 0.494949, '4BCFEA82-2EED-42F4-9D6C-1FB11804C1B9', 'morris plains', 'nj', 'usa', '10-May-89', 'F']\n"
     ]
    },
    {
     "name": "stderr",
     "output_type": "stream",
     "text": [
      "/home/ec2-user/anaconda3/envs/pytorch_p36/lib/python3.6/site-packages/sklearn/utils/validation.py:72: DataConversionWarning: A column-vector y was passed when a 1d array was expected. Please change the shape of y to (n_samples, ), for example using ravel().\n",
      "  return f(**kwargs)\n"
     ]
    },
    {
     "name": "stdout",
     "output_type": "stream",
     "text": [
      "[ExpiredIteratorException] Iterator expired.469    24      [Timestamp('2012-03-01 06:49:09'), 1330613349, '173.3.27.246', 'http://www.RL.com/review/3003', 0, 0.494949, '4BCFEA82-2EED-42F4-9D6C-1FB11804C1B9', 'morris plains', 'nj', 'usa', '10-May-89', 'F']\n",
      "470    25      [Timestamp('2012-03-01 06:50:11'), 1330613411, '173.3.27.246', 'http://www.RL.com/', 0, 0.0, '4BCFEA82-2EED-42F4-9D6C-1FB11804C1B9', 'morris plains', 'nj', 'usa', '10-May-89', 'F']\n",
      "471    25      [Timestamp('2012-03-01 06:53:10'), 1330613590, '72.240.71.187', 'http://www.RL.com/', 0, 0.0, '358C33A6-5E46-47E9-853A-EA740B7DACCE', 'sylvania', 'oh', 'usa', '29-Aug-55', 'U']\n",
      "472    25      [Timestamp('2012-03-01 06:53:10'), 1330613590, '72.240.71.187', 'http://www.RL.com/', 0, 0.0, '358C33A6-5E46-47E9-853A-EA740B7DACCE', 'sylvania', 'oh', 'usa', '29-Aug-55', 'U']\n",
      "473    25      [Timestamp('2012-03-01 06:54:29'), 1330613669, '72.240.71.187', 'http://www.RL.com/product/4001', 1, 0.0, '358C33A6-5E46-47E9-853A-EA740B7DACCE', 'sylvania', 'oh', 'usa', '29-Aug-55', 'U']\n",
      "474    25      [Timestamp('2012-03-01 06:55:06'), 1330613706, '72.240.71.187', 'http://www.RL.com/product/4001', 0, 0.0, '358C33A6-5E46-47E9-853A-EA740B7DACCE', 'sylvania', 'oh', 'usa', '29-Aug-55', 'U']\n",
      "475    25      [Timestamp('2012-03-01 06:55:14'), 1330613714, '173.3.27.246', 'http://www.RL.com/product/4002', 0, 0.0, '4BCFEA82-2EED-42F4-9D6C-1FB11804C1B9', 'morris plains', 'nj', 'usa', '10-May-89', 'F']\n",
      "476    25      [Timestamp('2012-03-01 06:55:14'), 1330613714, '173.3.27.246', 'http://www.RL.com/reco/2001', 0, 0.141414, '4BCFEA82-2EED-42F4-9D6C-1FB11804C1B9', 'morris plains', 'nj', 'usa', '10-May-89', 'F']\n",
      "477    25      [Timestamp('2012-03-01 06:55:39'), 1330613739, '174.66.200.70', 'http://www.RL.com/', 0, 0.0, '01A1B45D-6C12-479C-817B-6279AE9AFCAB', 'rocky river', 'oh', 'usa', '29-Aug-71', 'U']\n",
      "478    25      [Timestamp('2012-03-01 06:55:40'), 1330613740, '174.66.200.70', 'http://www.RL.com/', 0, 0.0, '01A1B45D-6C12-479C-817B-6279AE9AFCAB', 'rocky river', 'oh', 'usa', '29-Aug-71', 'U']\n"
     ]
    },
    {
     "name": "stderr",
     "output_type": "stream",
     "text": [
      "/home/ec2-user/anaconda3/envs/pytorch_p36/lib/python3.6/site-packages/sklearn/utils/validation.py:72: DataConversionWarning: A column-vector y was passed when a 1d array was expected. Please change the shape of y to (n_samples, ), for example using ravel().\n",
      "  return f(**kwargs)\n"
     ]
    },
    {
     "name": "stdout",
     "output_type": "stream",
     "text": [
      "[ExpiredIteratorException] Iterator expired.479    25      [Timestamp('2012-03-01 06:56:40'), 1330613800, '174.66.200.70', 'http://www.RL.com/product/4002', 0, 0.0, '01A1B45D-6C12-479C-817B-6279AE9AFCAB', 'rocky river', 'oh', 'usa', '29-Aug-71', 'U']\n",
      "480    25      [Timestamp('2012-03-01 06:56:41'), 1330613801, '174.66.200.70', 'http://www.RL.com/', 0, 0.0, '01A1B45D-6C12-479C-817B-6279AE9AFCAB', 'rocky river', 'oh', 'usa', '29-Aug-71', 'U']\n",
      "481    25      [Timestamp('2012-03-01 06:56:57'), 1330613817, '173.3.27.246', 'http://www.RL.com/', 0, 0.0, '4BCFEA82-2EED-42F4-9D6C-1FB11804C1B9', 'morris plains', 'nj', 'usa', '10-May-89', 'F']\n",
      "482    25      [Timestamp('2012-03-01 07:01:35'), 1330614095, '174.66.200.70', 'http://www.RL.com/product/4003', 0, 0.0, '01A1B45D-6C12-479C-817B-6279AE9AFCAB', 'rocky river', 'oh', 'usa', '29-Aug-71', 'U']\n",
      "483    25      [Timestamp('2012-03-01 07:02:41'), 1330614161, '71.184.182.146', 'http://www.RL.com/reco/2001', 0, 0.616162, 'C03A5C56-6F07-11D3-BE5B-00A0C9E5C87D', 'cambridge', 'ma', 'usa', '31-Mar-76', 'F']\n",
      "484    25      [Timestamp('2012-03-01 07:02:51'), 1330614171, '71.184.182.146', 'http://www.RL.com/product/4004', 0, 0.0, 'C03A5C56-6F07-11D3-BE5B-00A0C9E5C87D', 'cambridge', 'ma', 'usa', '31-Mar-76', 'F']\n",
      "485    25      [Timestamp('2012-03-01 07:02:54'), 1330614174, '71.184.182.146', 'http://www.RL.com/product/4005', 0, 0.0, 'C03A5C56-6F07-11D3-BE5B-00A0C9E5C87D', 'cambridge', 'ma', 'usa', '31-Mar-76', 'F']\n",
      "486    25      [Timestamp('2012-03-01 07:03:24'), 1330614204, '71.184.182.146', 'http://www.RL.com/product/4002', 0, 0.0, 'C03A5C56-6F07-11D3-BE5B-00A0C9E5C87D', 'cambridge', 'ma', 'usa', '31-Mar-76', 'F']\n",
      "487    25      [Timestamp('2012-03-01 07:05:34'), 1330614334, '173.3.27.246', 'http://www.RL.com/video/1001', 0, 0.343434, '4BCFEA82-2EED-42F4-9D6C-1FB11804C1B9', 'morris plains', 'nj', 'usa', '10-May-89', 'F']\n",
      "488    26      [Timestamp('2012-03-01 07:09:52'), 1330614592, '71.184.182.146', 'http://www.RL.com/video/1003', 0, 0.929293, 'C03A5C56-6F07-11D3-BE5B-00A0C9E5C87D', 'cambridge', 'ma', 'usa', '31-Mar-76', 'F']\n"
     ]
    },
    {
     "name": "stderr",
     "output_type": "stream",
     "text": [
      "/home/ec2-user/anaconda3/envs/pytorch_p36/lib/python3.6/site-packages/sklearn/utils/validation.py:72: DataConversionWarning: A column-vector y was passed when a 1d array was expected. Please change the shape of y to (n_samples, ), for example using ravel().\n",
      "  return f(**kwargs)\n"
     ]
    },
    {
     "name": "stdout",
     "output_type": "stream",
     "text": [
      "[ExpiredIteratorException] Iterator expired.489    26      [Timestamp('2012-03-01 07:11:07'), 1330614667, '71.184.182.146', 'http://www.RL.com/product/4003', 0, 0.0, 'C03A5C56-6F07-11D3-BE5B-00A0C9E5C87D', 'cambridge', 'ma', 'usa', '31-Mar-76', 'F']\n",
      "490    26      [Timestamp('2012-03-01 07:11:16'), 1330614676, '98.26.88.108', 'http://www.RL.com/', 0, 0.0, '4633A9A5-FAC1-4ADF-AB62-C686FAEBCDAC', 'raleigh', 'nc', 'usa', '15-Apr-84', 'M']\n",
      "491    26      [Timestamp('2012-03-01 07:11:22'), 1330614682, '98.26.88.108', 'http://www.RL.com/product/4005', 0, 0.0, '4633A9A5-FAC1-4ADF-AB62-C686FAEBCDAC', 'raleigh', 'nc', 'usa', '15-Apr-84', 'M']\n",
      "492    26      [Timestamp('2012-03-01 07:11:54'), 1330614714, '98.26.88.108', 'http://www.RL.com/video/1001', 0, 0.141414, '4633A9A5-FAC1-4ADF-AB62-C686FAEBCDAC', 'raleigh', 'nc', 'usa', '15-Apr-84', 'M']\n",
      "493    26      [Timestamp('2012-03-01 07:11:54'), 1330614714, '98.26.88.108', 'http://www.RL.com/', 0, 0.0, '4633A9A5-FAC1-4ADF-AB62-C686FAEBCDAC', 'raleigh', 'nc', 'usa', '15-Apr-84', 'M']\n",
      "494    26      [Timestamp('2012-03-01 07:12:04'), 1330614724, '98.26.88.108', 'http://www.RL.com/', 0, 0.0, '4633A9A5-FAC1-4ADF-AB62-C686FAEBCDAC', 'raleigh', 'nc', 'usa', '15-Apr-84', 'M']\n",
      "495    26      [Timestamp('2012-03-01 07:17:25'), 1330615045, '99.47.105.38', 'http://www.RL.com/', 0, 0.0, 'AA98B8B0-DD7E-11D4-820F-00A0C9E58E2D', 'cleveland', 'oh', 'usa', '20-May-66', 'M']\n",
      "496    26      [Timestamp('2012-03-01 07:17:31'), 1330615051, '64.22.55.71', 'http://www.RL.com/product/4003', 1, 0.0, '519812AE-00F3-4008-B607-7961BA45ACB9', 'addison', 'ny', 'usa', '11-Oct-87', 'M']\n",
      "497    26      [Timestamp('2012-03-01 07:18:15'), 1330615095, '99.47.105.38', 'http://www.RL.com/review/3003', 0, 0.9595959999999999, 'AA98B8B0-DD7E-11D4-820F-00A0C9E58E2D', 'cleveland', 'oh', 'usa', '20-May-66', 'M']\n",
      "498    26      [Timestamp('2012-03-01 07:19:50'), 1330615190, '71.184.182.146', 'http://www.RL.com/review/3004', 0, 0.909091, 'C03A5C56-6F07-11D3-BE5B-00A0C9E5C87D', 'cambridge', 'ma', 'usa', '31-Mar-76', 'F']\n"
     ]
    },
    {
     "name": "stderr",
     "output_type": "stream",
     "text": [
      "/home/ec2-user/anaconda3/envs/pytorch_p36/lib/python3.6/site-packages/sklearn/utils/validation.py:72: DataConversionWarning: A column-vector y was passed when a 1d array was expected. Please change the shape of y to (n_samples, ), for example using ravel().\n",
      "  return f(**kwargs)\n"
     ]
    },
    {
     "name": "stdout",
     "output_type": "stream",
     "text": [
      "[ExpiredIteratorException] Iterator expired.499    26      [Timestamp('2012-03-01 07:19:51'), 1330615191, '71.184.182.146', 'http://www.RL.com/video/1001', 0, 0.919192, 'C03A5C56-6F07-11D3-BE5B-00A0C9E5C87D', 'cambridge', 'ma', 'usa', '31-Mar-76', 'F']\n"
     ]
    }
   ],
   "source": [
    "check_data = []\n",
    "sch = sched.scheduler(time.time, time.sleep)\n",
    "for i in range(r_css_sorted.shape[0]):\n",
    "    duration = int((r_css_sorted.iloc[i]['timestamp'] - r_css_sorted.iloc[0]['timestamp']).seconds)\n",
    "    duration = round(duration/1000)\n",
    "    sch.enter(duration, 1, data_list, kwargs={'index': i, 'duration' : duration, 'check_data' : check_data})\n",
    "\n",
    "    if (i+1) % 10 == 0:\n",
    "        ts_data = pd.DataFrame(check_data, columns=['timestamp', 'clickstream_id', 'ip_address', 'url', 'is_purchased',\n",
    "       'is_page_errored', 'user_session_id', 'city', 'state', 'country',\n",
    "       'BIRTH_DT', 'GENDER_CD'])\n",
    "        input_df = np.round(mapper.fit_transform(ts_data),2)\n",
    "        input_df = pd.concat([ts_data['timestamp'], input_df], axis=1)\n",
    "        response = kinesis_client.describe_stream(StreamName=data_stream[1])\n",
    "        shardId = response[\"StreamDescription\"][\"Shards\"][0][\"ShardId\"]\n",
    "        response = kinesis_client.get_shard_iterator(StreamName=data_stream[1],\n",
    "                                            ShardId=shardId,\n",
    "                                            ShardIteratorType=\"LATEST\")\n",
    "        shardIterator = response[\"ShardIterator\"]\n",
    "        \n",
    "        kinesis_data = {}\n",
    "        rnd=random.random()\n",
    "        col_names = input_df.keys().to_list()\n",
    "        for i, idx in enumerate(input_df.index):\n",
    "            kinesis_data = json.dumps(make_kinesis_data(input_df, idx, col_names))\n",
    "            kinesis_client.put_record(\n",
    "                StreamName=data_stream[0],\n",
    "                Data=kinesis_data,\n",
    "                PartitionKey=str(rnd)\n",
    "            )\n",
    "        check_data = []\n",
    "        time.sleep(3)\n",
    "        s3_sink(shardIterator)\n",
    "        \n",
    "    if i == total_cnt:\n",
    "        break\n",
    "    sch.run()"
   ]
  },
  {
   "cell_type": "code",
   "execution_count": null,
   "metadata": {},
   "outputs": [],
   "source": [
    "kinesis_analytics.stop_application(ApplicationName=kinesis_ApplicationName)\n",
    "\n",
    "# Wait until application stops running\n",
    "response = kinesis_analytics.describe_application(\n",
    "    ApplicationName=kinesis_ApplicationName\n",
    ")\n",
    "status = response[\"ApplicationDetail\"][\"ApplicationStatus\"]\n",
    "sys.stdout.write('Stopping ')\n",
    "\n",
    "while status != \"READY\":\n",
    "    sys.stdout.write('.')\n",
    "    sys.stdout.flush()\n",
    "    time.sleep(1)\n",
    "    response = kinesis_analytics.describe_application(\n",
    "        ApplicationName=kinesis_ApplicationName\n",
    "    )\n",
    "    status = response[\"ApplicationDetail\"][\"ApplicationStatus\"]\n",
    "\n",
    "sys.stdout.write(os.linesep)"
   ]
  },
  {
   "cell_type": "code",
   "execution_count": null,
   "metadata": {},
   "outputs": [],
   "source": []
  },
  {
   "cell_type": "code",
   "execution_count": null,
   "metadata": {},
   "outputs": [],
   "source": []
  }
 ],
 "metadata": {
  "kernelspec": {
   "display_name": "conda_pytorch_p36",
   "language": "python",
   "name": "conda_pytorch_p36"
  },
  "language_info": {
   "codemirror_mode": {
    "name": "ipython",
    "version": 3
   },
   "file_extension": ".py",
   "mimetype": "text/x-python",
   "name": "python",
   "nbconvert_exporter": "python",
   "pygments_lexer": "ipython3",
   "version": "3.6.10"
  }
 },
 "nbformat": 4,
 "nbformat_minor": 4
}
